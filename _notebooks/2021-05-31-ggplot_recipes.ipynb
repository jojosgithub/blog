{
  "cells": [
    {
      "cell_type": "markdown",
      "source": [
        "# GGplot Recipes\n",
        "Recipes for Explodatory Data Analysis by means of plots\n",
        "\n",
        "- toc: true \n",
        "- badges: true\n",
        "- comments: false\n",
        "- categories: [r]\n"
      ],
      "metadata": {}
    },
    {
      "cell_type": "code",
      "source": [
        "# loading libraries\n",
        "library(ggplot2)\n",
        "library(gridExtra)\n",
        "library(data.table)\n",
        "library(RColorBrewer)\n",
        "library(ggpubr)\n",
        "library(rstatix)\n",
        "library(ggrepel)\n",
        "\n",
        "\n",
        "\n",
        "genDataset <- function(number_of_rows,means,sds)\n",
        "{\n",
        "l <- length(means)\n",
        "res <- lapply(seq(1:l),function(x) eval(parse(text=paste(\"rnorm(\",number_of_rows,\",\",means[x],\")\",sep=\"\")))) \n",
        "data.frame((sapply(res,c)))\n",
        "return(res)\n",
        "}\n",
        "\n",
        "dat <- genDataset(number_of_rows=100,means=c(90,100,105,105,101,103),sds=c(30,20,25,30,30,30))\n",
        "dat <- data.frame((sapply(dat,c)))\n",
        "id <- rownames(dat)\n",
        "dat <-  cbind(id=id,dat)\n",
        "dt <- data.table(dat)\n",
        "#we rearrange our table using melt\n",
        "dt.melt <- melt(dt)\n",
        "colnames(dt.melt) <- c(\"id\",\"category\",\"var1\")\n",
        "\n",
        "\n",
        "base <- ggplot(dt.melt, aes(x=category, y=var1)) +\n",
        "\t\tlabs(title = \"Title\",\n",
        "\t\t\t x     = \"xaxis lab\",\n",
        "             y     = \"yaxis lab\",\n",
        "             subtitle = \"subtitle\",\n",
        "             tag = \"a\")     \t\t\t\t +\n",
        "\t\t     theme_classic(base_size = 14)\t\t +\n",
        "\t\t\t theme(legend.position = \"none\",\n",
        "\t\t\t axis.text.x = element_text(size=14,face=\"bold\"),\n",
        "\t\t\t axis.text.y = element_text(size=14,face=\"bold\"))\n",
        "\t\t\t \n",
        "pv  <- base + geom_jitter(\n",
        "\t\t\t position = position_jitter(0.15),\n",
        "\t\t\t alpha=0.5,, size = 3) \n",
        "\n",
        "ph  <- pv + coord_flip() \n",
        "pvc <- pv + aes(shape = category)\t\t\t\n",
        "phc <- pvc + coord_flip() \n",
        "\n",
        "pv_grey \t   <- pv + aes(color = category) + \tscale_color_grey()\n",
        "pv_sequential  <- pv + aes(color = category) + \tscale_color_brewer(palette=\"Reds\")\n",
        "pv_diverging   <- pv + aes(color = category) + \tscale_color_brewer(palette=\"RdGy\")\n",
        "pv_qualitative <- pv + aes(color = category) + \tscale_color_brewer(palette=\"RdYlBu\")\n",
        "\n",
        "ph_grey \t   <- ph + aes(color = category) + \tscale_color_grey()\n",
        "ph_sequential  <- ph + aes(color = category) + \tscale_color_brewer(palette=\"Reds\")\n",
        "ph_diverging   <- ph + aes(color = category) + \tscale_color_brewer(palette=\"RdGy\")\n",
        "ph_qualitative <- ph + aes(color = category) + \tscale_color_brewer(palette=\"RdYlBu\")\n",
        "\n",
        "pvc_grey \t   <- pvc + aes(color = category) + \tscale_color_grey()\n",
        "pvc_sequential  <- pvc + aes(color = category) + \tscale_color_brewer(palette=\"Reds\")\n",
        "pvc_diverging   <- pvc + aes(color = category) + \tscale_color_brewer(palette=\"RdGy\")\n",
        "pvc_qualitative <- pvc + aes(color = category) + \tscale_color_brewer(palette=\"RdYlBu\")\n",
        "\n",
        "\n",
        "phc_grey \t   <- phc + aes(color = category) + \tscale_color_grey()\n",
        "phc_sequential  <- phc + aes(color = category) + \tscale_color_brewer(palette=\"Reds\")\n",
        "phc_diverging   <- phc + aes(color = category) + \tscale_color_brewer(palette=\"RdGy\")\n",
        "phc_qualitative <- phc + aes(color = category) + \tscale_color_brewer(palette=\"RdYlBu\")\n",
        "\n",
        "\n",
        "pg10 <-  grid.arrange(pv_grey,pv_sequential, ncol = 2,nrow = 1)\n",
        "pg11 <-  grid.arrange(pv_diverging,pv_qualitative, ncol = 2,nrow = 1)\n",
        "pg20 <-  grid.arrange(pvc_grey,pvc_sequential, ncol = 2,nrow = 1)\n",
        "pg21 <-  grid.arrange(pvc_diverging,pvc_qualitative, ncol = 2,nrow = 1)\n",
        "pg30 <-  grid.arrange(ph_grey,ph_sequential, ncol = 2,nrow = 1)\n",
        "pg31 <-  grid.arrange(ph_diverging,ph_qualitative, ncol = 2,nrow = 1)\n",
        "pg40 <-  grid.arrange(phc_grey,pvc_sequential, ncol = 2,nrow = 1)\n",
        "pg41 <-  grid.arrange(phc_diverging,phc_qualitative, ncol = 2,nrow = 1)"
      ],
      "outputs": [],
      "execution_count": null,
      "metadata": {
        "collapsed": true,
        "jupyter": {
          "source_hidden": false,
          "outputs_hidden": false
        },
        "nteract": {
          "transient": {
            "deleting": false
          }
        },
        "execution": {
          "iopub.status.busy": "2021-05-31T18:22:07.477Z",
          "iopub.execute_input": "2021-05-31T18:22:07.502Z",
          "iopub.status.idle": "2021-05-31T18:22:19.895Z",
          "shell.execute_reply": "2021-05-31T18:22:19.890Z"
        }
      }
    }
  ],
  "metadata": {
    "kernelspec": {
      "name": "ir",
      "language": "R",
      "display_name": "R"
    },
    "kernel_info": {
      "name": "ir"
    },
    "language_info": {
      "name": "R",
      "codemirror_mode": "r",
      "pygments_lexer": "r",
      "mimetype": "text/x-r-source",
      "file_extension": ".r",
      "version": "4.0.2"
    },
    "title": "VegaLite for R",
    "nteract": {
      "version": "0.28.0"
    }
  },
  "nbformat": 4,
  "nbformat_minor": 4
}