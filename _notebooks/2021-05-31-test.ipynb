{
  "cells": [
    {
      "cell_type": "markdown",
      "source": [
        "# DOE\n",
        "\n",
        "Tables for Design of Experiment\n",
        "\n",
        "- toc: true \n",
        "- badges: true\n",
        "- comments: false\n",
        "- categories: [r]\n"
      ],
      "metadata": {}
    },
    {
      "cell_type": "markdown",
      "source": [
        "- Same as above but shorter "
      ],
      "metadata": {
        "nteract": {
          "transient": {
            "deleting": false
          }
        }
      }
    },
    {
      "cell_type": "code",
      "source": [
        "# loading libraries\n",
        "library(dplyr)\n",
        "library(rsm)\n",
        "library(FrF2)\n",
        "\n",
        "#Full Factorial n=2 2 levels\n",
        "ff2x2 <- expand.grid(A = c(\"+\", \"-\"), B = c(\"+\", \"-\"))\n",
        "ff2x2\n",
        "#Full Factorial n=3\n",
        "ff3x2 <- expand.grid(A = c(\"+\", \"-\"), B = c(\"+\", \"-\"),\n",
        "                     C = c(\"+\", \"-\"))\n",
        "#Full Factorial n=4\n",
        "ff4x2 <-expand.grid(A = c(\"+\", \"-\"), B = c(\"+\", \"-\"), \n",
        "                    C = c(\"+\", \"-\"), D = c(\"+\", \"-\"))\n",
        "#Full Factorial n=5\n",
        "ff5x2 <- expand.grid(A = c(\"+\", \"-\"), B = c(\"+\", \"-\"), \n",
        "                     C = c(\"+\", \"-\"),D = c(\"+\", \"-\"),\n",
        "                     E= c(\"+\",\"-\"))"
      ],
      "outputs": [],
      "execution_count": null,
      "metadata": {
        "collapsed": true,
        "jupyter": {
          "source_hidden": false,
          "outputs_hidden": false
        },
        "nteract": {
          "transient": {
            "deleting": false
          }
        },
        "execution": {
          "iopub.status.busy": "2021-05-31T08:44:58.036Z",
          "iopub.execute_input": "2021-05-31T08:44:58.042Z",
          "iopub.status.idle": "2021-05-31T08:44:58.065Z",
          "shell.execute_reply": "2021-05-31T08:44:58.078Z"
        }
      }
    }
  ],
  "metadata": {
    "kernelspec": {
      "name": "ir",
      "language": "R",
      "display_name": "R"
    },
    "kernel_info": {
      "name": "ir"
    },
    "language_info": {
      "name": "R",
      "codemirror_mode": "r",
      "pygments_lexer": "r",
      "mimetype": "text/x-r-source",
      "file_extension": ".r",
      "version": "4.0.2"
    },
    "title": "VegaLite for R",
    "nteract": {
      "version": "0.28.0"
    }
  },
  "nbformat": 4,
  "nbformat_minor": 4
}