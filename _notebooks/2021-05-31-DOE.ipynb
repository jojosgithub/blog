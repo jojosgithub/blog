{
  "cells": [
    {
      "cell_type": "markdown",
      "source": [
        "# DOE Tables\n",
        "\n",
        "\n",
        "\n",
        "- toc: true \n",
        "- badges: true\n",
        "- comments: false\n",
        "- categories: [r][doe][design of experiments]\n"
      ],
      "metadata": {}
    },
    {
      "cell_type": "code",
      "source": [
        "## loading libraries\n",
        "library(dplyr)\n",
        "library(rsm)\n",
        "library(FrF2)\n",
        "\n",
        "#Full Factorial n=2 2 levels\n",
        "ff2x2 <- expand.grid(A = c(\"+\", \"-\"), B = c(\"+\", \"-\"))\n",
        "ff2x2\n",
        "#Full Factorial n=3\n",
        "ff3x2 <- expand.grid(A = c(\"+\", \"-\"), B = c(\"+\", \"-\"),\n",
        "                     C = c(\"+\", \"-\"))\n",
        "#Full Factorial n=4\n",
        "ff4x2 <-expand.grid(A = c(\"+\", \"-\"), B = c(\"+\", \"-\"), \n",
        "                    C = c(\"+\", \"-\"), D = c(\"+\", \"-\"))\n",
        "#Full Factorial n=5\n",
        "ff5x2 <- expand.grid(A = c(\"+\", \"-\"), B = c(\"+\", \"-\"), \n",
        "                     C = c(\"+\", \"-\"),D = c(\"+\", \"-\"),\n",
        "                     E= c(\"+\",\"-\"))\n",
        "#Fractional Factorial nfactor=4, nruns=8\n",
        "frfr4x8runs <- FrF2(nruns=8,nfactors=4)\n",
        "frfr4x8runs \n",
        "#Fractional Factorial nfactor=5, nruns=16\n",
        "frfr5x16runs <- FrF2(nruns=16,nfactors=5)\n",
        "frfr5x16runs\n",
        "#Fractional  Factorial nfactor=6, nruns=32\n",
        "frfr6x32runs <- FrF2(nruns=32,nfactors=6)\n",
        "frfr6x32runs\n",
        "#Fractional  Factorial nfactor=7, nruns=64\n",
        "frfr7x16runs <- FrF2(nruns=32,nfactors=7)\n",
        "frfr7x16runs\n",
        "\n",
        "#Plackett-Burman 8\n",
        "placket_burman8 <- pb(8)\n",
        "placket_burman8 \n",
        "#Plackett-Burman 12\n",
        "placket_burman12 <- pb(12)\n",
        "placket_burman12\n",
        "#Plackett-Burman 16\n",
        "placket_burman16 <- pb(16)\n",
        "placket_burman16 \n",
        "#Plackett-Burman 20\n",
        "placket_burman20 <- pb(20)\n",
        "placket_burman20 \n"
      ],
      "outputs": [],
      "execution_count": null,
      "metadata": {
        "collapsed": true,
        "jupyter": {
          "source_hidden": false,
          "outputs_hidden": false
        },
        "nteract": {
          "transient": {
            "deleting": false
          }
        },
        "execution": {
          "iopub.status.busy": "2021-05-31T13:27:15.031Z",
          "iopub.execute_input": "2021-05-31T13:27:15.041Z",
          "shell.execute_reply": "2021-05-31T13:27:16.364Z",
          "iopub.status.idle": "2021-05-31T13:27:16.353Z"
        }
      }
    }
  ],
  "metadata": {
    "kernelspec": {
      "name": "ir",
      "language": "R",
      "display_name": "R"
    },
    "kernel_info": {
      "name": "ir"
    },
    "language_info": {
      "name": "R",
      "codemirror_mode": "r",
      "pygments_lexer": "r",
      "mimetype": "text/x-r-source",
      "file_extension": ".r",
      "version": "4.0.2"
    },
    "title": "VegaLite for R",
    "nteract": {
      "version": "0.28.0"
    }
  },
  "nbformat": 4,
  "nbformat_minor": 4
}