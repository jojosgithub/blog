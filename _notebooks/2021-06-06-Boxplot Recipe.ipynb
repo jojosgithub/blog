{
  "cells": [
    {
      "cell_type": "markdown",
      "source": [
        "# Base Boxplot for EDA\n",
        "Recipes for Explodatory Data Analysis by means of plots\n",
        "\n",
        "- toc: true \n",
        "- badges: true\n",
        "- comments: false\n",
        "- categories: [r,ggplot,recipes]\n"
      ],
      "metadata": {}
    },
    {
      "cell_type": "markdown",
      "source": [
        "*TOC*\r\n",
        "* write a function for generating data\r\n",
        "* use melt for rearranging data\r\n",
        "* create a base plot \r\n",
        "* add a boxplot to the base plot\r\n",
        "* add a jiiter plot to the base plot\r\n",
        "* write a function to automatically select points based on a custom filter\r\n",
        "* perform a t.test on data and use ggpubr to add brackets to a boxplot \r\n",
        "\r\n"
      ],
      "metadata": {
        "nteract": {
          "transient": {
            "deleting": false
          }
        }
      }
    },
    {
      "cell_type": "code",
      "source": [
        "\n",
        "#+++++++°+++++++++°+++++++++°+++++++++°+++++++++°+++++++++°+++++++++°+++++++++°\n",
        "#  loading required libraries for this notebook\n",
        "#+++++++°+++++++++°+++++++++°+++++++++°+++++++++°+++++++++°+++++++++°+++++++++°\n",
        "\n",
        "#loading libraries\n",
        "\n",
        "library(ggplot2)\n",
        "library(gridExtra)\n",
        "library(data.table)\n",
        "library(RColorBrewer)\n",
        "library(ggpubr)\n",
        "library(rstatix, warn.conflicts = FALSE)\n",
        "library(ggrepel)\n",
        "library(ggpubr)\n"
      ],
      "outputs": [],
      "execution_count": 1,
      "metadata": {
        "collapsed": true,
        "jupyter": {
          "source_hidden": false,
          "outputs_hidden": false
        },
        "nteract": {
          "transient": {
            "deleting": false
          }
        },
        "execution": {
          "iopub.status.busy": "2021-06-07T07:24:33.309Z",
          "iopub.execute_input": "2021-06-07T07:24:33.313Z",
          "iopub.status.idle": "2021-06-07T07:24:34.622Z",
          "shell.execute_reply": "2021-06-07T07:24:34.612Z"
        }
      }
    },
    {
      "cell_type": "code",
      "source": [
        "#+++++++°+++++++++°+++++++++°+++++++++°+++++++++°+++++++++°+++++++++°+++++++++°\n",
        "#\tcreating a function for generating a dataset\n",
        "#+++++++°+++++++++°+++++++++°+++++++++°+++++++++°+++++++++°+++++++++°+++++++++°\n",
        "\n",
        "# function for generating data with custom number of rows, means and sds\n",
        "\n",
        "simpleDataset <- function(number_of_rows,means,sds)\n",
        "{\n",
        "l <- length(means)\n",
        "res <- lapply(seq(1:l),function(x) \n",
        "\t   eval(\n",
        "\t   parse(\n",
        "\t   text=paste(\"rnorm(\",number_of_rows,\",\",means[x],\",\",sds[x],\")\",sep=\"\"))\n",
        "\t   )\n",
        "\t   ) \n",
        "dat <- data.frame((sapply(res,c)))\n",
        "id <- rownames(dat)\n",
        "dat <-  cbind(id=id,dat)\n",
        "dt <- data.table(dat)\n",
        "return(dt)\n",
        "}\n",
        "\n",
        "dat1 <- simpleDataset(number_of_rows=30,\n",
        "\t\t\t\t\t  means=c(180,200,205),\n",
        "\t\t\t\t      sds=c(70,50,65))\n",
        "\t\t\t\t  \n",
        "dat2 <- simpleDataset(number_of_rows=30,\n",
        "\t\t\t\t\t  means=c(180,200,205),\n",
        "\t\t\t\t      sds=c(85,45,35))\n",
        "\t\t\t\t\t  \n",
        "dat <-  rbind(dat1,dat2)\n",
        "\n",
        "# rearranging table using melt from data.table \n",
        "\n",
        "dt.melt <- melt(dat, id.vars=\"id\")\n",
        "colnames(dt.melt) <- c(\"id\",\"category\",\"var1\")\n",
        "dt.melt$ncat <- as.numeric(dt.melt$category)\n",
        "\n",
        "#calculating statistics for adding brackets\n",
        "\n",
        "stat.test <- dt.melt %>% t_test(var1 ~ ncat)\n",
        "max_y <- round(max(dt.melt$var1))"
      ],
      "outputs": [],
      "execution_count": 2,
      "metadata": {
        "collapsed": true,
        "jupyter": {
          "source_hidden": false,
          "outputs_hidden": false
        },
        "nteract": {
          "transient": {
            "deleting": false
          }
        },
        "execution": {
          "iopub.status.busy": "2021-06-07T07:24:34.629Z",
          "iopub.execute_input": "2021-06-07T07:24:34.648Z",
          "iopub.status.idle": "2021-06-07T07:24:34.892Z",
          "shell.execute_reply": "2021-06-07T07:24:34.880Z"
        }
      }
    },
    {
      "cell_type": "code",
      "source": [
        "\n",
        "#+++++++°+++++++++°+++++++++°+++++++++°+++++++++°+++++++++°+++++++++°+++++++++°\n",
        "#\tbase plot settings\t\t\t\t\t\t\t\t   \n",
        "#+++++++°+++++++++°+++++++++°+++++++++°+++++++++°+++++++++°+++++++++°+++++++++°\n",
        "\n",
        "# IRKernel had a default output size of 7 x 7 inches and a resolution of 120 \n",
        "# dpi each cell can have its own settings\n",
        "# Keep in mind that if you would like to increase your dpi to get higher \n",
        "# quality # for printing, on screen your images will \"look larger\" \n",
        "# using the default settings like to have a base size of 24 in order to have\n",
        "# big readable labels \n",
        "\n",
        "options(repr.plot.width=7, repr.plot.height=7)\n",
        "\n",
        "base <- ggplot(dt.melt, \n",
        "\t\t\t   aes(x=factor(ncat),\n",
        "\t\t\t       y=var1,\n",
        "\t\t\t\t   shape=category),\n",
        "\t\t\t\t   )\t\t\t\t\t\t\t\t+\t\n",
        "\t\t\t\tlabs(title = \"ggplot\",\n",
        "\t\t\t\t    x\t\t   = \"xlab\",\n",
        "\t\t\t\t\ty          = \"ylab\",\n",
        "\t\t\t\t\tsubtitle = \"subtitle\",\n",
        "\t\t\t\t\ttag = \"Fig.1\")\t\t\t\t\t+\t\n",
        "\t\ttheme_classic(base_size = 24)\t\t\t \t+\n",
        "\t\ttheme(legend.position = \"none\",\n",
        "\t\t\t  axis.text.x = element_text(face=\"bold\"),\n",
        "\t\t\t  axis.text.y = element_text(face=\"bold\"))\n",
        "\t\t\t  \n",
        "\t\t\t  \n",
        "# options(repr.plot.width=14, repr.plot.height=7)\n",
        "# p1 <- base+theme_classic(base_size = 16)\n",
        "# #grid.arrange(p1,p1, ncol=2)"
      ],
      "outputs": [],
      "execution_count": 3,
      "metadata": {
        "collapsed": true,
        "jupyter": {
          "source_hidden": false,
          "outputs_hidden": false
        },
        "nteract": {
          "transient": {
            "deleting": false
          }
        },
        "execution": {
          "iopub.status.busy": "2021-06-07T07:24:34.898Z",
          "iopub.execute_input": "2021-06-07T07:24:34.903Z",
          "iopub.status.idle": "2021-06-07T07:24:35.017Z",
          "shell.execute_reply": "2021-06-07T07:24:35.006Z"
        }
      }
    },
    {
      "cell_type": "code",
      "source": [
        "#+++++++°+++++++++°+++++++++°+++++++++°+++++++++°+++++++++°+++++++++°+++++++++°\n",
        "#\tJiitter plots + boxplot + brackets \n",
        "#+++++++°+++++++++°+++++++++°+++++++++°+++++++++°+++++++++°+++++++++°+++++++++°\n",
        "\n",
        "#adding jiitter plot\n",
        "p <- base +\n",
        "\t\t\tgeom_jitter(\n",
        "\t\t\t\t\t\tposition = position_jitter(0.15),\n",
        "\t\t\t\t\t\talpha=0.5, \n",
        "\t\t\t\t\t\tsize = 3\n",
        "\t\t\t\t\t\t) \t\t\t\t\t\t\t\t\t+\n",
        "\t\t\tlabs\t\t(title = \"geom_jitter\",\n",
        "\t\t\t\t\t\tsubtitle =   \"vertical\") \t\t\t+\n",
        "       \n",
        "\t\t\tgeom_boxplot(alpha = 0,\n",
        "\t\t\t\t\t\t lwd=1)\t\t\t\t\t\t\t\t+\n",
        "             \n",
        "\t\t\tscale_fill_grey(start = 0.8,\n",
        "\t\t\t\t\t\t\tend = 0.1) \t\t\t\t\t\t+\n",
        "\t\t\tgeom_bracket( inherit.aes = FALSE,\n",
        "\t\t\t\t\t\t  aes(\n",
        "\t\t\t\t\t\t  xmin = group1,\n",
        "\t\t\t\t\t\t  xmax = group2,\n",
        "\t\t\t\t\t\t  label = signif(p, 2)\n",
        "\t\t\t\t\t\t  ),\n",
        "\t\t\t\t\t\t  data = stat.test,\n",
        "\t\t\t\t\t\t  y.position = max_y,\n",
        "\t\t\t\t\t\t  step.increase = 0.1)\t\t\t \t#+\n",
        "\t\t\t#aes(color = factor(ncat))\t\t\t\t\t\t +\n",
        "\t\t\t#scale_color_brewer(palette=\"Reds\")\n",
        "\n",
        "#uncomment tthe latest two lines if you want colors\n",
        "p"
      ],
      "outputs": [
        {
          "output_type": "display_data",
          "data": {
            "text/plain": "plot without title",
            "image/png": "[encoded data removed]"
          },
          "metadata": {
            "text/plain": {
              "width": 420,
              "height": 420
            },
            "image/png": {
              "width": 420,
              "height": 420
            }
          }
        }
      ],
      "execution_count": 4,
      "metadata": {
        "collapsed": true,
        "jupyter": {
          "source_hidden": false,
          "outputs_hidden": false
        },
        "nteract": {
          "transient": {
            "deleting": false
          }
        },
        "execution": {
          "iopub.status.busy": "2021-06-07T07:24:35.026Z",
          "iopub.execute_input": "2021-06-07T07:24:35.031Z",
          "iopub.status.idle": "2021-06-07T07:24:35.493Z",
          "shell.execute_reply": "2021-06-07T07:24:35.520Z"
        }
      }
    },
    {
      "cell_type": "code",
      "source": [
        "\n",
        "#+++++++°+++++++++°+++++++++°+++++++++°+++++++++°+++++++++°+++++++++°+++++++++°\n",
        "# Functions for Adding Labels\n",
        "#+++++++°+++++++++°+++++++++°+++++++++°+++++++++°+++++++++°+++++++++°+++++++++°\n",
        "\n",
        "set_lab_jitt <- function(dt.melt, sel_cat, uplim, lowlim,...){\n",
        "\t\t\t\t\t\t\tp <- geom_text_repel(\n",
        "\t\t\t\t\t\t\tdata=dt.melt[category==sel_cat],\n",
        "\t\t\t\t\t\t\taes(\n",
        "\t\t\t\t\t\t\tlabel=ifelse(((var1 > uplim | var1 < lowlim )),\n",
        "\t\t\t\t\t\t\tas.character(id),'')),\n",
        "\t\t\t\t\t\t\t)\n",
        "\t\t\t\t\t\t\t}\n",
        "\n",
        "#pv + set_lab_jitt(dt.melt,\"X1\",180,50)\n",
        "#position = position_jitter(0.2,seed = 1)\n",
        "\n",
        "#using gg_text_repel in order to better visualize the labels\n",
        "\t\t\t\n",
        "# creating functions to highlight data depending on n sigma or\n",
        "# a delta from the min and max \n",
        "\n",
        "NormTextlim <- function(x, nsigma){\n",
        "\t\t\t\t\tlimup   <- mean(x)  + nsigma*sd(x)\n",
        "\t\t\t\t\tlimlow  <- mean(x) - nsigma*sd(x)\n",
        "\t\t\t\t\tl       <- list(\"limup\"=limup,\"limlow\"=limlow)\n",
        "\t\t\t\t\treturn(l)\n",
        "\t\t\t\t\t}\n",
        "\t\t\t\t\t\n",
        "Utextlim <- function(x, ndiv){\n",
        "\t\t\t\t\tnth_div <- (max(x)-min(x))/ndiv\n",
        "\t\t\t\t\tlimup   <- max(x)  - nth_div\n",
        "\t\t\t\t\tlimlow  <- min(x)  + nth_div\n",
        "\t\t\t\t\tl       <- list(\"limup\"=limup,\"limlow\"=limlow)\n",
        "\t\t\t\t\treturn(l)\n",
        "\t\t\t\t\t}\n",
        "\n",
        "# creating a category index\n",
        "unique_category <- unique(dt.melt$category)\t\t\n",
        "# if outliers are present you can extract their id using \n",
        "# the function ggbuild see\n",
        "# https://stackoverflow.com/a/58936654/6483091\n",
        "#out <- ggplot_build(g)[[\"data\"]][[1]][[\"outliers\"]]\n"
      ],
      "outputs": [],
      "execution_count": 5,
      "metadata": {
        "collapsed": true,
        "jupyter": {
          "source_hidden": false,
          "outputs_hidden": false
        },
        "nteract": {
          "transient": {
            "deleting": false
          }
        },
        "execution": {
          "iopub.status.busy": "2021-06-07T07:24:35.499Z",
          "iopub.execute_input": "2021-06-07T07:24:35.503Z",
          "iopub.status.idle": "2021-06-07T07:24:35.533Z",
          "shell.execute_reply": "2021-06-07T07:24:35.524Z"
        }
      }
    }
  ],
  "metadata": {
    "kernelspec": {
      "name": "ir",
      "language": "R",
      "display_name": "R"
    },
    "kernel_info": {
      "name": "ir"
    },
    "language_info": {
      "name": "R",
      "codemirror_mode": "r",
      "pygments_lexer": "r",
      "mimetype": "text/x-r-source",
      "file_extension": ".r",
      "version": "4.0.2"
    },
    "title": "VegaLite for R",
    "nteract": {
      "version": "0.28.0"
    }
  },
  "nbformat": 4,
  "nbformat_minor": 4
}