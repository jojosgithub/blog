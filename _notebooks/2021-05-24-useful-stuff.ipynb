{
  "cells": [
    {
      "cell_type": "markdown",
      "source": [
        "# Code snippets\n",
        "\n",
        "In this notebook you can find code snippets that I always reuse\n",
        "\n",
        "- toc: true \n",
        "- badges: true\n",
        "- comments: false\n",
        "- categories: [r]\n"
      ],
      "metadata": {}
    },
    {
      "cell_type": "markdown",
      "source": [
        "- to create a data set with n colums with same mean and standard deviation "
      ],
      "metadata": {
        "nteract": {
          "transient": {
            "deleting": false
          }
        }
      }
    },
    {
      "cell_type": "code",
      "source": [
        "number_of_rows <- 10\n",
        "number_of_cols <- 6\n",
        "my_mean <- 2\n",
        "my_sd <- 0.5\n",
        "\n",
        "newdat <-  as.data.frame( \n",
        "           replicate(\n",
        "           number_of_cols,\n",
        "           rnorm(n = number_of_rows, mean = my_mean, sd = my_sd ))\n",
        "           )\n",
        "\n",
        "#we are creating a dataframe from a matrix obtained replicating x the desired number_of_cols a vector of length number_of_rows from a normal distribution rnorm with a mean of my mean and standard deviation as sd\n",
        "\n",
        "head(newdat)"
      ],
      "outputs": [
        {
          "output_type": "display_data",
          "data": {
            "text/html": "<table>\n<caption>A data.frame: 6 × 6</caption>\n<thead>\n\t<tr><th></th><th scope=col>V1</th><th scope=col>V2</th><th scope=col>V3</th><th scope=col>V4</th><th scope=col>V5</th><th scope=col>V6</th></tr>\n\t<tr><th></th><th scope=col>&lt;dbl&gt;</th><th scope=col>&lt;dbl&gt;</th><th scope=col>&lt;dbl&gt;</th><th scope=col>&lt;dbl&gt;</th><th scope=col>&lt;dbl&gt;</th><th scope=col>&lt;dbl&gt;</th></tr>\n</thead>\n<tbody>\n\t<tr><th scope=row>1</th><td>2.359921</td><td>1.103726</td><td>1.591975</td><td>2.490805</td><td>2.235865</td><td>2.247067</td></tr>\n\t<tr><th scope=row>2</th><td>2.299775</td><td>2.077032</td><td>1.642562</td><td>2.770813</td><td>1.828170</td><td>2.180219</td></tr>\n\t<tr><th scope=row>3</th><td>1.537064</td><td>1.535535</td><td>2.329691</td><td>1.822885</td><td>1.416381</td><td>2.554195</td></tr>\n\t<tr><th scope=row>4</th><td>1.682205</td><td>2.454069</td><td>2.240825</td><td>1.872919</td><td>1.950754</td><td>1.574866</td></tr>\n\t<tr><th scope=row>5</th><td>1.436598</td><td>2.578433</td><td>1.841249</td><td>1.682910</td><td>2.104825</td><td>1.721082</td></tr>\n\t<tr><th scope=row>6</th><td>1.762760</td><td>2.963242</td><td>1.521928</td><td>2.386414</td><td>2.966561</td><td>2.430152</td></tr>\n</tbody>\n</table>\n",
            "text/markdown": "\nA data.frame: 6 × 6\n\n| <!--/--> | V1 &lt;dbl&gt; | V2 &lt;dbl&gt; | V3 &lt;dbl&gt; | V4 &lt;dbl&gt; | V5 &lt;dbl&gt; | V6 &lt;dbl&gt; |\n|---|---|---|---|---|---|---|\n| 1 | 2.359921 | 1.103726 | 1.591975 | 2.490805 | 2.235865 | 2.247067 |\n| 2 | 2.299775 | 2.077032 | 1.642562 | 2.770813 | 1.828170 | 2.180219 |\n| 3 | 1.537064 | 1.535535 | 2.329691 | 1.822885 | 1.416381 | 2.554195 |\n| 4 | 1.682205 | 2.454069 | 2.240825 | 1.872919 | 1.950754 | 1.574866 |\n| 5 | 1.436598 | 2.578433 | 1.841249 | 1.682910 | 2.104825 | 1.721082 |\n| 6 | 1.762760 | 2.963242 | 1.521928 | 2.386414 | 2.966561 | 2.430152 |\n\n",
            "text/latex": "A data.frame: 6 × 6\n\\begin{tabular}{r|llllll}\n  & V1 & V2 & V3 & V4 & V5 & V6\\\\\n  & <dbl> & <dbl> & <dbl> & <dbl> & <dbl> & <dbl>\\\\\n\\hline\n\t1 & 2.359921 & 1.103726 & 1.591975 & 2.490805 & 2.235865 & 2.247067\\\\\n\t2 & 2.299775 & 2.077032 & 1.642562 & 2.770813 & 1.828170 & 2.180219\\\\\n\t3 & 1.537064 & 1.535535 & 2.329691 & 1.822885 & 1.416381 & 2.554195\\\\\n\t4 & 1.682205 & 2.454069 & 2.240825 & 1.872919 & 1.950754 & 1.574866\\\\\n\t5 & 1.436598 & 2.578433 & 1.841249 & 1.682910 & 2.104825 & 1.721082\\\\\n\t6 & 1.762760 & 2.963242 & 1.521928 & 2.386414 & 2.966561 & 2.430152\\\\\n\\end{tabular}\n",
            "text/plain": "  V1       V2       V3       V4       V5       V6      \n1 2.359921 1.103726 1.591975 2.490805 2.235865 2.247067\n2 2.299775 2.077032 1.642562 2.770813 1.828170 2.180219\n3 1.537064 1.535535 2.329691 1.822885 1.416381 2.554195\n4 1.682205 2.454069 2.240825 1.872919 1.950754 1.574866\n5 1.436598 2.578433 1.841249 1.682910 2.104825 1.721082\n6 1.762760 2.963242 1.521928 2.386414 2.966561 2.430152"
          },
          "metadata": {}
        }
      ],
      "execution_count": 1,
      "metadata": {
        "collapsed": true,
        "jupyter": {
          "source_hidden": false,
          "outputs_hidden": false
        },
        "nteract": {
          "transient": {
            "deleting": false
          }
        },
        "execution": {
          "iopub.status.busy": "2021-05-25T07:30:51.402Z",
          "iopub.execute_input": "2021-05-25T07:30:51.414Z",
          "iopub.status.idle": "2021-05-25T07:30:51.586Z",
          "shell.execute_reply": "2021-05-25T07:30:51.608Z"
        }
      }
    },
    {
      "cell_type": "markdown",
      "source": [
        "-  Code for creating small (n col < 5) dataset.\n",
        "Each column has its own mean and sd. \n",
        "In the example reported we have n = 3  (A, B, C)\n",
        "with n row = 50. means are 100,110,120 and sd 1,2,3\n"
      ],
      "metadata": {
        "nteract": {
          "transient": {
            "deleting": false
          }
        }
      }
    },
    {
      "cell_type": "code",
      "source": [
        "#in order to obtain ALWAYS same \"random\" results REMEMBER TO initialize the seed \n",
        "#set.seed(42) \n",
        "\n",
        "number_of_rows <- 5\n",
        "A <- rnorm( n=number_of_rows, mean=100, sd=1 ) \n",
        "B <- rnorm( n=number_of_rows, mean=110, sd=2 ) \n",
        "C <- rnorm( n=number_of_rows, mean=120, sd=2 ) \n",
        "\n",
        "dat=data.frame(A,B,C) \n",
        "\n",
        "dat\n",
        "\n"
      ],
      "outputs": [
        {
          "output_type": "display_data",
          "data": {
            "text/html": "<table>\n<caption>A data.frame: 50 × 3</caption>\n<thead>\n\t<tr><th scope=col>A</th><th scope=col>B</th><th scope=col>C</th></tr>\n\t<tr><th scope=col>&lt;dbl&gt;</th><th scope=col>&lt;dbl&gt;</th><th scope=col>&lt;dbl&gt;</th></tr>\n</thead>\n<tbody>\n\t<tr><td>101.41172</td><td>110.4121</td><td>125.5185</td></tr>\n\t<tr><td> 98.49940</td><td>110.4784</td><td>119.4296</td></tr>\n\t<tr><td> 99.44313</td><td>105.7317</td><td>116.9115</td></tr>\n\t<tr><td> 98.78634</td><td>110.8009</td><td>119.5023</td></tr>\n\t<tr><td> 99.98827</td><td>111.4053</td><td>120.5793</td></tr>\n\t<tr><td> 99.54834</td><td>109.3578</td><td>118.9238</td></tr>\n\t<tr><td>100.10775</td><td>107.6455</td><td>119.9235</td></tr>\n\t<tr><td>100.08334</td><td>113.1276</td><td>116.7360</td></tr>\n\t<tr><td>100.04090</td><td>109.3784</td><td>121.8826</td></tr>\n\t<tr><td> 99.33038</td><td>110.7216</td><td>119.5625</td></tr>\n\t<tr><td> 99.75864</td><td>110.6821</td><td>122.7145</td></tr>\n\t<tr><td>100.10948</td><td>112.9783</td><td>120.3442</td></tr>\n\t<tr><td>100.49960</td><td>111.6014</td><td>120.7228</td></tr>\n\t<tr><td>100.71527</td><td>110.6345</td><td>121.4159</td></tr>\n\t<tr><td> 98.55515</td><td>108.9987</td><td>119.0925</td></tr>\n\t<tr><td> 99.80328</td><td>107.9261</td><td>119.5052</td></tr>\n\t<tr><td>100.41967</td><td>108.8459</td><td>118.9055</td></tr>\n\t<tr><td>100.20765</td><td>108.6289</td><td>121.0348</td></tr>\n\t<tr><td> 99.97121</td><td>112.0536</td><td>120.1457</td></tr>\n\t<tr><td>100.19516</td><td>110.8968</td><td>120.1510</td></tr>\n\t<tr><td> 99.26855</td><td>109.9388</td><td>119.5406</td></tr>\n\t<tr><td> 98.30118</td><td>112.7929</td><td>122.0220</td></tr>\n\t<tr><td>101.09845</td><td>109.0931</td><td>118.4314</td></tr>\n\t<tr><td>100.39214</td><td>110.2873</td><td>121.7629</td></tr>\n\t<tr><td> 99.07666</td><td>109.7192</td><td>117.4796</td></tr>\n\t<tr><td>100.27345</td><td>109.4950</td><td>120.2648</td></tr>\n\t<tr><td> 99.12707</td><td>110.0656</td><td>122.8751</td></tr>\n\t<tr><td>101.72369</td><td>113.4450</td><td>122.4620</td></tr>\n\t<tr><td>100.04846</td><td>109.1558</td><td>121.1512</td></tr>\n\t<tr><td>100.34441</td><td>109.2334</td><td>120.0413</td></tr>\n\t<tr><td>100.09486</td><td>111.6330</td><td>121.4478</td></tr>\n\t<tr><td>100.23337</td><td>110.2495</td><td>118.7779</td></tr>\n\t<tr><td>100.46038</td><td>107.9223</td><td>120.0318</td></tr>\n\t<tr><td> 99.48121</td><td>108.3544</td><td>123.8136</td></tr>\n\t<tr><td> 99.42791</td><td>113.2894</td><td>121.0000</td></tr>\n\t<tr><td>101.52847</td><td>107.9312</td><td>120.8256</td></tr>\n\t<tr><td>101.01942</td><td>112.2640</td><td>120.8712</td></tr>\n\t<tr><td> 99.12636</td><td>111.4248</td><td>120.6026</td></tr>\n\t<tr><td> 99.35856</td><td>108.4603</td><td>118.8620</td></tr>\n\t<tr><td> 99.45709</td><td>109.6206</td><td>123.4289</td></tr>\n\t<tr><td> 98.94393</td><td>109.9746</td><td>119.5673</td></tr>\n\t<tr><td>100.11051</td><td>111.6075</td><td>119.3588</td></tr>\n\t<tr><td>100.87526</td><td>109.4799</td><td>119.3936</td></tr>\n\t<tr><td> 98.85810</td><td>109.1795</td><td>121.3795</td></tr>\n\t<tr><td>100.72081</td><td>109.6173</td><td>119.1438</td></tr>\n\t<tr><td> 99.37932</td><td>110.7937</td><td>119.9995</td></tr>\n\t<tr><td>101.22747</td><td>112.3819</td><td>121.5048</td></tr>\n\t<tr><td>101.53854</td><td>107.3205</td><td>120.6254</td></tr>\n\t<tr><td>100.38875</td><td>109.9316</td><td>119.6101</td></tr>\n\t<tr><td>100.46413</td><td>110.0907</td><td>120.2268</td></tr>\n</tbody>\n</table>\n",
            "text/markdown": "\nA data.frame: 50 × 3\n\n| A &lt;dbl&gt; | B &lt;dbl&gt; | C &lt;dbl&gt; |\n|---|---|---|\n| 101.41172 | 110.4121 | 125.5185 |\n|  98.49940 | 110.4784 | 119.4296 |\n|  99.44313 | 105.7317 | 116.9115 |\n|  98.78634 | 110.8009 | 119.5023 |\n|  99.98827 | 111.4053 | 120.5793 |\n|  99.54834 | 109.3578 | 118.9238 |\n| 100.10775 | 107.6455 | 119.9235 |\n| 100.08334 | 113.1276 | 116.7360 |\n| 100.04090 | 109.3784 | 121.8826 |\n|  99.33038 | 110.7216 | 119.5625 |\n|  99.75864 | 110.6821 | 122.7145 |\n| 100.10948 | 112.9783 | 120.3442 |\n| 100.49960 | 111.6014 | 120.7228 |\n| 100.71527 | 110.6345 | 121.4159 |\n|  98.55515 | 108.9987 | 119.0925 |\n|  99.80328 | 107.9261 | 119.5052 |\n| 100.41967 | 108.8459 | 118.9055 |\n| 100.20765 | 108.6289 | 121.0348 |\n|  99.97121 | 112.0536 | 120.1457 |\n| 100.19516 | 110.8968 | 120.1510 |\n|  99.26855 | 109.9388 | 119.5406 |\n|  98.30118 | 112.7929 | 122.0220 |\n| 101.09845 | 109.0931 | 118.4314 |\n| 100.39214 | 110.2873 | 121.7629 |\n|  99.07666 | 109.7192 | 117.4796 |\n| 100.27345 | 109.4950 | 120.2648 |\n|  99.12707 | 110.0656 | 122.8751 |\n| 101.72369 | 113.4450 | 122.4620 |\n| 100.04846 | 109.1558 | 121.1512 |\n| 100.34441 | 109.2334 | 120.0413 |\n| 100.09486 | 111.6330 | 121.4478 |\n| 100.23337 | 110.2495 | 118.7779 |\n| 100.46038 | 107.9223 | 120.0318 |\n|  99.48121 | 108.3544 | 123.8136 |\n|  99.42791 | 113.2894 | 121.0000 |\n| 101.52847 | 107.9312 | 120.8256 |\n| 101.01942 | 112.2640 | 120.8712 |\n|  99.12636 | 111.4248 | 120.6026 |\n|  99.35856 | 108.4603 | 118.8620 |\n|  99.45709 | 109.6206 | 123.4289 |\n|  98.94393 | 109.9746 | 119.5673 |\n| 100.11051 | 111.6075 | 119.3588 |\n| 100.87526 | 109.4799 | 119.3936 |\n|  98.85810 | 109.1795 | 121.3795 |\n| 100.72081 | 109.6173 | 119.1438 |\n|  99.37932 | 110.7937 | 119.9995 |\n| 101.22747 | 112.3819 | 121.5048 |\n| 101.53854 | 107.3205 | 120.6254 |\n| 100.38875 | 109.9316 | 119.6101 |\n| 100.46413 | 110.0907 | 120.2268 |\n\n",
            "text/latex": "A data.frame: 50 × 3\n\\begin{tabular}{lll}\n A & B & C\\\\\n <dbl> & <dbl> & <dbl>\\\\\n\\hline\n\t 101.41172 & 110.4121 & 125.5185\\\\\n\t  98.49940 & 110.4784 & 119.4296\\\\\n\t  99.44313 & 105.7317 & 116.9115\\\\\n\t  98.78634 & 110.8009 & 119.5023\\\\\n\t  99.98827 & 111.4053 & 120.5793\\\\\n\t  99.54834 & 109.3578 & 118.9238\\\\\n\t 100.10775 & 107.6455 & 119.9235\\\\\n\t 100.08334 & 113.1276 & 116.7360\\\\\n\t 100.04090 & 109.3784 & 121.8826\\\\\n\t  99.33038 & 110.7216 & 119.5625\\\\\n\t  99.75864 & 110.6821 & 122.7145\\\\\n\t 100.10948 & 112.9783 & 120.3442\\\\\n\t 100.49960 & 111.6014 & 120.7228\\\\\n\t 100.71527 & 110.6345 & 121.4159\\\\\n\t  98.55515 & 108.9987 & 119.0925\\\\\n\t  99.80328 & 107.9261 & 119.5052\\\\\n\t 100.41967 & 108.8459 & 118.9055\\\\\n\t 100.20765 & 108.6289 & 121.0348\\\\\n\t  99.97121 & 112.0536 & 120.1457\\\\\n\t 100.19516 & 110.8968 & 120.1510\\\\\n\t  99.26855 & 109.9388 & 119.5406\\\\\n\t  98.30118 & 112.7929 & 122.0220\\\\\n\t 101.09845 & 109.0931 & 118.4314\\\\\n\t 100.39214 & 110.2873 & 121.7629\\\\\n\t  99.07666 & 109.7192 & 117.4796\\\\\n\t 100.27345 & 109.4950 & 120.2648\\\\\n\t  99.12707 & 110.0656 & 122.8751\\\\\n\t 101.72369 & 113.4450 & 122.4620\\\\\n\t 100.04846 & 109.1558 & 121.1512\\\\\n\t 100.34441 & 109.2334 & 120.0413\\\\\n\t 100.09486 & 111.6330 & 121.4478\\\\\n\t 100.23337 & 110.2495 & 118.7779\\\\\n\t 100.46038 & 107.9223 & 120.0318\\\\\n\t  99.48121 & 108.3544 & 123.8136\\\\\n\t  99.42791 & 113.2894 & 121.0000\\\\\n\t 101.52847 & 107.9312 & 120.8256\\\\\n\t 101.01942 & 112.2640 & 120.8712\\\\\n\t  99.12636 & 111.4248 & 120.6026\\\\\n\t  99.35856 & 108.4603 & 118.8620\\\\\n\t  99.45709 & 109.6206 & 123.4289\\\\\n\t  98.94393 & 109.9746 & 119.5673\\\\\n\t 100.11051 & 111.6075 & 119.3588\\\\\n\t 100.87526 & 109.4799 & 119.3936\\\\\n\t  98.85810 & 109.1795 & 121.3795\\\\\n\t 100.72081 & 109.6173 & 119.1438\\\\\n\t  99.37932 & 110.7937 & 119.9995\\\\\n\t 101.22747 & 112.3819 & 121.5048\\\\\n\t 101.53854 & 107.3205 & 120.6254\\\\\n\t 100.38875 & 109.9316 & 119.6101\\\\\n\t 100.46413 & 110.0907 & 120.2268\\\\\n\\end{tabular}\n",
            "text/plain": "   A         B        C       \n1  101.41172 110.4121 125.5185\n2   98.49940 110.4784 119.4296\n3   99.44313 105.7317 116.9115\n4   98.78634 110.8009 119.5023\n5   99.98827 111.4053 120.5793\n6   99.54834 109.3578 118.9238\n7  100.10775 107.6455 119.9235\n8  100.08334 113.1276 116.7360\n9  100.04090 109.3784 121.8826\n10  99.33038 110.7216 119.5625\n11  99.75864 110.6821 122.7145\n12 100.10948 112.9783 120.3442\n13 100.49960 111.6014 120.7228\n14 100.71527 110.6345 121.4159\n15  98.55515 108.9987 119.0925\n16  99.80328 107.9261 119.5052\n17 100.41967 108.8459 118.9055\n18 100.20765 108.6289 121.0348\n19  99.97121 112.0536 120.1457\n20 100.19516 110.8968 120.1510\n21  99.26855 109.9388 119.5406\n22  98.30118 112.7929 122.0220\n23 101.09845 109.0931 118.4314\n24 100.39214 110.2873 121.7629\n25  99.07666 109.7192 117.4796\n26 100.27345 109.4950 120.2648\n27  99.12707 110.0656 122.8751\n28 101.72369 113.4450 122.4620\n29 100.04846 109.1558 121.1512\n30 100.34441 109.2334 120.0413\n31 100.09486 111.6330 121.4478\n32 100.23337 110.2495 118.7779\n33 100.46038 107.9223 120.0318\n34  99.48121 108.3544 123.8136\n35  99.42791 113.2894 121.0000\n36 101.52847 107.9312 120.8256\n37 101.01942 112.2640 120.8712\n38  99.12636 111.4248 120.6026\n39  99.35856 108.4603 118.8620\n40  99.45709 109.6206 123.4289\n41  98.94393 109.9746 119.5673\n42 100.11051 111.6075 119.3588\n43 100.87526 109.4799 119.3936\n44  98.85810 109.1795 121.3795\n45 100.72081 109.6173 119.1438\n46  99.37932 110.7937 119.9995\n47 101.22747 112.3819 121.5048\n48 101.53854 107.3205 120.6254\n49 100.38875 109.9316 119.6101\n50 100.46413 110.0907 120.2268"
          },
          "metadata": {}
        }
      ],
      "execution_count": 2,
      "metadata": {
        "collapsed": true,
        "jupyter": {
          "source_hidden": false,
          "outputs_hidden": false
        },
        "nteract": {
          "transient": {
            "deleting": false
          }
        },
        "execution": {
          "iopub.status.busy": "2021-05-24T18:51:32.702Z",
          "iopub.execute_input": "2021-05-24T18:51:32.756Z",
          "shell.execute_reply": "2021-05-24T18:51:32.874Z",
          "iopub.status.idle": "2021-05-24T18:51:32.883Z"
        }
      }
    },
    {
      "cell_type": "markdown",
      "source": [
        "- same as the one above but more useful for dataset with i columns n col > 5"
      ],
      "metadata": {
        "nteract": {
          "transient": {
            "deleting": false
          }
        }
      }
    },
    {
      "cell_type": "code",
      "source": [
        "\n",
        "number_of_rows = 3\n",
        "means=c(100, 120, 130, 145)\n",
        "sds=c(10 ,20 ,40 ,10)\n",
        "\n",
        "dat <- lapply(\n",
        "       seq(1,length(means)) ,\n",
        "       function(x) rnorm(number_of_rows,m = means[x], sds[x])\n",
        "       )\n",
        "dat <- as.data.frame(do.call(cbind, dat))\n",
        " \n",
        "names_length = 3\n",
        "my_labels <- sort(\n",
        "            replicate(\n",
        "            length(means),\n",
        "            paste(sample(LETTERS[1:dictionary_size],\n",
        "            names_length,\n",
        "            replace = TRUE),\n",
        "            collapse=\"\")\n",
        "            )\n",
        "            )\n",
        "my_labels <- unlist(strsplit(my_labels,\" \"))  \n",
        "colnames(dat) <- my_labels\n",
        "\n",
        "dat"
      ],
      "outputs": [
        {
          "output_type": "display_data",
          "data": {
            "text/html": "<table>\n<caption>A data.frame: 3 × 4</caption>\n<thead>\n\t<tr><th scope=col>AJD</th><th scope=col>CAF</th><th scope=col>DGJ</th><th scope=col>HHI</th></tr>\n\t<tr><th scope=col>&lt;dbl&gt;</th><th scope=col>&lt;dbl&gt;</th><th scope=col>&lt;dbl&gt;</th><th scope=col>&lt;dbl&gt;</th></tr>\n</thead>\n<tbody>\n\t<tr><td>101.03620</td><td>148.0520</td><td>100.5811</td><td>151.5095</td></tr>\n\t<tr><td>101.46831</td><td>151.8345</td><td>135.1555</td><td>138.0882</td></tr>\n\t<tr><td> 99.87062</td><td>140.0476</td><td>189.0076</td><td>141.9761</td></tr>\n</tbody>\n</table>\n",
            "text/markdown": "\nA data.frame: 3 × 4\n\n| AJD &lt;dbl&gt; | CAF &lt;dbl&gt; | DGJ &lt;dbl&gt; | HHI &lt;dbl&gt; |\n|---|---|---|---|\n| 101.03620 | 148.0520 | 100.5811 | 151.5095 |\n| 101.46831 | 151.8345 | 135.1555 | 138.0882 |\n|  99.87062 | 140.0476 | 189.0076 | 141.9761 |\n\n",
            "text/latex": "A data.frame: 3 × 4\n\\begin{tabular}{llll}\n AJD & CAF & DGJ & HHI\\\\\n <dbl> & <dbl> & <dbl> & <dbl>\\\\\n\\hline\n\t 101.03620 & 148.0520 & 100.5811 & 151.5095\\\\\n\t 101.46831 & 151.8345 & 135.1555 & 138.0882\\\\\n\t  99.87062 & 140.0476 & 189.0076 & 141.9761\\\\\n\\end{tabular}\n",
            "text/plain": "  AJD       CAF      DGJ      HHI     \n1 101.03620 148.0520 100.5811 151.5095\n2 101.46831 151.8345 135.1555 138.0882\n3  99.87062 140.0476 189.0076 141.9761"
          },
          "metadata": {}
        }
      ],
      "execution_count": 32,
      "metadata": {
        "collapsed": true,
        "jupyter": {
          "source_hidden": false,
          "outputs_hidden": false
        },
        "nteract": {
          "transient": {
            "deleting": false
          }
        },
        "execution": {
          "iopub.status.busy": "2021-05-24T15:01:45.756Z",
          "iopub.execute_input": "2021-05-24T15:01:45.760Z",
          "iopub.status.idle": "2021-05-24T15:01:45.859Z",
          "shell.execute_reply": "2021-05-24T15:01:45.870Z"
        }
      }
    },
    {
      "cell_type": "markdown",
      "source": [
        "- to create sample names or labels (https://stackoverflow.com/a/60789938/6483091)\n"
      ],
      "metadata": {
        "nteract": {
          "transient": {
            "deleting": false
          }
        }
      }
    },
    {
      "cell_type": "code",
      "source": [
        "#short names\n",
        "my_labels <- letters[1:5]\n",
        "# or <- \n",
        "my_labels <- LETTERS[1:5]\n",
        "# or arbitrary number of letters using roman letters as in the \n",
        "#function \n",
        "# letters() or LETTERS()\n",
        "\n",
        "dictionary_size <- 10\n",
        "label_length <- 5 \n",
        "n_replicates <- 3\n",
        "\n",
        "#random\n",
        "\n",
        "my_labels <- replicate(\n",
        "             n_replicates,\n",
        "             paste(sample(LETTERS[1:dictionary_size],\n",
        "             label_length,\n",
        "             replace = TRUE),\n",
        "             collapse=\"\")\n",
        "             )\n",
        "\n",
        "#sorted\n",
        "\n",
        "my_labels_sorted <- sort(replicate(n_replicates, paste(sample(LETTERS[1:dictionary_size], label_length, replace = TRUE), collapse=\"\")))\n",
        "\n",
        "#if you want to mix letters and numbers\n",
        "\n",
        "alfanum_labels <- paste0(rep(LETTERS[1:dictionary_size], each = n_replicates), sep = \"-\", 1:n_replicates)\n"
      ],
      "outputs": [],
      "execution_count": 1,
      "metadata": {
        "collapsed": true,
        "jupyter": {
          "source_hidden": false,
          "outputs_hidden": false
        },
        "nteract": {
          "transient": {
            "deleting": false
          }
        },
        "execution": {
          "iopub.status.busy": "2021-05-24T18:51:29.069Z",
          "iopub.execute_input": "2021-05-24T18:51:29.076Z",
          "iopub.status.idle": "2021-05-24T18:51:29.160Z",
          "shell.execute_reply": "2021-05-24T18:51:29.150Z"
        }
      }
    },
    {
      "cell_type": "code",
      "source": [],
      "outputs": [],
      "execution_count": null,
      "metadata": {
        "collapsed": true,
        "jupyter": {
          "source_hidden": false,
          "outputs_hidden": false
        },
        "nteract": {
          "transient": {
            "deleting": false
          }
        }
      }
    }
  ],
  "metadata": {
    "kernelspec": {
      "name": "ir",
      "language": "R",
      "display_name": "R"
    },
    "kernel_info": {
      "name": "ir"
    },
    "language_info": {
      "name": "R",
      "codemirror_mode": "r",
      "pygments_lexer": "r",
      "mimetype": "text/x-r-source",
      "file_extension": ".r",
      "version": "4.0.2"
    },
    "title": "VegaLite for R",
    "nteract": {
      "version": "0.28.0"
    }
  },
  "nbformat": 4,
  "nbformat_minor": 4
}