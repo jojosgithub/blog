{
  "cells": [
    {
      "cell_type": "markdown",
      "source": [
        "# DOE\n",
        "\n",
        "Tables for Design of Experiment\n",
        "\n",
        "- toc: true \n",
        "- badges: true\n",
        "- comments: false\n",
        "- categories: [r]\n"
      ],
      "metadata": {}
    },
    {
      "cell_type": "markdown",
      "source": [
        "*TOC*\r\n",
        "* use of the packages rsm and FrF2 for creating tables for\r\n",
        "    * factorial design \r\n",
        "    * fractional factorial design\r\n",
        "    * Plackett-Burman design"
      ],
      "metadata": {
        "nteract": {
          "transient": {
            "deleting": false
          }
        }
      }
    },
    {
      "cell_type": "code",
      "source": [
        "# loading libraries\n",
        "library(dplyr)\n",
        "library(rsm)\n",
        "library(FrF2)\n",
        "\n",
        "#Full Factorial n=2 2 levels\n",
        "ff2x2 <- expand.grid(A = c(\"+\", \"-\"), B = c(\"+\", \"-\"))\n",
        "ff2x2 \n",
        "\n",
        "#Full Factorial n=3\n",
        "ff3x2 <- expand.grid(A = c(\"+\", \"-\"), B = c(\"+\", \"-\"),\n",
        "                     C = c(\"+\", \"-\"))\n",
        "ff3x2\n",
        "\n",
        "#Full Factorial n=4\n",
        "ff4x2 <-expand.grid(A = c(\"+\", \"-\"), B = c(\"+\", \"-\"), \n",
        "                    C = c(\"+\", \"-\"), D = c(\"+\", \"-\"))\n",
        "ff4x2\n",
        "\n",
        "#Full Factorial n=5\n",
        "ff5x2 <- expand.grid(A = c(\"+\", \"-\"), B = c(\"+\", \"-\"), \n",
        "                     C = c(\"+\", \"-\"),D = c(\"+\", \"-\"),\n",
        "                     E= c(\"+\",\"-\"))\n",
        "ff5x2 \n",
        "\n",
        "#Fractional Factorial nfactor=4, nruns=8\n",
        "frfr4x8runs <- FrF2(nruns=8,nfactors=4)\n",
        "frfr4x8runs\n",
        "\n",
        "#Fractional Factorial nfactor=5, nruns=16\n",
        "frfr5x16runs <- FrF2(nruns=16,nfactors=5)\n",
        "frfr5x16runs\n",
        "\n",
        "#Fractional  Factorial nfactor=6, nruns=32\n",
        "frfr6x32runs <- FrF2(nruns=32,nfactors=6)\n",
        "frfr6x32runs\n",
        "\n",
        "#Fractional  Factorial nfactor=7, nruns=64\n",
        "frfr7x16runs <- FrF2(nruns=32,nfactors=7)\n",
        "frfr7x16runs\n",
        "\n"
      ],
      "outputs": [
        {
          "output_type": "stream",
          "name": "stderr",
          "text": [
            "\n",
            "Attaching package: 'dplyr'\n",
            "\n",
            "\n",
            "The following objects are masked from 'package:stats':\n",
            "\n",
            "    filter, lag\n",
            "\n",
            "\n",
            "The following objects are masked from 'package:base':\n",
            "\n",
            "    intersect, setdiff, setequal, union\n",
            "\n",
            "\n",
            "Loading required package: DoE.base\n",
            "\n",
            "Loading required package: grid\n",
            "\n",
            "Loading required package: conf.design\n",
            "\n",
            "Registered S3 method overwritten by 'DoE.base':\n",
            "  method           from       \n",
            "  factorize.factor conf.design\n",
            "\n",
            "\n",
            "Attaching package: 'DoE.base'\n",
            "\n",
            "\n",
            "The following objects are masked from 'package:stats':\n",
            "\n",
            "    aov, lm\n",
            "\n",
            "\n",
            "The following object is masked from 'package:graphics':\n",
            "\n",
            "    plot.design\n",
            "\n",
            "\n",
            "The following object is masked from 'package:base':\n",
            "\n",
            "    lengths\n",
            "\n",
            "\n"
          ]
        },
        {
          "output_type": "display_data",
          "data": {
            "text/html": "<table>\n<caption>A data.frame: 4 × 2</caption>\n<thead>\n\t<tr><th scope=col>A</th><th scope=col>B</th></tr>\n\t<tr><th scope=col>&lt;fct&gt;</th><th scope=col>&lt;fct&gt;</th></tr>\n</thead>\n<tbody>\n\t<tr><td>+</td><td>+</td></tr>\n\t<tr><td>-</td><td>+</td></tr>\n\t<tr><td>+</td><td>-</td></tr>\n\t<tr><td>-</td><td>-</td></tr>\n</tbody>\n</table>\n",
            "text/markdown": "\nA data.frame: 4 × 2\n\n| A &lt;fct&gt; | B &lt;fct&gt; |\n|---|---|\n| + | + |\n| - | + |\n| + | - |\n| - | - |\n\n",
            "text/latex": "A data.frame: 4 × 2\n\\begin{tabular}{ll}\n A & B\\\\\n <fct> & <fct>\\\\\n\\hline\n\t + & +\\\\\n\t - & +\\\\\n\t + & -\\\\\n\t - & -\\\\\n\\end{tabular}\n",
            "text/plain": "  A B\n1 + +\n2 - +\n3 + -\n4 - -"
          },
          "metadata": {}
        },
        {
          "output_type": "display_data",
          "data": {
            "text/html": "<table>\n<caption>A data.frame: 8 × 3</caption>\n<thead>\n\t<tr><th scope=col>A</th><th scope=col>B</th><th scope=col>C</th></tr>\n\t<tr><th scope=col>&lt;fct&gt;</th><th scope=col>&lt;fct&gt;</th><th scope=col>&lt;fct&gt;</th></tr>\n</thead>\n<tbody>\n\t<tr><td>+</td><td>+</td><td>+</td></tr>\n\t<tr><td>-</td><td>+</td><td>+</td></tr>\n\t<tr><td>+</td><td>-</td><td>+</td></tr>\n\t<tr><td>-</td><td>-</td><td>+</td></tr>\n\t<tr><td>+</td><td>+</td><td>-</td></tr>\n\t<tr><td>-</td><td>+</td><td>-</td></tr>\n\t<tr><td>+</td><td>-</td><td>-</td></tr>\n\t<tr><td>-</td><td>-</td><td>-</td></tr>\n</tbody>\n</table>\n",
            "text/markdown": "\nA data.frame: 8 × 3\n\n| A &lt;fct&gt; | B &lt;fct&gt; | C &lt;fct&gt; |\n|---|---|---|\n| + | + | + |\n| - | + | + |\n| + | - | + |\n| - | - | + |\n| + | + | - |\n| - | + | - |\n| + | - | - |\n| - | - | - |\n\n",
            "text/latex": "A data.frame: 8 × 3\n\\begin{tabular}{lll}\n A & B & C\\\\\n <fct> & <fct> & <fct>\\\\\n\\hline\n\t + & + & +\\\\\n\t - & + & +\\\\\n\t + & - & +\\\\\n\t - & - & +\\\\\n\t + & + & -\\\\\n\t - & + & -\\\\\n\t + & - & -\\\\\n\t - & - & -\\\\\n\\end{tabular}\n",
            "text/plain": "  A B C\n1 + + +\n2 - + +\n3 + - +\n4 - - +\n5 + + -\n6 - + -\n7 + - -\n8 - - -"
          },
          "metadata": {}
        },
        {
          "output_type": "display_data",
          "data": {
            "text/html": "<table>\n<caption>A data.frame: 16 × 4</caption>\n<thead>\n\t<tr><th scope=col>A</th><th scope=col>B</th><th scope=col>C</th><th scope=col>D</th></tr>\n\t<tr><th scope=col>&lt;fct&gt;</th><th scope=col>&lt;fct&gt;</th><th scope=col>&lt;fct&gt;</th><th scope=col>&lt;fct&gt;</th></tr>\n</thead>\n<tbody>\n\t<tr><td>+</td><td>+</td><td>+</td><td>+</td></tr>\n\t<tr><td>-</td><td>+</td><td>+</td><td>+</td></tr>\n\t<tr><td>+</td><td>-</td><td>+</td><td>+</td></tr>\n\t<tr><td>-</td><td>-</td><td>+</td><td>+</td></tr>\n\t<tr><td>+</td><td>+</td><td>-</td><td>+</td></tr>\n\t<tr><td>-</td><td>+</td><td>-</td><td>+</td></tr>\n\t<tr><td>+</td><td>-</td><td>-</td><td>+</td></tr>\n\t<tr><td>-</td><td>-</td><td>-</td><td>+</td></tr>\n\t<tr><td>+</td><td>+</td><td>+</td><td>-</td></tr>\n\t<tr><td>-</td><td>+</td><td>+</td><td>-</td></tr>\n\t<tr><td>+</td><td>-</td><td>+</td><td>-</td></tr>\n\t<tr><td>-</td><td>-</td><td>+</td><td>-</td></tr>\n\t<tr><td>+</td><td>+</td><td>-</td><td>-</td></tr>\n\t<tr><td>-</td><td>+</td><td>-</td><td>-</td></tr>\n\t<tr><td>+</td><td>-</td><td>-</td><td>-</td></tr>\n\t<tr><td>-</td><td>-</td><td>-</td><td>-</td></tr>\n</tbody>\n</table>\n",
            "text/markdown": "\nA data.frame: 16 × 4\n\n| A &lt;fct&gt; | B &lt;fct&gt; | C &lt;fct&gt; | D &lt;fct&gt; |\n|---|---|---|---|\n| + | + | + | + |\n| - | + | + | + |\n| + | - | + | + |\n| - | - | + | + |\n| + | + | - | + |\n| - | + | - | + |\n| + | - | - | + |\n| - | - | - | + |\n| + | + | + | - |\n| - | + | + | - |\n| + | - | + | - |\n| - | - | + | - |\n| + | + | - | - |\n| - | + | - | - |\n| + | - | - | - |\n| - | - | - | - |\n\n",
            "text/latex": "A data.frame: 16 × 4\n\\begin{tabular}{llll}\n A & B & C & D\\\\\n <fct> & <fct> & <fct> & <fct>\\\\\n\\hline\n\t + & + & + & +\\\\\n\t - & + & + & +\\\\\n\t + & - & + & +\\\\\n\t - & - & + & +\\\\\n\t + & + & - & +\\\\\n\t - & + & - & +\\\\\n\t + & - & - & +\\\\\n\t - & - & - & +\\\\\n\t + & + & + & -\\\\\n\t - & + & + & -\\\\\n\t + & - & + & -\\\\\n\t - & - & + & -\\\\\n\t + & + & - & -\\\\\n\t - & + & - & -\\\\\n\t + & - & - & -\\\\\n\t - & - & - & -\\\\\n\\end{tabular}\n",
            "text/plain": "   A B C D\n1  + + + +\n2  - + + +\n3  + - + +\n4  - - + +\n5  + + - +\n6  - + - +\n7  + - - +\n8  - - - +\n9  + + + -\n10 - + + -\n11 + - + -\n12 - - + -\n13 + + - -\n14 - + - -\n15 + - - -\n16 - - - -"
          },
          "metadata": {}
        },
        {
          "output_type": "display_data",
          "data": {
            "text/html": "<table>\n<caption>A data.frame: 32 × 5</caption>\n<thead>\n\t<tr><th scope=col>A</th><th scope=col>B</th><th scope=col>C</th><th scope=col>D</th><th scope=col>E</th></tr>\n\t<tr><th scope=col>&lt;fct&gt;</th><th scope=col>&lt;fct&gt;</th><th scope=col>&lt;fct&gt;</th><th scope=col>&lt;fct&gt;</th><th scope=col>&lt;fct&gt;</th></tr>\n</thead>\n<tbody>\n\t<tr><td>+</td><td>+</td><td>+</td><td>+</td><td>+</td></tr>\n\t<tr><td>-</td><td>+</td><td>+</td><td>+</td><td>+</td></tr>\n\t<tr><td>+</td><td>-</td><td>+</td><td>+</td><td>+</td></tr>\n\t<tr><td>-</td><td>-</td><td>+</td><td>+</td><td>+</td></tr>\n\t<tr><td>+</td><td>+</td><td>-</td><td>+</td><td>+</td></tr>\n\t<tr><td>-</td><td>+</td><td>-</td><td>+</td><td>+</td></tr>\n\t<tr><td>+</td><td>-</td><td>-</td><td>+</td><td>+</td></tr>\n\t<tr><td>-</td><td>-</td><td>-</td><td>+</td><td>+</td></tr>\n\t<tr><td>+</td><td>+</td><td>+</td><td>-</td><td>+</td></tr>\n\t<tr><td>-</td><td>+</td><td>+</td><td>-</td><td>+</td></tr>\n\t<tr><td>+</td><td>-</td><td>+</td><td>-</td><td>+</td></tr>\n\t<tr><td>-</td><td>-</td><td>+</td><td>-</td><td>+</td></tr>\n\t<tr><td>+</td><td>+</td><td>-</td><td>-</td><td>+</td></tr>\n\t<tr><td>-</td><td>+</td><td>-</td><td>-</td><td>+</td></tr>\n\t<tr><td>+</td><td>-</td><td>-</td><td>-</td><td>+</td></tr>\n\t<tr><td>-</td><td>-</td><td>-</td><td>-</td><td>+</td></tr>\n\t<tr><td>+</td><td>+</td><td>+</td><td>+</td><td>-</td></tr>\n\t<tr><td>-</td><td>+</td><td>+</td><td>+</td><td>-</td></tr>\n\t<tr><td>+</td><td>-</td><td>+</td><td>+</td><td>-</td></tr>\n\t<tr><td>-</td><td>-</td><td>+</td><td>+</td><td>-</td></tr>\n\t<tr><td>+</td><td>+</td><td>-</td><td>+</td><td>-</td></tr>\n\t<tr><td>-</td><td>+</td><td>-</td><td>+</td><td>-</td></tr>\n\t<tr><td>+</td><td>-</td><td>-</td><td>+</td><td>-</td></tr>\n\t<tr><td>-</td><td>-</td><td>-</td><td>+</td><td>-</td></tr>\n\t<tr><td>+</td><td>+</td><td>+</td><td>-</td><td>-</td></tr>\n\t<tr><td>-</td><td>+</td><td>+</td><td>-</td><td>-</td></tr>\n\t<tr><td>+</td><td>-</td><td>+</td><td>-</td><td>-</td></tr>\n\t<tr><td>-</td><td>-</td><td>+</td><td>-</td><td>-</td></tr>\n\t<tr><td>+</td><td>+</td><td>-</td><td>-</td><td>-</td></tr>\n\t<tr><td>-</td><td>+</td><td>-</td><td>-</td><td>-</td></tr>\n\t<tr><td>+</td><td>-</td><td>-</td><td>-</td><td>-</td></tr>\n\t<tr><td>-</td><td>-</td><td>-</td><td>-</td><td>-</td></tr>\n</tbody>\n</table>\n",
            "text/markdown": "\nA data.frame: 32 × 5\n\n| A &lt;fct&gt; | B &lt;fct&gt; | C &lt;fct&gt; | D &lt;fct&gt; | E &lt;fct&gt; |\n|---|---|---|---|---|\n| + | + | + | + | + |\n| - | + | + | + | + |\n| + | - | + | + | + |\n| - | - | + | + | + |\n| + | + | - | + | + |\n| - | + | - | + | + |\n| + | - | - | + | + |\n| - | - | - | + | + |\n| + | + | + | - | + |\n| - | + | + | - | + |\n| + | - | + | - | + |\n| - | - | + | - | + |\n| + | + | - | - | + |\n| - | + | - | - | + |\n| + | - | - | - | + |\n| - | - | - | - | + |\n| + | + | + | + | - |\n| - | + | + | + | - |\n| + | - | + | + | - |\n| - | - | + | + | - |\n| + | + | - | + | - |\n| - | + | - | + | - |\n| + | - | - | + | - |\n| - | - | - | + | - |\n| + | + | + | - | - |\n| - | + | + | - | - |\n| + | - | + | - | - |\n| - | - | + | - | - |\n| + | + | - | - | - |\n| - | + | - | - | - |\n| + | - | - | - | - |\n| - | - | - | - | - |\n\n",
            "text/latex": "A data.frame: 32 × 5\n\\begin{tabular}{lllll}\n A & B & C & D & E\\\\\n <fct> & <fct> & <fct> & <fct> & <fct>\\\\\n\\hline\n\t + & + & + & + & +\\\\\n\t - & + & + & + & +\\\\\n\t + & - & + & + & +\\\\\n\t - & - & + & + & +\\\\\n\t + & + & - & + & +\\\\\n\t - & + & - & + & +\\\\\n\t + & - & - & + & +\\\\\n\t - & - & - & + & +\\\\\n\t + & + & + & - & +\\\\\n\t - & + & + & - & +\\\\\n\t + & - & + & - & +\\\\\n\t - & - & + & - & +\\\\\n\t + & + & - & - & +\\\\\n\t - & + & - & - & +\\\\\n\t + & - & - & - & +\\\\\n\t - & - & - & - & +\\\\\n\t + & + & + & + & -\\\\\n\t - & + & + & + & -\\\\\n\t + & - & + & + & -\\\\\n\t - & - & + & + & -\\\\\n\t + & + & - & + & -\\\\\n\t - & + & - & + & -\\\\\n\t + & - & - & + & -\\\\\n\t - & - & - & + & -\\\\\n\t + & + & + & - & -\\\\\n\t - & + & + & - & -\\\\\n\t + & - & + & - & -\\\\\n\t - & - & + & - & -\\\\\n\t + & + & - & - & -\\\\\n\t - & + & - & - & -\\\\\n\t + & - & - & - & -\\\\\n\t - & - & - & - & -\\\\\n\\end{tabular}\n",
            "text/plain": "   A B C D E\n1  + + + + +\n2  - + + + +\n3  + - + + +\n4  - - + + +\n5  + + - + +\n6  - + - + +\n7  + - - + +\n8  - - - + +\n9  + + + - +\n10 - + + - +\n11 + - + - +\n12 - - + - +\n13 + + - - +\n14 - + - - +\n15 + - - - +\n16 - - - - +\n17 + + + + -\n18 - + + + -\n19 + - + + -\n20 - - + + -\n21 + + - + -\n22 - + - + -\n23 + - - + -\n24 - - - + -\n25 + + + - -\n26 - + + - -\n27 + - + - -\n28 - - + - -\n29 + + - - -\n30 - + - - -\n31 + - - - -\n32 - - - - -"
          },
          "metadata": {}
        },
        {
          "output_type": "display_data",
          "data": {
            "text/html": "<table>\n<caption>A design: 8 × 4</caption>\n<thead>\n\t<tr><th></th><th scope=col>A</th><th scope=col>B</th><th scope=col>C</th><th scope=col>D</th></tr>\n\t<tr><th></th><th scope=col>&lt;fct&gt;</th><th scope=col>&lt;fct&gt;</th><th scope=col>&lt;fct&gt;</th><th scope=col>&lt;fct&gt;</th></tr>\n</thead>\n<tbody>\n\t<tr><th scope=row>1</th><td>1 </td><td>-1</td><td>1 </td><td>-1</td></tr>\n\t<tr><th scope=row>2</th><td>-1</td><td>-1</td><td>-1</td><td>-1</td></tr>\n\t<tr><th scope=row>3</th><td>1 </td><td>1 </td><td>1 </td><td>1 </td></tr>\n\t<tr><th scope=row>4</th><td>-1</td><td>1 </td><td>-1</td><td>1 </td></tr>\n\t<tr><th scope=row>5</th><td>1 </td><td>-1</td><td>-1</td><td>1 </td></tr>\n\t<tr><th scope=row>6</th><td>-1</td><td>-1</td><td>1 </td><td>1 </td></tr>\n\t<tr><th scope=row>7</th><td>-1</td><td>1 </td><td>1 </td><td>-1</td></tr>\n\t<tr><th scope=row>8</th><td>1 </td><td>1 </td><td>-1</td><td>-1</td></tr>\n</tbody>\n</table>\n",
            "text/markdown": "\nA design: 8 × 4\n\n| <!--/--> | A &lt;fct&gt; | B &lt;fct&gt; | C &lt;fct&gt; | D &lt;fct&gt; |\n|---|---|---|---|---|\n| 1 | 1  | -1 | 1  | -1 |\n| 2 | -1 | -1 | -1 | -1 |\n| 3 | 1  | 1  | 1  | 1  |\n| 4 | -1 | 1  | -1 | 1  |\n| 5 | 1  | -1 | -1 | 1  |\n| 6 | -1 | -1 | 1  | 1  |\n| 7 | -1 | 1  | 1  | -1 |\n| 8 | 1  | 1  | -1 | -1 |\n\n",
            "text/latex": "A design: 8 × 4\n\\begin{tabular}{r|llll}\n  & A & B & C & D\\\\\n  & <fct> & <fct> & <fct> & <fct>\\\\\n\\hline\n\t1 & 1  & -1 & 1  & -1\\\\\n\t2 & -1 & -1 & -1 & -1\\\\\n\t3 & 1  & 1  & 1  & 1 \\\\\n\t4 & -1 & 1  & -1 & 1 \\\\\n\t5 & 1  & -1 & -1 & 1 \\\\\n\t6 & -1 & -1 & 1  & 1 \\\\\n\t7 & -1 & 1  & 1  & -1\\\\\n\t8 & 1  & 1  & -1 & -1\\\\\n\\end{tabular}\n",
            "text/plain": "  A  B  C  D \n1 1  -1 1  -1\n2 -1 -1 -1 -1\n3 1  1  1  1 \n4 -1 1  -1 1 \n5 1  -1 -1 1 \n6 -1 -1 1  1 \n7 -1 1  1  -1\n8 1  1  -1 -1"
          },
          "metadata": {}
        },
        {
          "output_type": "display_data",
          "data": {
            "text/html": "<table>\n<caption>A design: 16 × 5</caption>\n<thead>\n\t<tr><th></th><th scope=col>A</th><th scope=col>B</th><th scope=col>C</th><th scope=col>D</th><th scope=col>E</th></tr>\n\t<tr><th></th><th scope=col>&lt;fct&gt;</th><th scope=col>&lt;fct&gt;</th><th scope=col>&lt;fct&gt;</th><th scope=col>&lt;fct&gt;</th><th scope=col>&lt;fct&gt;</th></tr>\n</thead>\n<tbody>\n\t<tr><th scope=row>1</th><td>1 </td><td>1 </td><td>-1</td><td>-1</td><td>1 </td></tr>\n\t<tr><th scope=row>2</th><td>1 </td><td>1 </td><td>1 </td><td>-1</td><td>-1</td></tr>\n\t<tr><th scope=row>3</th><td>1 </td><td>-1</td><td>-1</td><td>1 </td><td>1 </td></tr>\n\t<tr><th scope=row>4</th><td>-1</td><td>1 </td><td>1 </td><td>1 </td><td>-1</td></tr>\n\t<tr><th scope=row>5</th><td>1 </td><td>1 </td><td>-1</td><td>1 </td><td>-1</td></tr>\n\t<tr><th scope=row>6</th><td>-1</td><td>1 </td><td>-1</td><td>1 </td><td>1 </td></tr>\n\t<tr><th scope=row>7</th><td>-1</td><td>1 </td><td>-1</td><td>-1</td><td>-1</td></tr>\n\t<tr><th scope=row>8</th><td>-1</td><td>-1</td><td>1 </td><td>-1</td><td>-1</td></tr>\n\t<tr><th scope=row>9</th><td>1 </td><td>-1</td><td>-1</td><td>-1</td><td>-1</td></tr>\n\t<tr><th scope=row>10</th><td>1 </td><td>-1</td><td>1 </td><td>-1</td><td>1 </td></tr>\n\t<tr><th scope=row>11</th><td>-1</td><td>-1</td><td>-1</td><td>1 </td><td>-1</td></tr>\n\t<tr><th scope=row>12</th><td>1 </td><td>1 </td><td>1 </td><td>1 </td><td>1 </td></tr>\n\t<tr><th scope=row>13</th><td>1 </td><td>-1</td><td>1 </td><td>1 </td><td>-1</td></tr>\n\t<tr><th scope=row>14</th><td>-1</td><td>-1</td><td>1 </td><td>1 </td><td>1 </td></tr>\n\t<tr><th scope=row>15</th><td>-1</td><td>1 </td><td>1 </td><td>-1</td><td>1 </td></tr>\n\t<tr><th scope=row>16</th><td>-1</td><td>-1</td><td>-1</td><td>-1</td><td>1 </td></tr>\n</tbody>\n</table>\n",
            "text/markdown": "\nA design: 16 × 5\n\n| <!--/--> | A &lt;fct&gt; | B &lt;fct&gt; | C &lt;fct&gt; | D &lt;fct&gt; | E &lt;fct&gt; |\n|---|---|---|---|---|---|\n| 1 | 1  | 1  | -1 | -1 | 1  |\n| 2 | 1  | 1  | 1  | -1 | -1 |\n| 3 | 1  | -1 | -1 | 1  | 1  |\n| 4 | -1 | 1  | 1  | 1  | -1 |\n| 5 | 1  | 1  | -1 | 1  | -1 |\n| 6 | -1 | 1  | -1 | 1  | 1  |\n| 7 | -1 | 1  | -1 | -1 | -1 |\n| 8 | -1 | -1 | 1  | -1 | -1 |\n| 9 | 1  | -1 | -1 | -1 | -1 |\n| 10 | 1  | -1 | 1  | -1 | 1  |\n| 11 | -1 | -1 | -1 | 1  | -1 |\n| 12 | 1  | 1  | 1  | 1  | 1  |\n| 13 | 1  | -1 | 1  | 1  | -1 |\n| 14 | -1 | -1 | 1  | 1  | 1  |\n| 15 | -1 | 1  | 1  | -1 | 1  |\n| 16 | -1 | -1 | -1 | -1 | 1  |\n\n",
            "text/latex": "A design: 16 × 5\n\\begin{tabular}{r|lllll}\n  & A & B & C & D & E\\\\\n  & <fct> & <fct> & <fct> & <fct> & <fct>\\\\\n\\hline\n\t1 & 1  & 1  & -1 & -1 & 1 \\\\\n\t2 & 1  & 1  & 1  & -1 & -1\\\\\n\t3 & 1  & -1 & -1 & 1  & 1 \\\\\n\t4 & -1 & 1  & 1  & 1  & -1\\\\\n\t5 & 1  & 1  & -1 & 1  & -1\\\\\n\t6 & -1 & 1  & -1 & 1  & 1 \\\\\n\t7 & -1 & 1  & -1 & -1 & -1\\\\\n\t8 & -1 & -1 & 1  & -1 & -1\\\\\n\t9 & 1  & -1 & -1 & -1 & -1\\\\\n\t10 & 1  & -1 & 1  & -1 & 1 \\\\\n\t11 & -1 & -1 & -1 & 1  & -1\\\\\n\t12 & 1  & 1  & 1  & 1  & 1 \\\\\n\t13 & 1  & -1 & 1  & 1  & -1\\\\\n\t14 & -1 & -1 & 1  & 1  & 1 \\\\\n\t15 & -1 & 1  & 1  & -1 & 1 \\\\\n\t16 & -1 & -1 & -1 & -1 & 1 \\\\\n\\end{tabular}\n",
            "text/plain": "   A  B  C  D  E \n1  1  1  -1 -1 1 \n2  1  1  1  -1 -1\n3  1  -1 -1 1  1 \n4  -1 1  1  1  -1\n5  1  1  -1 1  -1\n6  -1 1  -1 1  1 \n7  -1 1  -1 -1 -1\n8  -1 -1 1  -1 -1\n9  1  -1 -1 -1 -1\n10 1  -1 1  -1 1 \n11 -1 -1 -1 1  -1\n12 1  1  1  1  1 \n13 1  -1 1  1  -1\n14 -1 -1 1  1  1 \n15 -1 1  1  -1 1 \n16 -1 -1 -1 -1 1 "
          },
          "metadata": {}
        },
        {
          "output_type": "display_data",
          "data": {
            "text/html": "<table>\n<caption>A design: 32 × 6</caption>\n<thead>\n\t<tr><th></th><th scope=col>A</th><th scope=col>B</th><th scope=col>C</th><th scope=col>D</th><th scope=col>E</th><th scope=col>F</th></tr>\n\t<tr><th></th><th scope=col>&lt;fct&gt;</th><th scope=col>&lt;fct&gt;</th><th scope=col>&lt;fct&gt;</th><th scope=col>&lt;fct&gt;</th><th scope=col>&lt;fct&gt;</th><th scope=col>&lt;fct&gt;</th></tr>\n</thead>\n<tbody>\n\t<tr><th scope=row>1</th><td>1 </td><td>-1</td><td>1 </td><td>-1</td><td>-1</td><td>-1</td></tr>\n\t<tr><th scope=row>2</th><td>-1</td><td>-1</td><td>1 </td><td>1 </td><td>-1</td><td>-1</td></tr>\n\t<tr><th scope=row>3</th><td>1 </td><td>-1</td><td>1 </td><td>-1</td><td>1 </td><td>1 </td></tr>\n\t<tr><th scope=row>4</th><td>1 </td><td>1 </td><td>1 </td><td>1 </td><td>-1</td><td>-1</td></tr>\n\t<tr><th scope=row>5</th><td>-1</td><td>1 </td><td>-1</td><td>1 </td><td>-1</td><td>-1</td></tr>\n\t<tr><th scope=row>6</th><td>1 </td><td>1 </td><td>-1</td><td>1 </td><td>1 </td><td>-1</td></tr>\n\t<tr><th scope=row>7</th><td>-1</td><td>1 </td><td>1 </td><td>1 </td><td>-1</td><td>1 </td></tr>\n\t<tr><th scope=row>8</th><td>1 </td><td>-1</td><td>-1</td><td>-1</td><td>-1</td><td>1 </td></tr>\n\t<tr><th scope=row>9</th><td>-1</td><td>-1</td><td>1 </td><td>-1</td><td>1 </td><td>-1</td></tr>\n\t<tr><th scope=row>10</th><td>-1</td><td>-1</td><td>-1</td><td>-1</td><td>-1</td><td>-1</td></tr>\n\t<tr><th scope=row>11</th><td>1 </td><td>1 </td><td>-1</td><td>1 </td><td>-1</td><td>1 </td></tr>\n\t<tr><th scope=row>12</th><td>-1</td><td>-1</td><td>1 </td><td>1 </td><td>1 </td><td>1 </td></tr>\n\t<tr><th scope=row>13</th><td>-1</td><td>1 </td><td>1 </td><td>-1</td><td>-1</td><td>-1</td></tr>\n\t<tr><th scope=row>14</th><td>1 </td><td>1 </td><td>1 </td><td>1 </td><td>1 </td><td>1 </td></tr>\n\t<tr><th scope=row>15</th><td>1 </td><td>1 </td><td>-1</td><td>-1</td><td>-1</td><td>-1</td></tr>\n\t<tr><th scope=row>16</th><td>1 </td><td>1 </td><td>1 </td><td>-1</td><td>1 </td><td>-1</td></tr>\n\t<tr><th scope=row>17</th><td>-1</td><td>-1</td><td>1 </td><td>-1</td><td>-1</td><td>1 </td></tr>\n\t<tr><th scope=row>18</th><td>-1</td><td>1 </td><td>-1</td><td>1 </td><td>1 </td><td>1 </td></tr>\n\t<tr><th scope=row>19</th><td>1 </td><td>-1</td><td>-1</td><td>-1</td><td>1 </td><td>-1</td></tr>\n\t<tr><th scope=row>20</th><td>-1</td><td>-1</td><td>-1</td><td>1 </td><td>-1</td><td>1 </td></tr>\n\t<tr><th scope=row>21</th><td>1 </td><td>-1</td><td>-1</td><td>1 </td><td>-1</td><td>-1</td></tr>\n\t<tr><th scope=row>22</th><td>-1</td><td>-1</td><td>-1</td><td>-1</td><td>1 </td><td>1 </td></tr>\n\t<tr><th scope=row>23</th><td>-1</td><td>1 </td><td>-1</td><td>-1</td><td>1 </td><td>-1</td></tr>\n\t<tr><th scope=row>24</th><td>1 </td><td>-1</td><td>1 </td><td>1 </td><td>1 </td><td>-1</td></tr>\n\t<tr><th scope=row>25</th><td>1 </td><td>-1</td><td>1 </td><td>1 </td><td>-1</td><td>1 </td></tr>\n\t<tr><th scope=row>26</th><td>-1</td><td>-1</td><td>-1</td><td>1 </td><td>1 </td><td>-1</td></tr>\n\t<tr><th scope=row>27</th><td>-1</td><td>1 </td><td>1 </td><td>1 </td><td>1 </td><td>-1</td></tr>\n\t<tr><th scope=row>28</th><td>-1</td><td>1 </td><td>1 </td><td>-1</td><td>1 </td><td>1 </td></tr>\n\t<tr><th scope=row>29</th><td>1 </td><td>-1</td><td>-1</td><td>1 </td><td>1 </td><td>1 </td></tr>\n\t<tr><th scope=row>30</th><td>1 </td><td>1 </td><td>-1</td><td>-1</td><td>1 </td><td>1 </td></tr>\n\t<tr><th scope=row>31</th><td>-1</td><td>1 </td><td>-1</td><td>-1</td><td>-1</td><td>1 </td></tr>\n\t<tr><th scope=row>32</th><td>1 </td><td>1 </td><td>1 </td><td>-1</td><td>-1</td><td>1 </td></tr>\n</tbody>\n</table>\n",
            "text/markdown": "\nA design: 32 × 6\n\n| <!--/--> | A &lt;fct&gt; | B &lt;fct&gt; | C &lt;fct&gt; | D &lt;fct&gt; | E &lt;fct&gt; | F &lt;fct&gt; |\n|---|---|---|---|---|---|---|\n| 1 | 1  | -1 | 1  | -1 | -1 | -1 |\n| 2 | -1 | -1 | 1  | 1  | -1 | -1 |\n| 3 | 1  | -1 | 1  | -1 | 1  | 1  |\n| 4 | 1  | 1  | 1  | 1  | -1 | -1 |\n| 5 | -1 | 1  | -1 | 1  | -1 | -1 |\n| 6 | 1  | 1  | -1 | 1  | 1  | -1 |\n| 7 | -1 | 1  | 1  | 1  | -1 | 1  |\n| 8 | 1  | -1 | -1 | -1 | -1 | 1  |\n| 9 | -1 | -1 | 1  | -1 | 1  | -1 |\n| 10 | -1 | -1 | -1 | -1 | -1 | -1 |\n| 11 | 1  | 1  | -1 | 1  | -1 | 1  |\n| 12 | -1 | -1 | 1  | 1  | 1  | 1  |\n| 13 | -1 | 1  | 1  | -1 | -1 | -1 |\n| 14 | 1  | 1  | 1  | 1  | 1  | 1  |\n| 15 | 1  | 1  | -1 | -1 | -1 | -1 |\n| 16 | 1  | 1  | 1  | -1 | 1  | -1 |\n| 17 | -1 | -1 | 1  | -1 | -1 | 1  |\n| 18 | -1 | 1  | -1 | 1  | 1  | 1  |\n| 19 | 1  | -1 | -1 | -1 | 1  | -1 |\n| 20 | -1 | -1 | -1 | 1  | -1 | 1  |\n| 21 | 1  | -1 | -1 | 1  | -1 | -1 |\n| 22 | -1 | -1 | -1 | -1 | 1  | 1  |\n| 23 | -1 | 1  | -1 | -1 | 1  | -1 |\n| 24 | 1  | -1 | 1  | 1  | 1  | -1 |\n| 25 | 1  | -1 | 1  | 1  | -1 | 1  |\n| 26 | -1 | -1 | -1 | 1  | 1  | -1 |\n| 27 | -1 | 1  | 1  | 1  | 1  | -1 |\n| 28 | -1 | 1  | 1  | -1 | 1  | 1  |\n| 29 | 1  | -1 | -1 | 1  | 1  | 1  |\n| 30 | 1  | 1  | -1 | -1 | 1  | 1  |\n| 31 | -1 | 1  | -1 | -1 | -1 | 1  |\n| 32 | 1  | 1  | 1  | -1 | -1 | 1  |\n\n",
            "text/latex": "A design: 32 × 6\n\\begin{tabular}{r|llllll}\n  & A & B & C & D & E & F\\\\\n  & <fct> & <fct> & <fct> & <fct> & <fct> & <fct>\\\\\n\\hline\n\t1 & 1  & -1 & 1  & -1 & -1 & -1\\\\\n\t2 & -1 & -1 & 1  & 1  & -1 & -1\\\\\n\t3 & 1  & -1 & 1  & -1 & 1  & 1 \\\\\n\t4 & 1  & 1  & 1  & 1  & -1 & -1\\\\\n\t5 & -1 & 1  & -1 & 1  & -1 & -1\\\\\n\t6 & 1  & 1  & -1 & 1  & 1  & -1\\\\\n\t7 & -1 & 1  & 1  & 1  & -1 & 1 \\\\\n\t8 & 1  & -1 & -1 & -1 & -1 & 1 \\\\\n\t9 & -1 & -1 & 1  & -1 & 1  & -1\\\\\n\t10 & -1 & -1 & -1 & -1 & -1 & -1\\\\\n\t11 & 1  & 1  & -1 & 1  & -1 & 1 \\\\\n\t12 & -1 & -1 & 1  & 1  & 1  & 1 \\\\\n\t13 & -1 & 1  & 1  & -1 & -1 & -1\\\\\n\t14 & 1  & 1  & 1  & 1  & 1  & 1 \\\\\n\t15 & 1  & 1  & -1 & -1 & -1 & -1\\\\\n\t16 & 1  & 1  & 1  & -1 & 1  & -1\\\\\n\t17 & -1 & -1 & 1  & -1 & -1 & 1 \\\\\n\t18 & -1 & 1  & -1 & 1  & 1  & 1 \\\\\n\t19 & 1  & -1 & -1 & -1 & 1  & -1\\\\\n\t20 & -1 & -1 & -1 & 1  & -1 & 1 \\\\\n\t21 & 1  & -1 & -1 & 1  & -1 & -1\\\\\n\t22 & -1 & -1 & -1 & -1 & 1  & 1 \\\\\n\t23 & -1 & 1  & -1 & -1 & 1  & -1\\\\\n\t24 & 1  & -1 & 1  & 1  & 1  & -1\\\\\n\t25 & 1  & -1 & 1  & 1  & -1 & 1 \\\\\n\t26 & -1 & -1 & -1 & 1  & 1  & -1\\\\\n\t27 & -1 & 1  & 1  & 1  & 1  & -1\\\\\n\t28 & -1 & 1  & 1  & -1 & 1  & 1 \\\\\n\t29 & 1  & -1 & -1 & 1  & 1  & 1 \\\\\n\t30 & 1  & 1  & -1 & -1 & 1  & 1 \\\\\n\t31 & -1 & 1  & -1 & -1 & -1 & 1 \\\\\n\t32 & 1  & 1  & 1  & -1 & -1 & 1 \\\\\n\\end{tabular}\n",
            "text/plain": "   A  B  C  D  E  F \n1  1  -1 1  -1 -1 -1\n2  -1 -1 1  1  -1 -1\n3  1  -1 1  -1 1  1 \n4  1  1  1  1  -1 -1\n5  -1 1  -1 1  -1 -1\n6  1  1  -1 1  1  -1\n7  -1 1  1  1  -1 1 \n8  1  -1 -1 -1 -1 1 \n9  -1 -1 1  -1 1  -1\n10 -1 -1 -1 -1 -1 -1\n11 1  1  -1 1  -1 1 \n12 -1 -1 1  1  1  1 \n13 -1 1  1  -1 -1 -1\n14 1  1  1  1  1  1 \n15 1  1  -1 -1 -1 -1\n16 1  1  1  -1 1  -1\n17 -1 -1 1  -1 -1 1 \n18 -1 1  -1 1  1  1 \n19 1  -1 -1 -1 1  -1\n20 -1 -1 -1 1  -1 1 \n21 1  -1 -1 1  -1 -1\n22 -1 -1 -1 -1 1  1 \n23 -1 1  -1 -1 1  -1\n24 1  -1 1  1  1  -1\n25 1  -1 1  1  -1 1 \n26 -1 -1 -1 1  1  -1\n27 -1 1  1  1  1  -1\n28 -1 1  1  -1 1  1 \n29 1  -1 -1 1  1  1 \n30 1  1  -1 -1 1  1 \n31 -1 1  -1 -1 -1 1 \n32 1  1  1  -1 -1 1 "
          },
          "metadata": {}
        },
        {
          "output_type": "display_data",
          "data": {
            "text/html": "<table>\n<caption>A design: 32 × 7</caption>\n<thead>\n\t<tr><th></th><th scope=col>A</th><th scope=col>B</th><th scope=col>C</th><th scope=col>D</th><th scope=col>E</th><th scope=col>F</th><th scope=col>G</th></tr>\n\t<tr><th></th><th scope=col>&lt;fct&gt;</th><th scope=col>&lt;fct&gt;</th><th scope=col>&lt;fct&gt;</th><th scope=col>&lt;fct&gt;</th><th scope=col>&lt;fct&gt;</th><th scope=col>&lt;fct&gt;</th><th scope=col>&lt;fct&gt;</th></tr>\n</thead>\n<tbody>\n\t<tr><th scope=row>1</th><td>1 </td><td>1 </td><td>1 </td><td>-1</td><td>1 </td><td>1 </td><td>-1</td></tr>\n\t<tr><th scope=row>2</th><td>1 </td><td>-1</td><td>1 </td><td>-1</td><td>-1</td><td>-1</td><td>-1</td></tr>\n\t<tr><th scope=row>3</th><td>1 </td><td>-1</td><td>-1</td><td>1 </td><td>1 </td><td>1 </td><td>-1</td></tr>\n\t<tr><th scope=row>4</th><td>-1</td><td>1 </td><td>-1</td><td>1 </td><td>1 </td><td>1 </td><td>-1</td></tr>\n\t<tr><th scope=row>5</th><td>-1</td><td>-1</td><td>1 </td><td>-1</td><td>1 </td><td>1 </td><td>-1</td></tr>\n\t<tr><th scope=row>6</th><td>1 </td><td>-1</td><td>1 </td><td>1 </td><td>1 </td><td>-1</td><td>-1</td></tr>\n\t<tr><th scope=row>7</th><td>-1</td><td>-1</td><td>-1</td><td>1 </td><td>-1</td><td>-1</td><td>-1</td></tr>\n\t<tr><th scope=row>8</th><td>-1</td><td>-1</td><td>-1</td><td>-1</td><td>1 </td><td>-1</td><td>-1</td></tr>\n\t<tr><th scope=row>9</th><td>1 </td><td>1 </td><td>1 </td><td>-1</td><td>-1</td><td>1 </td><td>1 </td></tr>\n\t<tr><th scope=row>10</th><td>1 </td><td>-1</td><td>-1</td><td>-1</td><td>-1</td><td>1 </td><td>-1</td></tr>\n\t<tr><th scope=row>11</th><td>1 </td><td>1 </td><td>-1</td><td>-1</td><td>-1</td><td>-1</td><td>1 </td></tr>\n\t<tr><th scope=row>12</th><td>1 </td><td>1 </td><td>1 </td><td>1 </td><td>1 </td><td>1 </td><td>1 </td></tr>\n\t<tr><th scope=row>13</th><td>-1</td><td>1 </td><td>-1</td><td>-1</td><td>-1</td><td>1 </td><td>-1</td></tr>\n\t<tr><th scope=row>14</th><td>-1</td><td>-1</td><td>1 </td><td>-1</td><td>-1</td><td>1 </td><td>1 </td></tr>\n\t<tr><th scope=row>15</th><td>1 </td><td>1 </td><td>-1</td><td>1 </td><td>1 </td><td>-1</td><td>1 </td></tr>\n\t<tr><th scope=row>16</th><td>1 </td><td>1 </td><td>-1</td><td>-1</td><td>1 </td><td>-1</td><td>-1</td></tr>\n\t<tr><th scope=row>17</th><td>-1</td><td>-1</td><td>-1</td><td>1 </td><td>1 </td><td>-1</td><td>1 </td></tr>\n\t<tr><th scope=row>18</th><td>1 </td><td>-1</td><td>-1</td><td>-1</td><td>1 </td><td>1 </td><td>1 </td></tr>\n\t<tr><th scope=row>19</th><td>-1</td><td>1 </td><td>1 </td><td>-1</td><td>-1</td><td>-1</td><td>-1</td></tr>\n\t<tr><th scope=row>20</th><td>1 </td><td>-1</td><td>1 </td><td>-1</td><td>1 </td><td>-1</td><td>1 </td></tr>\n\t<tr><th scope=row>21</th><td>-1</td><td>1 </td><td>1 </td><td>-1</td><td>1 </td><td>-1</td><td>1 </td></tr>\n\t<tr><th scope=row>22</th><td>-1</td><td>-1</td><td>1 </td><td>1 </td><td>-1</td><td>1 </td><td>-1</td></tr>\n\t<tr><th scope=row>23</th><td>-1</td><td>1 </td><td>1 </td><td>1 </td><td>1 </td><td>-1</td><td>-1</td></tr>\n\t<tr><th scope=row>24</th><td>-1</td><td>1 </td><td>-1</td><td>1 </td><td>-1</td><td>1 </td><td>1 </td></tr>\n\t<tr><th scope=row>25</th><td>1 </td><td>1 </td><td>1 </td><td>1 </td><td>-1</td><td>1 </td><td>-1</td></tr>\n\t<tr><th scope=row>26</th><td>-1</td><td>1 </td><td>-1</td><td>-1</td><td>1 </td><td>1 </td><td>1 </td></tr>\n\t<tr><th scope=row>27</th><td>1 </td><td>1 </td><td>-1</td><td>1 </td><td>-1</td><td>-1</td><td>-1</td></tr>\n\t<tr><th scope=row>28</th><td>-1</td><td>1 </td><td>1 </td><td>1 </td><td>-1</td><td>-1</td><td>1 </td></tr>\n\t<tr><th scope=row>29</th><td>-1</td><td>-1</td><td>-1</td><td>-1</td><td>-1</td><td>-1</td><td>1 </td></tr>\n\t<tr><th scope=row>30</th><td>1 </td><td>-1</td><td>-1</td><td>1 </td><td>-1</td><td>1 </td><td>1 </td></tr>\n\t<tr><th scope=row>31</th><td>1 </td><td>-1</td><td>1 </td><td>1 </td><td>-1</td><td>-1</td><td>1 </td></tr>\n\t<tr><th scope=row>32</th><td>-1</td><td>-1</td><td>1 </td><td>1 </td><td>1 </td><td>1 </td><td>1 </td></tr>\n</tbody>\n</table>\n",
            "text/markdown": "\nA design: 32 × 7\n\n| <!--/--> | A &lt;fct&gt; | B &lt;fct&gt; | C &lt;fct&gt; | D &lt;fct&gt; | E &lt;fct&gt; | F &lt;fct&gt; | G &lt;fct&gt; |\n|---|---|---|---|---|---|---|---|\n| 1 | 1  | 1  | 1  | -1 | 1  | 1  | -1 |\n| 2 | 1  | -1 | 1  | -1 | -1 | -1 | -1 |\n| 3 | 1  | -1 | -1 | 1  | 1  | 1  | -1 |\n| 4 | -1 | 1  | -1 | 1  | 1  | 1  | -1 |\n| 5 | -1 | -1 | 1  | -1 | 1  | 1  | -1 |\n| 6 | 1  | -1 | 1  | 1  | 1  | -1 | -1 |\n| 7 | -1 | -1 | -1 | 1  | -1 | -1 | -1 |\n| 8 | -1 | -1 | -1 | -1 | 1  | -1 | -1 |\n| 9 | 1  | 1  | 1  | -1 | -1 | 1  | 1  |\n| 10 | 1  | -1 | -1 | -1 | -1 | 1  | -1 |\n| 11 | 1  | 1  | -1 | -1 | -1 | -1 | 1  |\n| 12 | 1  | 1  | 1  | 1  | 1  | 1  | 1  |\n| 13 | -1 | 1  | -1 | -1 | -1 | 1  | -1 |\n| 14 | -1 | -1 | 1  | -1 | -1 | 1  | 1  |\n| 15 | 1  | 1  | -1 | 1  | 1  | -1 | 1  |\n| 16 | 1  | 1  | -1 | -1 | 1  | -1 | -1 |\n| 17 | -1 | -1 | -1 | 1  | 1  | -1 | 1  |\n| 18 | 1  | -1 | -1 | -1 | 1  | 1  | 1  |\n| 19 | -1 | 1  | 1  | -1 | -1 | -1 | -1 |\n| 20 | 1  | -1 | 1  | -1 | 1  | -1 | 1  |\n| 21 | -1 | 1  | 1  | -1 | 1  | -1 | 1  |\n| 22 | -1 | -1 | 1  | 1  | -1 | 1  | -1 |\n| 23 | -1 | 1  | 1  | 1  | 1  | -1 | -1 |\n| 24 | -1 | 1  | -1 | 1  | -1 | 1  | 1  |\n| 25 | 1  | 1  | 1  | 1  | -1 | 1  | -1 |\n| 26 | -1 | 1  | -1 | -1 | 1  | 1  | 1  |\n| 27 | 1  | 1  | -1 | 1  | -1 | -1 | -1 |\n| 28 | -1 | 1  | 1  | 1  | -1 | -1 | 1  |\n| 29 | -1 | -1 | -1 | -1 | -1 | -1 | 1  |\n| 30 | 1  | -1 | -1 | 1  | -1 | 1  | 1  |\n| 31 | 1  | -1 | 1  | 1  | -1 | -1 | 1  |\n| 32 | -1 | -1 | 1  | 1  | 1  | 1  | 1  |\n\n",
            "text/latex": "A design: 32 × 7\n\\begin{tabular}{r|lllllll}\n  & A & B & C & D & E & F & G\\\\\n  & <fct> & <fct> & <fct> & <fct> & <fct> & <fct> & <fct>\\\\\n\\hline\n\t1 & 1  & 1  & 1  & -1 & 1  & 1  & -1\\\\\n\t2 & 1  & -1 & 1  & -1 & -1 & -1 & -1\\\\\n\t3 & 1  & -1 & -1 & 1  & 1  & 1  & -1\\\\\n\t4 & -1 & 1  & -1 & 1  & 1  & 1  & -1\\\\\n\t5 & -1 & -1 & 1  & -1 & 1  & 1  & -1\\\\\n\t6 & 1  & -1 & 1  & 1  & 1  & -1 & -1\\\\\n\t7 & -1 & -1 & -1 & 1  & -1 & -1 & -1\\\\\n\t8 & -1 & -1 & -1 & -1 & 1  & -1 & -1\\\\\n\t9 & 1  & 1  & 1  & -1 & -1 & 1  & 1 \\\\\n\t10 & 1  & -1 & -1 & -1 & -1 & 1  & -1\\\\\n\t11 & 1  & 1  & -1 & -1 & -1 & -1 & 1 \\\\\n\t12 & 1  & 1  & 1  & 1  & 1  & 1  & 1 \\\\\n\t13 & -1 & 1  & -1 & -1 & -1 & 1  & -1\\\\\n\t14 & -1 & -1 & 1  & -1 & -1 & 1  & 1 \\\\\n\t15 & 1  & 1  & -1 & 1  & 1  & -1 & 1 \\\\\n\t16 & 1  & 1  & -1 & -1 & 1  & -1 & -1\\\\\n\t17 & -1 & -1 & -1 & 1  & 1  & -1 & 1 \\\\\n\t18 & 1  & -1 & -1 & -1 & 1  & 1  & 1 \\\\\n\t19 & -1 & 1  & 1  & -1 & -1 & -1 & -1\\\\\n\t20 & 1  & -1 & 1  & -1 & 1  & -1 & 1 \\\\\n\t21 & -1 & 1  & 1  & -1 & 1  & -1 & 1 \\\\\n\t22 & -1 & -1 & 1  & 1  & -1 & 1  & -1\\\\\n\t23 & -1 & 1  & 1  & 1  & 1  & -1 & -1\\\\\n\t24 & -1 & 1  & -1 & 1  & -1 & 1  & 1 \\\\\n\t25 & 1  & 1  & 1  & 1  & -1 & 1  & -1\\\\\n\t26 & -1 & 1  & -1 & -1 & 1  & 1  & 1 \\\\\n\t27 & 1  & 1  & -1 & 1  & -1 & -1 & -1\\\\\n\t28 & -1 & 1  & 1  & 1  & -1 & -1 & 1 \\\\\n\t29 & -1 & -1 & -1 & -1 & -1 & -1 & 1 \\\\\n\t30 & 1  & -1 & -1 & 1  & -1 & 1  & 1 \\\\\n\t31 & 1  & -1 & 1  & 1  & -1 & -1 & 1 \\\\\n\t32 & -1 & -1 & 1  & 1  & 1  & 1  & 1 \\\\\n\\end{tabular}\n",
            "text/plain": "   A  B  C  D  E  F  G \n1  1  1  1  -1 1  1  -1\n2  1  -1 1  -1 -1 -1 -1\n3  1  -1 -1 1  1  1  -1\n4  -1 1  -1 1  1  1  -1\n5  -1 -1 1  -1 1  1  -1\n6  1  -1 1  1  1  -1 -1\n7  -1 -1 -1 1  -1 -1 -1\n8  -1 -1 -1 -1 1  -1 -1\n9  1  1  1  -1 -1 1  1 \n10 1  -1 -1 -1 -1 1  -1\n11 1  1  -1 -1 -1 -1 1 \n12 1  1  1  1  1  1  1 \n13 -1 1  -1 -1 -1 1  -1\n14 -1 -1 1  -1 -1 1  1 \n15 1  1  -1 1  1  -1 1 \n16 1  1  -1 -1 1  -1 -1\n17 -1 -1 -1 1  1  -1 1 \n18 1  -1 -1 -1 1  1  1 \n19 -1 1  1  -1 -1 -1 -1\n20 1  -1 1  -1 1  -1 1 \n21 -1 1  1  -1 1  -1 1 \n22 -1 -1 1  1  -1 1  -1\n23 -1 1  1  1  1  -1 -1\n24 -1 1  -1 1  -1 1  1 \n25 1  1  1  1  -1 1  -1\n26 -1 1  -1 -1 1  1  1 \n27 1  1  -1 1  -1 -1 -1\n28 -1 1  1  1  -1 -1 1 \n29 -1 -1 -1 -1 -1 -1 1 \n30 1  -1 -1 1  -1 1  1 \n31 1  -1 1  1  -1 -1 1 \n32 -1 -1 1  1  1  1  1 "
          },
          "metadata": {}
        }
      ],
      "execution_count": 1,
      "metadata": {
        "collapsed": true,
        "jupyter": {
          "source_hidden": false,
          "outputs_hidden": false
        },
        "nteract": {
          "transient": {
            "deleting": false
          }
        },
        "execution": {
          "iopub.status.busy": "2021-05-31T19:04:05.717Z",
          "iopub.execute_input": "2021-05-31T19:04:05.726Z",
          "iopub.status.idle": "2021-05-31T19:04:06.827Z",
          "shell.execute_reply": "2021-05-31T19:04:06.853Z"
        }
      }
    },
    {
      "cell_type": "code",
      "source": [
        "\n",
        "\n",
        "\n",
        "#Plackett-Burman 12\n",
        "placket_burman12 <- pb(12)\n",
        "placket_burman12\n",
        "#Plackett-Burman 16\n",
        "placket_burman16 <- pb(16)\n",
        "placket_burman16\n",
        "#Plackett-Burman 20\n",
        "placket_burman20 <- pb(20)\n",
        "placket_burman20\n"
      ],
      "outputs": [
        {
          "output_type": "display_data",
          "data": {
            "text/html": "<table>\n<caption>A design: 12 × 11</caption>\n<thead>\n\t<tr><th></th><th scope=col>A</th><th scope=col>B</th><th scope=col>C</th><th scope=col>D</th><th scope=col>E</th><th scope=col>F</th><th scope=col>G</th><th scope=col>H</th><th scope=col>J</th><th scope=col>K</th><th scope=col>L</th></tr>\n\t<tr><th></th><th scope=col>&lt;fct&gt;</th><th scope=col>&lt;fct&gt;</th><th scope=col>&lt;fct&gt;</th><th scope=col>&lt;fct&gt;</th><th scope=col>&lt;fct&gt;</th><th scope=col>&lt;fct&gt;</th><th scope=col>&lt;fct&gt;</th><th scope=col>&lt;fct&gt;</th><th scope=col>&lt;fct&gt;</th><th scope=col>&lt;fct&gt;</th><th scope=col>&lt;fct&gt;</th></tr>\n</thead>\n<tbody>\n\t<tr><th scope=row>1</th><td>1 </td><td>1 </td><td>1 </td><td>-1</td><td>-1</td><td>-1</td><td>1 </td><td>-1</td><td>1 </td><td>1 </td><td>-1</td></tr>\n\t<tr><th scope=row>2</th><td>1 </td><td>-1</td><td>1 </td><td>1 </td><td>1 </td><td>-1</td><td>-1</td><td>-1</td><td>1 </td><td>-1</td><td>1 </td></tr>\n\t<tr><th scope=row>3</th><td>1 </td><td>1 </td><td>-1</td><td>1 </td><td>1 </td><td>1 </td><td>-1</td><td>-1</td><td>-1</td><td>1 </td><td>-1</td></tr>\n\t<tr><th scope=row>4</th><td>1 </td><td>1 </td><td>-1</td><td>-1</td><td>-1</td><td>1 </td><td>-1</td><td>1 </td><td>1 </td><td>-1</td><td>1 </td></tr>\n\t<tr><th scope=row>5</th><td>-1</td><td>1 </td><td>-1</td><td>1 </td><td>1 </td><td>-1</td><td>1 </td><td>1 </td><td>1 </td><td>-1</td><td>-1</td></tr>\n\t<tr><th scope=row>6</th><td>-1</td><td>1 </td><td>1 </td><td>1 </td><td>-1</td><td>-1</td><td>-1</td><td>1 </td><td>-1</td><td>1 </td><td>1 </td></tr>\n\t<tr><th scope=row>7</th><td>-1</td><td>-1</td><td>1 </td><td>-1</td><td>1 </td><td>1 </td><td>-1</td><td>1 </td><td>1 </td><td>1 </td><td>-1</td></tr>\n\t<tr><th scope=row>8</th><td>1 </td><td>-1</td><td>-1</td><td>-1</td><td>1 </td><td>-1</td><td>1 </td><td>1 </td><td>-1</td><td>1 </td><td>1 </td></tr>\n\t<tr><th scope=row>9</th><td>-1</td><td>1 </td><td>1 </td><td>-1</td><td>1 </td><td>1 </td><td>1 </td><td>-1</td><td>-1</td><td>-1</td><td>1 </td></tr>\n\t<tr><th scope=row>10</th><td>-1</td><td>-1</td><td>-1</td><td>-1</td><td>-1</td><td>-1</td><td>-1</td><td>-1</td><td>-1</td><td>-1</td><td>-1</td></tr>\n\t<tr><th scope=row>11</th><td>-1</td><td>-1</td><td>-1</td><td>1 </td><td>-1</td><td>1 </td><td>1 </td><td>-1</td><td>1 </td><td>1 </td><td>1 </td></tr>\n\t<tr><th scope=row>12</th><td>1 </td><td>-1</td><td>1 </td><td>1 </td><td>-1</td><td>1 </td><td>1 </td><td>1 </td><td>-1</td><td>-1</td><td>-1</td></tr>\n</tbody>\n</table>\n",
            "text/markdown": "\nA design: 12 × 11\n\n| <!--/--> | A &lt;fct&gt; | B &lt;fct&gt; | C &lt;fct&gt; | D &lt;fct&gt; | E &lt;fct&gt; | F &lt;fct&gt; | G &lt;fct&gt; | H &lt;fct&gt; | J &lt;fct&gt; | K &lt;fct&gt; | L &lt;fct&gt; |\n|---|---|---|---|---|---|---|---|---|---|---|---|\n| 1 | 1  | 1  | 1  | -1 | -1 | -1 | 1  | -1 | 1  | 1  | -1 |\n| 2 | 1  | -1 | 1  | 1  | 1  | -1 | -1 | -1 | 1  | -1 | 1  |\n| 3 | 1  | 1  | -1 | 1  | 1  | 1  | -1 | -1 | -1 | 1  | -1 |\n| 4 | 1  | 1  | -1 | -1 | -1 | 1  | -1 | 1  | 1  | -1 | 1  |\n| 5 | -1 | 1  | -1 | 1  | 1  | -1 | 1  | 1  | 1  | -1 | -1 |\n| 6 | -1 | 1  | 1  | 1  | -1 | -1 | -1 | 1  | -1 | 1  | 1  |\n| 7 | -1 | -1 | 1  | -1 | 1  | 1  | -1 | 1  | 1  | 1  | -1 |\n| 8 | 1  | -1 | -1 | -1 | 1  | -1 | 1  | 1  | -1 | 1  | 1  |\n| 9 | -1 | 1  | 1  | -1 | 1  | 1  | 1  | -1 | -1 | -1 | 1  |\n| 10 | -1 | -1 | -1 | -1 | -1 | -1 | -1 | -1 | -1 | -1 | -1 |\n| 11 | -1 | -1 | -1 | 1  | -1 | 1  | 1  | -1 | 1  | 1  | 1  |\n| 12 | 1  | -1 | 1  | 1  | -1 | 1  | 1  | 1  | -1 | -1 | -1 |\n\n",
            "text/latex": "A design: 12 × 11\n\\begin{tabular}{r|lllllllllll}\n  & A & B & C & D & E & F & G & H & J & K & L\\\\\n  & <fct> & <fct> & <fct> & <fct> & <fct> & <fct> & <fct> & <fct> & <fct> & <fct> & <fct>\\\\\n\\hline\n\t1 & 1  & 1  & 1  & -1 & -1 & -1 & 1  & -1 & 1  & 1  & -1\\\\\n\t2 & 1  & -1 & 1  & 1  & 1  & -1 & -1 & -1 & 1  & -1 & 1 \\\\\n\t3 & 1  & 1  & -1 & 1  & 1  & 1  & -1 & -1 & -1 & 1  & -1\\\\\n\t4 & 1  & 1  & -1 & -1 & -1 & 1  & -1 & 1  & 1  & -1 & 1 \\\\\n\t5 & -1 & 1  & -1 & 1  & 1  & -1 & 1  & 1  & 1  & -1 & -1\\\\\n\t6 & -1 & 1  & 1  & 1  & -1 & -1 & -1 & 1  & -1 & 1  & 1 \\\\\n\t7 & -1 & -1 & 1  & -1 & 1  & 1  & -1 & 1  & 1  & 1  & -1\\\\\n\t8 & 1  & -1 & -1 & -1 & 1  & -1 & 1  & 1  & -1 & 1  & 1 \\\\\n\t9 & -1 & 1  & 1  & -1 & 1  & 1  & 1  & -1 & -1 & -1 & 1 \\\\\n\t10 & -1 & -1 & -1 & -1 & -1 & -1 & -1 & -1 & -1 & -1 & -1\\\\\n\t11 & -1 & -1 & -1 & 1  & -1 & 1  & 1  & -1 & 1  & 1  & 1 \\\\\n\t12 & 1  & -1 & 1  & 1  & -1 & 1  & 1  & 1  & -1 & -1 & -1\\\\\n\\end{tabular}\n",
            "text/plain": "   A  B  C  D  E  F  G  H  J  K  L \n1  1  1  1  -1 -1 -1 1  -1 1  1  -1\n2  1  -1 1  1  1  -1 -1 -1 1  -1 1 \n3  1  1  -1 1  1  1  -1 -1 -1 1  -1\n4  1  1  -1 -1 -1 1  -1 1  1  -1 1 \n5  -1 1  -1 1  1  -1 1  1  1  -1 -1\n6  -1 1  1  1  -1 -1 -1 1  -1 1  1 \n7  -1 -1 1  -1 1  1  -1 1  1  1  -1\n8  1  -1 -1 -1 1  -1 1  1  -1 1  1 \n9  -1 1  1  -1 1  1  1  -1 -1 -1 1 \n10 -1 -1 -1 -1 -1 -1 -1 -1 -1 -1 -1\n11 -1 -1 -1 1  -1 1  1  -1 1  1  1 \n12 1  -1 1  1  -1 1  1  1  -1 -1 -1"
          },
          "metadata": {}
        },
        {
          "output_type": "stream",
          "name": "stdout",
          "text": [
            "Screening 15 factors in 16 runs involves perfect aliasing of \n",
            " pairwise interactions of the first six factors with the last factor.\n"
          ]
        },
        {
          "output_type": "display_data",
          "data": {
            "text/html": "<table>\n<caption>A design: 16 × 15</caption>\n<thead>\n\t<tr><th></th><th scope=col>A</th><th scope=col>B</th><th scope=col>C</th><th scope=col>D</th><th scope=col>E</th><th scope=col>F</th><th scope=col>G</th><th scope=col>H</th><th scope=col>J</th><th scope=col>K</th><th scope=col>L</th><th scope=col>M</th><th scope=col>N</th><th scope=col>O</th><th scope=col>P</th></tr>\n\t<tr><th></th><th scope=col>&lt;fct&gt;</th><th scope=col>&lt;fct&gt;</th><th scope=col>&lt;fct&gt;</th><th scope=col>&lt;fct&gt;</th><th scope=col>&lt;fct&gt;</th><th scope=col>&lt;fct&gt;</th><th scope=col>&lt;fct&gt;</th><th scope=col>&lt;fct&gt;</th><th scope=col>&lt;fct&gt;</th><th scope=col>&lt;fct&gt;</th><th scope=col>&lt;fct&gt;</th><th scope=col>&lt;fct&gt;</th><th scope=col>&lt;fct&gt;</th><th scope=col>&lt;fct&gt;</th><th scope=col>&lt;fct&gt;</th></tr>\n</thead>\n<tbody>\n\t<tr><th scope=row>1</th><td>-1</td><td>1 </td><td>-1</td><td>-1</td><td>1 </td><td>1 </td><td>-1</td><td>1 </td><td>1 </td><td>-1</td><td>-1</td><td>1 </td><td>-1</td><td>1 </td><td>-1</td></tr>\n\t<tr><th scope=row>2</th><td>1 </td><td>-1</td><td>-1</td><td>1 </td><td>1 </td><td>-1</td><td>1 </td><td>-1</td><td>-1</td><td>1 </td><td>-1</td><td>1 </td><td>-1</td><td>1 </td><td>-1</td></tr>\n\t<tr><th scope=row>3</th><td>-1</td><td>1 </td><td>1 </td><td>-1</td><td>-1</td><td>1 </td><td>1 </td><td>-1</td><td>-1</td><td>1 </td><td>1 </td><td>-1</td><td>-1</td><td>1 </td><td>-1</td></tr>\n\t<tr><th scope=row>4</th><td>1 </td><td>1 </td><td>1 </td><td>1 </td><td>1 </td><td>1 </td><td>1 </td><td>1 </td><td>1 </td><td>1 </td><td>1 </td><td>1 </td><td>1 </td><td>1 </td><td>1 </td></tr>\n\t<tr><th scope=row>5</th><td>1 </td><td>-1</td><td>1 </td><td>-1</td><td>-1</td><td>1 </td><td>-1</td><td>1 </td><td>-1</td><td>1 </td><td>-1</td><td>1 </td><td>1 </td><td>-1</td><td>-1</td></tr>\n\t<tr><th scope=row>6</th><td>-1</td><td>-1</td><td>1 </td><td>1 </td><td>1 </td><td>1 </td><td>-1</td><td>-1</td><td>-1</td><td>-1</td><td>1 </td><td>1 </td><td>-1</td><td>-1</td><td>1 </td></tr>\n\t<tr><th scope=row>7</th><td>-1</td><td>-1</td><td>-1</td><td>1 </td><td>-1</td><td>1 </td><td>-1</td><td>-1</td><td>1 </td><td>1 </td><td>-1</td><td>-1</td><td>1 </td><td>1 </td><td>1 </td></tr>\n\t<tr><th scope=row>8</th><td>-1</td><td>-1</td><td>-1</td><td>-1</td><td>-1</td><td>-1</td><td>1 </td><td>1 </td><td>1 </td><td>1 </td><td>1 </td><td>1 </td><td>-1</td><td>-1</td><td>1 </td></tr>\n\t<tr><th scope=row>9</th><td>1 </td><td>1 </td><td>-1</td><td>-1</td><td>-1</td><td>-1</td><td>-1</td><td>-1</td><td>-1</td><td>-1</td><td>1 </td><td>1 </td><td>1 </td><td>1 </td><td>1 </td></tr>\n\t<tr><th scope=row>10</th><td>1 </td><td>-1</td><td>-1</td><td>-1</td><td>1 </td><td>1 </td><td>1 </td><td>-1</td><td>1 </td><td>-1</td><td>1 </td><td>-1</td><td>1 </td><td>-1</td><td>-1</td></tr>\n\t<tr><th scope=row>11</th><td>-1</td><td>-1</td><td>1 </td><td>-1</td><td>1 </td><td>-1</td><td>1 </td><td>1 </td><td>-1</td><td>-1</td><td>-1</td><td>-1</td><td>1 </td><td>1 </td><td>1 </td></tr>\n\t<tr><th scope=row>12</th><td>1 </td><td>1 </td><td>-1</td><td>1 </td><td>-1</td><td>1 </td><td>1 </td><td>1 </td><td>-1</td><td>-1</td><td>-1</td><td>-1</td><td>-1</td><td>-1</td><td>1 </td></tr>\n\t<tr><th scope=row>13</th><td>-1</td><td>1 </td><td>1 </td><td>1 </td><td>-1</td><td>-1</td><td>1 </td><td>-1</td><td>1 </td><td>-1</td><td>-1</td><td>1 </td><td>1 </td><td>-1</td><td>-1</td></tr>\n\t<tr><th scope=row>14</th><td>1 </td><td>-1</td><td>1 </td><td>1 </td><td>-1</td><td>-1</td><td>-1</td><td>1 </td><td>1 </td><td>-1</td><td>1 </td><td>-1</td><td>-1</td><td>1 </td><td>-1</td></tr>\n\t<tr><th scope=row>15</th><td>-1</td><td>1 </td><td>-1</td><td>1 </td><td>1 </td><td>-1</td><td>-1</td><td>1 </td><td>-1</td><td>1 </td><td>1 </td><td>-1</td><td>1 </td><td>-1</td><td>-1</td></tr>\n\t<tr><th scope=row>16</th><td>1 </td><td>1 </td><td>1 </td><td>-1</td><td>1 </td><td>-1</td><td>-1</td><td>-1</td><td>1 </td><td>1 </td><td>-1</td><td>-1</td><td>-1</td><td>-1</td><td>1 </td></tr>\n</tbody>\n</table>\n",
            "text/markdown": "\nA design: 16 × 15\n\n| <!--/--> | A &lt;fct&gt; | B &lt;fct&gt; | C &lt;fct&gt; | D &lt;fct&gt; | E &lt;fct&gt; | F &lt;fct&gt; | G &lt;fct&gt; | H &lt;fct&gt; | J &lt;fct&gt; | K &lt;fct&gt; | L &lt;fct&gt; | M &lt;fct&gt; | N &lt;fct&gt; | O &lt;fct&gt; | P &lt;fct&gt; |\n|---|---|---|---|---|---|---|---|---|---|---|---|---|---|---|---|\n| 1 | -1 | 1  | -1 | -1 | 1  | 1  | -1 | 1  | 1  | -1 | -1 | 1  | -1 | 1  | -1 |\n| 2 | 1  | -1 | -1 | 1  | 1  | -1 | 1  | -1 | -1 | 1  | -1 | 1  | -1 | 1  | -1 |\n| 3 | -1 | 1  | 1  | -1 | -1 | 1  | 1  | -1 | -1 | 1  | 1  | -1 | -1 | 1  | -1 |\n| 4 | 1  | 1  | 1  | 1  | 1  | 1  | 1  | 1  | 1  | 1  | 1  | 1  | 1  | 1  | 1  |\n| 5 | 1  | -1 | 1  | -1 | -1 | 1  | -1 | 1  | -1 | 1  | -1 | 1  | 1  | -1 | -1 |\n| 6 | -1 | -1 | 1  | 1  | 1  | 1  | -1 | -1 | -1 | -1 | 1  | 1  | -1 | -1 | 1  |\n| 7 | -1 | -1 | -1 | 1  | -1 | 1  | -1 | -1 | 1  | 1  | -1 | -1 | 1  | 1  | 1  |\n| 8 | -1 | -1 | -1 | -1 | -1 | -1 | 1  | 1  | 1  | 1  | 1  | 1  | -1 | -1 | 1  |\n| 9 | 1  | 1  | -1 | -1 | -1 | -1 | -1 | -1 | -1 | -1 | 1  | 1  | 1  | 1  | 1  |\n| 10 | 1  | -1 | -1 | -1 | 1  | 1  | 1  | -1 | 1  | -1 | 1  | -1 | 1  | -1 | -1 |\n| 11 | -1 | -1 | 1  | -1 | 1  | -1 | 1  | 1  | -1 | -1 | -1 | -1 | 1  | 1  | 1  |\n| 12 | 1  | 1  | -1 | 1  | -1 | 1  | 1  | 1  | -1 | -1 | -1 | -1 | -1 | -1 | 1  |\n| 13 | -1 | 1  | 1  | 1  | -1 | -1 | 1  | -1 | 1  | -1 | -1 | 1  | 1  | -1 | -1 |\n| 14 | 1  | -1 | 1  | 1  | -1 | -1 | -1 | 1  | 1  | -1 | 1  | -1 | -1 | 1  | -1 |\n| 15 | -1 | 1  | -1 | 1  | 1  | -1 | -1 | 1  | -1 | 1  | 1  | -1 | 1  | -1 | -1 |\n| 16 | 1  | 1  | 1  | -1 | 1  | -1 | -1 | -1 | 1  | 1  | -1 | -1 | -1 | -1 | 1  |\n\n",
            "text/latex": "A design: 16 × 15\n\\begin{tabular}{r|lllllllllllllll}\n  & A & B & C & D & E & F & G & H & J & K & L & M & N & O & P\\\\\n  & <fct> & <fct> & <fct> & <fct> & <fct> & <fct> & <fct> & <fct> & <fct> & <fct> & <fct> & <fct> & <fct> & <fct> & <fct>\\\\\n\\hline\n\t1 & -1 & 1  & -1 & -1 & 1  & 1  & -1 & 1  & 1  & -1 & -1 & 1  & -1 & 1  & -1\\\\\n\t2 & 1  & -1 & -1 & 1  & 1  & -1 & 1  & -1 & -1 & 1  & -1 & 1  & -1 & 1  & -1\\\\\n\t3 & -1 & 1  & 1  & -1 & -1 & 1  & 1  & -1 & -1 & 1  & 1  & -1 & -1 & 1  & -1\\\\\n\t4 & 1  & 1  & 1  & 1  & 1  & 1  & 1  & 1  & 1  & 1  & 1  & 1  & 1  & 1  & 1 \\\\\n\t5 & 1  & -1 & 1  & -1 & -1 & 1  & -1 & 1  & -1 & 1  & -1 & 1  & 1  & -1 & -1\\\\\n\t6 & -1 & -1 & 1  & 1  & 1  & 1  & -1 & -1 & -1 & -1 & 1  & 1  & -1 & -1 & 1 \\\\\n\t7 & -1 & -1 & -1 & 1  & -1 & 1  & -1 & -1 & 1  & 1  & -1 & -1 & 1  & 1  & 1 \\\\\n\t8 & -1 & -1 & -1 & -1 & -1 & -1 & 1  & 1  & 1  & 1  & 1  & 1  & -1 & -1 & 1 \\\\\n\t9 & 1  & 1  & -1 & -1 & -1 & -1 & -1 & -1 & -1 & -1 & 1  & 1  & 1  & 1  & 1 \\\\\n\t10 & 1  & -1 & -1 & -1 & 1  & 1  & 1  & -1 & 1  & -1 & 1  & -1 & 1  & -1 & -1\\\\\n\t11 & -1 & -1 & 1  & -1 & 1  & -1 & 1  & 1  & -1 & -1 & -1 & -1 & 1  & 1  & 1 \\\\\n\t12 & 1  & 1  & -1 & 1  & -1 & 1  & 1  & 1  & -1 & -1 & -1 & -1 & -1 & -1 & 1 \\\\\n\t13 & -1 & 1  & 1  & 1  & -1 & -1 & 1  & -1 & 1  & -1 & -1 & 1  & 1  & -1 & -1\\\\\n\t14 & 1  & -1 & 1  & 1  & -1 & -1 & -1 & 1  & 1  & -1 & 1  & -1 & -1 & 1  & -1\\\\\n\t15 & -1 & 1  & -1 & 1  & 1  & -1 & -1 & 1  & -1 & 1  & 1  & -1 & 1  & -1 & -1\\\\\n\t16 & 1  & 1  & 1  & -1 & 1  & -1 & -1 & -1 & 1  & 1  & -1 & -1 & -1 & -1 & 1 \\\\\n\\end{tabular}\n",
            "text/plain": "   A  B  C  D  E  F  G  H  J  K  L  M  N  O  P \n1  -1 1  -1 -1 1  1  -1 1  1  -1 -1 1  -1 1  -1\n2  1  -1 -1 1  1  -1 1  -1 -1 1  -1 1  -1 1  -1\n3  -1 1  1  -1 -1 1  1  -1 -1 1  1  -1 -1 1  -1\n4  1  1  1  1  1  1  1  1  1  1  1  1  1  1  1 \n5  1  -1 1  -1 -1 1  -1 1  -1 1  -1 1  1  -1 -1\n6  -1 -1 1  1  1  1  -1 -1 -1 -1 1  1  -1 -1 1 \n7  -1 -1 -1 1  -1 1  -1 -1 1  1  -1 -1 1  1  1 \n8  -1 -1 -1 -1 -1 -1 1  1  1  1  1  1  -1 -1 1 \n9  1  1  -1 -1 -1 -1 -1 -1 -1 -1 1  1  1  1  1 \n10 1  -1 -1 -1 1  1  1  -1 1  -1 1  -1 1  -1 -1\n11 -1 -1 1  -1 1  -1 1  1  -1 -1 -1 -1 1  1  1 \n12 1  1  -1 1  -1 1  1  1  -1 -1 -1 -1 -1 -1 1 \n13 -1 1  1  1  -1 -1 1  -1 1  -1 -1 1  1  -1 -1\n14 1  -1 1  1  -1 -1 -1 1  1  -1 1  -1 -1 1  -1\n15 -1 1  -1 1  1  -1 -1 1  -1 1  1  -1 1  -1 -1\n16 1  1  1  -1 1  -1 -1 -1 1  1  -1 -1 -1 -1 1 "
          },
          "metadata": {}
        },
        {
          "output_type": "display_data",
          "data": {
            "text/html": "<table>\n<caption>A design: 20 × 19</caption>\n<thead>\n\t<tr><th></th><th scope=col>A</th><th scope=col>B</th><th scope=col>C</th><th scope=col>D</th><th scope=col>E</th><th scope=col>F</th><th scope=col>G</th><th scope=col>H</th><th scope=col>J</th><th scope=col>K</th><th scope=col>L</th><th scope=col>M</th><th scope=col>N</th><th scope=col>O</th><th scope=col>P</th><th scope=col>Q</th><th scope=col>R</th><th scope=col>S</th><th scope=col>T</th></tr>\n\t<tr><th></th><th scope=col>&lt;fct&gt;</th><th scope=col>&lt;fct&gt;</th><th scope=col>&lt;fct&gt;</th><th scope=col>&lt;fct&gt;</th><th scope=col>&lt;fct&gt;</th><th scope=col>&lt;fct&gt;</th><th scope=col>&lt;fct&gt;</th><th scope=col>&lt;fct&gt;</th><th scope=col>&lt;fct&gt;</th><th scope=col>&lt;fct&gt;</th><th scope=col>&lt;fct&gt;</th><th scope=col>&lt;fct&gt;</th><th scope=col>&lt;fct&gt;</th><th scope=col>&lt;fct&gt;</th><th scope=col>&lt;fct&gt;</th><th scope=col>&lt;fct&gt;</th><th scope=col>&lt;fct&gt;</th><th scope=col>&lt;fct&gt;</th><th scope=col>&lt;fct&gt;</th></tr>\n</thead>\n<tbody>\n\t<tr><th scope=row>1</th><td>-1</td><td>1 </td><td>1 </td><td>-1</td><td>1 </td><td>1 </td><td>-1</td><td>-1</td><td>1 </td><td>1 </td><td>1 </td><td>1 </td><td>-1</td><td>1 </td><td>-1</td><td>1 </td><td>-1</td><td>-1</td><td>-1</td></tr>\n\t<tr><th scope=row>2</th><td>1 </td><td>-1</td><td>1 </td><td>1 </td><td>-1</td><td>-1</td><td>1 </td><td>1 </td><td>1 </td><td>1 </td><td>-1</td><td>1 </td><td>-1</td><td>1 </td><td>-1</td><td>-1</td><td>-1</td><td>-1</td><td>1 </td></tr>\n\t<tr><th scope=row>3</th><td>1 </td><td>1 </td><td>-1</td><td>1 </td><td>-1</td><td>1 </td><td>-1</td><td>-1</td><td>-1</td><td>-1</td><td>1 </td><td>1 </td><td>-1</td><td>1 </td><td>1 </td><td>-1</td><td>-1</td><td>1 </td><td>1 </td></tr>\n\t<tr><th scope=row>4</th><td>-1</td><td>-1</td><td>-1</td><td>1 </td><td>1 </td><td>-1</td><td>1 </td><td>1 </td><td>-1</td><td>-1</td><td>1 </td><td>1 </td><td>1 </td><td>1 </td><td>-1</td><td>1 </td><td>-1</td><td>1 </td><td>-1</td></tr>\n\t<tr><th scope=row>5</th><td>1 </td><td>1 </td><td>1 </td><td>1 </td><td>-1</td><td>1 </td><td>-1</td><td>1 </td><td>-1</td><td>-1</td><td>-1</td><td>-1</td><td>1 </td><td>1 </td><td>-1</td><td>1 </td><td>1 </td><td>-1</td><td>-1</td></tr>\n\t<tr><th scope=row>6</th><td>1 </td><td>1 </td><td>-1</td><td>1 </td><td>1 </td><td>-1</td><td>-1</td><td>1 </td><td>1 </td><td>1 </td><td>1 </td><td>-1</td><td>1 </td><td>-1</td><td>1 </td><td>-1</td><td>-1</td><td>-1</td><td>-1</td></tr>\n\t<tr><th scope=row>7</th><td>-1</td><td>-1</td><td>-1</td><td>-1</td><td>1 </td><td>1 </td><td>-1</td><td>1 </td><td>1 </td><td>-1</td><td>-1</td><td>1 </td><td>1 </td><td>1 </td><td>1 </td><td>-1</td><td>1 </td><td>-1</td><td>1 </td></tr>\n\t<tr><th scope=row>8</th><td>1 </td><td>-1</td><td>1 </td><td>-1</td><td>-1</td><td>-1</td><td>-1</td><td>1 </td><td>1 </td><td>-1</td><td>1 </td><td>1 </td><td>-1</td><td>-1</td><td>1 </td><td>1 </td><td>1 </td><td>1 </td><td>-1</td></tr>\n\t<tr><th scope=row>9</th><td>-1</td><td>1 </td><td>1 </td><td>1 </td><td>1 </td><td>-1</td><td>1 </td><td>-1</td><td>1 </td><td>-1</td><td>-1</td><td>-1</td><td>-1</td><td>1 </td><td>1 </td><td>-1</td><td>1 </td><td>1 </td><td>-1</td></tr>\n\t<tr><th scope=row>10</th><td>-1</td><td>-1</td><td>1 </td><td>1 </td><td>-1</td><td>1 </td><td>1 </td><td>-1</td><td>-1</td><td>1 </td><td>1 </td><td>1 </td><td>1 </td><td>-1</td><td>1 </td><td>-1</td><td>1 </td><td>-1</td><td>-1</td></tr>\n\t<tr><th scope=row>11</th><td>-1</td><td>1 </td><td>1 </td><td>-1</td><td>-1</td><td>1 </td><td>1 </td><td>1 </td><td>1 </td><td>-1</td><td>1 </td><td>-1</td><td>1 </td><td>-1</td><td>-1</td><td>-1</td><td>-1</td><td>1 </td><td>1 </td></tr>\n\t<tr><th scope=row>12</th><td>-1</td><td>1 </td><td>-1</td><td>1 </td><td>-1</td><td>-1</td><td>-1</td><td>-1</td><td>1 </td><td>1 </td><td>-1</td><td>1 </td><td>1 </td><td>-1</td><td>-1</td><td>1 </td><td>1 </td><td>1 </td><td>1 </td></tr>\n\t<tr><th scope=row>13</th><td>1 </td><td>-1</td><td>-1</td><td>-1</td><td>-1</td><td>1 </td><td>1 </td><td>-1</td><td>1 </td><td>1 </td><td>-1</td><td>-1</td><td>1 </td><td>1 </td><td>1 </td><td>1 </td><td>-1</td><td>1 </td><td>-1</td></tr>\n\t<tr><th scope=row>14</th><td>1 </td><td>-1</td><td>-1</td><td>1 </td><td>1 </td><td>1 </td><td>1 </td><td>-1</td><td>1 </td><td>-1</td><td>1 </td><td>-1</td><td>-1</td><td>-1</td><td>-1</td><td>1 </td><td>1 </td><td>-1</td><td>1 </td></tr>\n\t<tr><th scope=row>15</th><td>1 </td><td>1 </td><td>-1</td><td>-1</td><td>1 </td><td>1 </td><td>1 </td><td>1 </td><td>-1</td><td>1 </td><td>-1</td><td>1 </td><td>-1</td><td>-1</td><td>-1</td><td>-1</td><td>1 </td><td>1 </td><td>-1</td></tr>\n\t<tr><th scope=row>16</th><td>-1</td><td>-1</td><td>1 </td><td>1 </td><td>1 </td><td>1 </td><td>-1</td><td>1 </td><td>-1</td><td>1 </td><td>-1</td><td>-1</td><td>-1</td><td>-1</td><td>1 </td><td>1 </td><td>-1</td><td>1 </td><td>1 </td></tr>\n\t<tr><th scope=row>17</th><td>1 </td><td>-1</td><td>1 </td><td>-1</td><td>1 </td><td>-1</td><td>-1</td><td>-1</td><td>-1</td><td>1 </td><td>1 </td><td>-1</td><td>1 </td><td>1 </td><td>-1</td><td>-1</td><td>1 </td><td>1 </td><td>1 </td></tr>\n\t<tr><th scope=row>18</th><td>1 </td><td>1 </td><td>1 </td><td>-1</td><td>1 </td><td>-1</td><td>1 </td><td>-1</td><td>-1</td><td>-1</td><td>-1</td><td>1 </td><td>1 </td><td>-1</td><td>1 </td><td>1 </td><td>-1</td><td>-1</td><td>1 </td></tr>\n\t<tr><th scope=row>19</th><td>-1</td><td>1 </td><td>-1</td><td>-1</td><td>-1</td><td>-1</td><td>1 </td><td>1 </td><td>-1</td><td>1 </td><td>1 </td><td>-1</td><td>-1</td><td>1 </td><td>1 </td><td>1 </td><td>1 </td><td>-1</td><td>1 </td></tr>\n\t<tr><th scope=row>20</th><td>-1</td><td>-1</td><td>-1</td><td>-1</td><td>-1</td><td>-1</td><td>-1</td><td>-1</td><td>-1</td><td>-1</td><td>-1</td><td>-1</td><td>-1</td><td>-1</td><td>-1</td><td>-1</td><td>-1</td><td>-1</td><td>-1</td></tr>\n</tbody>\n</table>\n",
            "text/markdown": "\nA design: 20 × 19\n\n| <!--/--> | A &lt;fct&gt; | B &lt;fct&gt; | C &lt;fct&gt; | D &lt;fct&gt; | E &lt;fct&gt; | F &lt;fct&gt; | G &lt;fct&gt; | H &lt;fct&gt; | J &lt;fct&gt; | K &lt;fct&gt; | L &lt;fct&gt; | M &lt;fct&gt; | N &lt;fct&gt; | O &lt;fct&gt; | P &lt;fct&gt; | Q &lt;fct&gt; | R &lt;fct&gt; | S &lt;fct&gt; | T &lt;fct&gt; |\n|---|---|---|---|---|---|---|---|---|---|---|---|---|---|---|---|---|---|---|---|\n| 1 | -1 | 1  | 1  | -1 | 1  | 1  | -1 | -1 | 1  | 1  | 1  | 1  | -1 | 1  | -1 | 1  | -1 | -1 | -1 |\n| 2 | 1  | -1 | 1  | 1  | -1 | -1 | 1  | 1  | 1  | 1  | -1 | 1  | -1 | 1  | -1 | -1 | -1 | -1 | 1  |\n| 3 | 1  | 1  | -1 | 1  | -1 | 1  | -1 | -1 | -1 | -1 | 1  | 1  | -1 | 1  | 1  | -1 | -1 | 1  | 1  |\n| 4 | -1 | -1 | -1 | 1  | 1  | -1 | 1  | 1  | -1 | -1 | 1  | 1  | 1  | 1  | -1 | 1  | -1 | 1  | -1 |\n| 5 | 1  | 1  | 1  | 1  | -1 | 1  | -1 | 1  | -1 | -1 | -1 | -1 | 1  | 1  | -1 | 1  | 1  | -1 | -1 |\n| 6 | 1  | 1  | -1 | 1  | 1  | -1 | -1 | 1  | 1  | 1  | 1  | -1 | 1  | -1 | 1  | -1 | -1 | -1 | -1 |\n| 7 | -1 | -1 | -1 | -1 | 1  | 1  | -1 | 1  | 1  | -1 | -1 | 1  | 1  | 1  | 1  | -1 | 1  | -1 | 1  |\n| 8 | 1  | -1 | 1  | -1 | -1 | -1 | -1 | 1  | 1  | -1 | 1  | 1  | -1 | -1 | 1  | 1  | 1  | 1  | -1 |\n| 9 | -1 | 1  | 1  | 1  | 1  | -1 | 1  | -1 | 1  | -1 | -1 | -1 | -1 | 1  | 1  | -1 | 1  | 1  | -1 |\n| 10 | -1 | -1 | 1  | 1  | -1 | 1  | 1  | -1 | -1 | 1  | 1  | 1  | 1  | -1 | 1  | -1 | 1  | -1 | -1 |\n| 11 | -1 | 1  | 1  | -1 | -1 | 1  | 1  | 1  | 1  | -1 | 1  | -1 | 1  | -1 | -1 | -1 | -1 | 1  | 1  |\n| 12 | -1 | 1  | -1 | 1  | -1 | -1 | -1 | -1 | 1  | 1  | -1 | 1  | 1  | -1 | -1 | 1  | 1  | 1  | 1  |\n| 13 | 1  | -1 | -1 | -1 | -1 | 1  | 1  | -1 | 1  | 1  | -1 | -1 | 1  | 1  | 1  | 1  | -1 | 1  | -1 |\n| 14 | 1  | -1 | -1 | 1  | 1  | 1  | 1  | -1 | 1  | -1 | 1  | -1 | -1 | -1 | -1 | 1  | 1  | -1 | 1  |\n| 15 | 1  | 1  | -1 | -1 | 1  | 1  | 1  | 1  | -1 | 1  | -1 | 1  | -1 | -1 | -1 | -1 | 1  | 1  | -1 |\n| 16 | -1 | -1 | 1  | 1  | 1  | 1  | -1 | 1  | -1 | 1  | -1 | -1 | -1 | -1 | 1  | 1  | -1 | 1  | 1  |\n| 17 | 1  | -1 | 1  | -1 | 1  | -1 | -1 | -1 | -1 | 1  | 1  | -1 | 1  | 1  | -1 | -1 | 1  | 1  | 1  |\n| 18 | 1  | 1  | 1  | -1 | 1  | -1 | 1  | -1 | -1 | -1 | -1 | 1  | 1  | -1 | 1  | 1  | -1 | -1 | 1  |\n| 19 | -1 | 1  | -1 | -1 | -1 | -1 | 1  | 1  | -1 | 1  | 1  | -1 | -1 | 1  | 1  | 1  | 1  | -1 | 1  |\n| 20 | -1 | -1 | -1 | -1 | -1 | -1 | -1 | -1 | -1 | -1 | -1 | -1 | -1 | -1 | -1 | -1 | -1 | -1 | -1 |\n\n",
            "text/latex": "A design: 20 × 19\n\\begin{tabular}{r|lllllllllllllllllll}\n  & A & B & C & D & E & F & G & H & J & K & L & M & N & O & P & Q & R & S & T\\\\\n  & <fct> & <fct> & <fct> & <fct> & <fct> & <fct> & <fct> & <fct> & <fct> & <fct> & <fct> & <fct> & <fct> & <fct> & <fct> & <fct> & <fct> & <fct> & <fct>\\\\\n\\hline\n\t1 & -1 & 1  & 1  & -1 & 1  & 1  & -1 & -1 & 1  & 1  & 1  & 1  & -1 & 1  & -1 & 1  & -1 & -1 & -1\\\\\n\t2 & 1  & -1 & 1  & 1  & -1 & -1 & 1  & 1  & 1  & 1  & -1 & 1  & -1 & 1  & -1 & -1 & -1 & -1 & 1 \\\\\n\t3 & 1  & 1  & -1 & 1  & -1 & 1  & -1 & -1 & -1 & -1 & 1  & 1  & -1 & 1  & 1  & -1 & -1 & 1  & 1 \\\\\n\t4 & -1 & -1 & -1 & 1  & 1  & -1 & 1  & 1  & -1 & -1 & 1  & 1  & 1  & 1  & -1 & 1  & -1 & 1  & -1\\\\\n\t5 & 1  & 1  & 1  & 1  & -1 & 1  & -1 & 1  & -1 & -1 & -1 & -1 & 1  & 1  & -1 & 1  & 1  & -1 & -1\\\\\n\t6 & 1  & 1  & -1 & 1  & 1  & -1 & -1 & 1  & 1  & 1  & 1  & -1 & 1  & -1 & 1  & -1 & -1 & -1 & -1\\\\\n\t7 & -1 & -1 & -1 & -1 & 1  & 1  & -1 & 1  & 1  & -1 & -1 & 1  & 1  & 1  & 1  & -1 & 1  & -1 & 1 \\\\\n\t8 & 1  & -1 & 1  & -1 & -1 & -1 & -1 & 1  & 1  & -1 & 1  & 1  & -1 & -1 & 1  & 1  & 1  & 1  & -1\\\\\n\t9 & -1 & 1  & 1  & 1  & 1  & -1 & 1  & -1 & 1  & -1 & -1 & -1 & -1 & 1  & 1  & -1 & 1  & 1  & -1\\\\\n\t10 & -1 & -1 & 1  & 1  & -1 & 1  & 1  & -1 & -1 & 1  & 1  & 1  & 1  & -1 & 1  & -1 & 1  & -1 & -1\\\\\n\t11 & -1 & 1  & 1  & -1 & -1 & 1  & 1  & 1  & 1  & -1 & 1  & -1 & 1  & -1 & -1 & -1 & -1 & 1  & 1 \\\\\n\t12 & -1 & 1  & -1 & 1  & -1 & -1 & -1 & -1 & 1  & 1  & -1 & 1  & 1  & -1 & -1 & 1  & 1  & 1  & 1 \\\\\n\t13 & 1  & -1 & -1 & -1 & -1 & 1  & 1  & -1 & 1  & 1  & -1 & -1 & 1  & 1  & 1  & 1  & -1 & 1  & -1\\\\\n\t14 & 1  & -1 & -1 & 1  & 1  & 1  & 1  & -1 & 1  & -1 & 1  & -1 & -1 & -1 & -1 & 1  & 1  & -1 & 1 \\\\\n\t15 & 1  & 1  & -1 & -1 & 1  & 1  & 1  & 1  & -1 & 1  & -1 & 1  & -1 & -1 & -1 & -1 & 1  & 1  & -1\\\\\n\t16 & -1 & -1 & 1  & 1  & 1  & 1  & -1 & 1  & -1 & 1  & -1 & -1 & -1 & -1 & 1  & 1  & -1 & 1  & 1 \\\\\n\t17 & 1  & -1 & 1  & -1 & 1  & -1 & -1 & -1 & -1 & 1  & 1  & -1 & 1  & 1  & -1 & -1 & 1  & 1  & 1 \\\\\n\t18 & 1  & 1  & 1  & -1 & 1  & -1 & 1  & -1 & -1 & -1 & -1 & 1  & 1  & -1 & 1  & 1  & -1 & -1 & 1 \\\\\n\t19 & -1 & 1  & -1 & -1 & -1 & -1 & 1  & 1  & -1 & 1  & 1  & -1 & -1 & 1  & 1  & 1  & 1  & -1 & 1 \\\\\n\t20 & -1 & -1 & -1 & -1 & -1 & -1 & -1 & -1 & -1 & -1 & -1 & -1 & -1 & -1 & -1 & -1 & -1 & -1 & -1\\\\\n\\end{tabular}\n",
            "text/plain": "   A  B  C  D  E  F  G  H  J  K  L  M  N  O  P  Q  R  S  T \n1  -1 1  1  -1 1  1  -1 -1 1  1  1  1  -1 1  -1 1  -1 -1 -1\n2  1  -1 1  1  -1 -1 1  1  1  1  -1 1  -1 1  -1 -1 -1 -1 1 \n3  1  1  -1 1  -1 1  -1 -1 -1 -1 1  1  -1 1  1  -1 -1 1  1 \n4  -1 -1 -1 1  1  -1 1  1  -1 -1 1  1  1  1  -1 1  -1 1  -1\n5  1  1  1  1  -1 1  -1 1  -1 -1 -1 -1 1  1  -1 1  1  -1 -1\n6  1  1  -1 1  1  -1 -1 1  1  1  1  -1 1  -1 1  -1 -1 -1 -1\n7  -1 -1 -1 -1 1  1  -1 1  1  -1 -1 1  1  1  1  -1 1  -1 1 \n8  1  -1 1  -1 -1 -1 -1 1  1  -1 1  1  -1 -1 1  1  1  1  -1\n9  -1 1  1  1  1  -1 1  -1 1  -1 -1 -1 -1 1  1  -1 1  1  -1\n10 -1 -1 1  1  -1 1  1  -1 -1 1  1  1  1  -1 1  -1 1  -1 -1\n11 -1 1  1  -1 -1 1  1  1  1  -1 1  -1 1  -1 -1 -1 -1 1  1 \n12 -1 1  -1 1  -1 -1 -1 -1 1  1  -1 1  1  -1 -1 1  1  1  1 \n13 1  -1 -1 -1 -1 1  1  -1 1  1  -1 -1 1  1  1  1  -1 1  -1\n14 1  -1 -1 1  1  1  1  -1 1  -1 1  -1 -1 -1 -1 1  1  -1 1 \n15 1  1  -1 -1 1  1  1  1  -1 1  -1 1  -1 -1 -1 -1 1  1  -1\n16 -1 -1 1  1  1  1  -1 1  -1 1  -1 -1 -1 -1 1  1  -1 1  1 \n17 1  -1 1  -1 1  -1 -1 -1 -1 1  1  -1 1  1  -1 -1 1  1  1 \n18 1  1  1  -1 1  -1 1  -1 -1 -1 -1 1  1  -1 1  1  -1 -1 1 \n19 -1 1  -1 -1 -1 -1 1  1  -1 1  1  -1 -1 1  1  1  1  -1 1 \n20 -1 -1 -1 -1 -1 -1 -1 -1 -1 -1 -1 -1 -1 -1 -1 -1 -1 -1 -1"
          },
          "metadata": {}
        }
      ],
      "execution_count": 2,
      "metadata": {
        "collapsed": true,
        "jupyter": {
          "source_hidden": false,
          "outputs_hidden": false
        },
        "nteract": {
          "transient": {
            "deleting": false
          }
        },
        "execution": {
          "iopub.status.busy": "2021-05-31T19:04:06.836Z",
          "iopub.execute_input": "2021-05-31T19:04:06.840Z",
          "iopub.status.idle": "2021-05-31T19:04:07.011Z",
          "shell.execute_reply": "2021-05-31T19:04:07.031Z"
        }
      }
    }
  ],
  "metadata": {
    "kernelspec": {
      "name": "ir",
      "language": "R",
      "display_name": "R"
    },
    "kernel_info": {
      "name": "ir"
    },
    "language_info": {
      "name": "R",
      "codemirror_mode": "r",
      "pygments_lexer": "r",
      "mimetype": "text/x-r-source",
      "file_extension": ".r",
      "version": "4.0.2"
    },
    "title": "VegaLite for R",
    "nteract": {
      "version": "0.28.0"
    }
  },
  "nbformat": 4,
  "nbformat_minor": 4
}