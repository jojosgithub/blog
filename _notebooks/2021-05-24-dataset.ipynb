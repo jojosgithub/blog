{
  "cells": [
    {
      "cell_type": "markdown",
      "source": [
        "# Simulated Dataset\n",
        "\n",
        "In this notebook you can find code snippets that I always reuse for simulating dataset\n",
        "\n",
        "- toc: true \n",
        "- badges: true\n",
        "- comments: false\n",
        "- categories: [r]\n"
      ],
      "metadata": {}
    },
    {
      "cell_type": "markdown",
      "source": [
        "*TOC*\r\n",
        "* writing a function for creating a dataset with a desired number of rows and cols given a mean and an sd (same for all cols)\r\n",
        "* writing a function for creating a small dataset (n col < 5) with a desired number of rows and cols given a mean and an sd (different for each cols)\r\n",
        "* writing a function for creating a dataset (n col > 5) with a desired number of rows and cols given a mean and an sd (different for each cols)\r\n",
        "* writing functions for creating automatic labels for ID and categories"
      ],
      "metadata": {
        "nteract": {
          "transient": {
            "deleting": false
          }
        }
      }
    },
    {
      "cell_type": "code",
      "source": [
        "#+++++++°+++++++++°+++++++++°+++++++++°+++++++++°+++++++++°+++++++++°+++++++++°\n",
        "#  loading required libraries for this notebook\n",
        "#+++++++°+++++++++°+++++++++°+++++++++°+++++++++°+++++++++°+++++++++°+++++++++°\n",
        "\n",
        "#loading libraries\n",
        "\n",
        "library(ggplot2)\n",
        "library(gridExtra)\n",
        "library(data.table)\n",
        "\n",
        "#+++++++°+++++++++°+++++++++°+++++++++°+++++++++°+++++++++°+++++++++°+++++++++°\n",
        "#  Example 1 a very simple test dataset\n",
        "#+++++++°+++++++++°+++++++++°+++++++++°+++++++++°+++++++++°+++++++++°+++++++++°\n",
        "# we are creating a dataframe from a matrix obtained replicating x \n",
        "# the desired number_of_cols a vector of length number_of_rows from \n",
        "# a normal distribution rnorm with a mean of my mean and standard deviation as sd\n",
        "\n",
        "number_of_rows <- 7\n",
        "number_of_cols <- 6\n",
        "my_mean <- 2\n",
        "my_sd <- 0.5\n",
        "\n",
        "newdat <-  as.data.frame( \n",
        "           replicate(\n",
        "           number_of_cols,\n",
        "           rnorm(n = number_of_rows, mean = my_mean, sd = my_sd ))\n",
        "           )\n",
        "\n",
        "\n",
        "\n",
        "#in order to print a fancy table\n",
        "newdat\n"
      ],
      "outputs": [
        {
          "output_type": "display_data",
          "data": {
            "text/html": "<table>\n<caption>A data.frame: 7 × 6</caption>\n<thead>\n\t<tr><th scope=col>V1</th><th scope=col>V2</th><th scope=col>V3</th><th scope=col>V4</th><th scope=col>V5</th><th scope=col>V6</th></tr>\n\t<tr><th scope=col>&lt;dbl&gt;</th><th scope=col>&lt;dbl&gt;</th><th scope=col>&lt;dbl&gt;</th><th scope=col>&lt;dbl&gt;</th><th scope=col>&lt;dbl&gt;</th><th scope=col>&lt;dbl&gt;</th></tr>\n</thead>\n<tbody>\n\t<tr><td>2.321458</td><td>2.299545</td><td>1.755115</td><td>1.870463</td><td>2.056384</td><td>2.482437</td></tr>\n\t<tr><td>1.402577</td><td>2.516995</td><td>2.834609</td><td>1.863092</td><td>1.895504</td><td>2.307111</td></tr>\n\t<tr><td>2.306785</td><td>1.086934</td><td>1.663395</td><td>1.640607</td><td>2.098327</td><td>1.021668</td></tr>\n\t<tr><td>2.304635</td><td>1.754539</td><td>2.539501</td><td>1.841906</td><td>1.655369</td><td>1.674042</td></tr>\n\t<tr><td>1.904062</td><td>2.189214</td><td>2.646093</td><td>2.511605</td><td>2.371681</td><td>2.094404</td></tr>\n\t<tr><td>2.628779</td><td>1.257258</td><td>1.890032</td><td>2.057319</td><td>2.131018</td><td>1.740958</td></tr>\n\t<tr><td>1.903312</td><td>1.815740</td><td>2.140261</td><td>1.585239</td><td>1.493231</td><td>1.472626</td></tr>\n</tbody>\n</table>\n",
            "text/markdown": "\nA data.frame: 7 × 6\n\n| V1 &lt;dbl&gt; | V2 &lt;dbl&gt; | V3 &lt;dbl&gt; | V4 &lt;dbl&gt; | V5 &lt;dbl&gt; | V6 &lt;dbl&gt; |\n|---|---|---|---|---|---|\n| 2.321458 | 2.299545 | 1.755115 | 1.870463 | 2.056384 | 2.482437 |\n| 1.402577 | 2.516995 | 2.834609 | 1.863092 | 1.895504 | 2.307111 |\n| 2.306785 | 1.086934 | 1.663395 | 1.640607 | 2.098327 | 1.021668 |\n| 2.304635 | 1.754539 | 2.539501 | 1.841906 | 1.655369 | 1.674042 |\n| 1.904062 | 2.189214 | 2.646093 | 2.511605 | 2.371681 | 2.094404 |\n| 2.628779 | 1.257258 | 1.890032 | 2.057319 | 2.131018 | 1.740958 |\n| 1.903312 | 1.815740 | 2.140261 | 1.585239 | 1.493231 | 1.472626 |\n\n",
            "text/latex": "A data.frame: 7 × 6\n\\begin{tabular}{llllll}\n V1 & V2 & V3 & V4 & V5 & V6\\\\\n <dbl> & <dbl> & <dbl> & <dbl> & <dbl> & <dbl>\\\\\n\\hline\n\t 2.321458 & 2.299545 & 1.755115 & 1.870463 & 2.056384 & 2.482437\\\\\n\t 1.402577 & 2.516995 & 2.834609 & 1.863092 & 1.895504 & 2.307111\\\\\n\t 2.306785 & 1.086934 & 1.663395 & 1.640607 & 2.098327 & 1.021668\\\\\n\t 2.304635 & 1.754539 & 2.539501 & 1.841906 & 1.655369 & 1.674042\\\\\n\t 1.904062 & 2.189214 & 2.646093 & 2.511605 & 2.371681 & 2.094404\\\\\n\t 2.628779 & 1.257258 & 1.890032 & 2.057319 & 2.131018 & 1.740958\\\\\n\t 1.903312 & 1.815740 & 2.140261 & 1.585239 & 1.493231 & 1.472626\\\\\n\\end{tabular}\n",
            "text/plain": "  V1       V2       V3       V4       V5       V6      \n1 2.321458 2.299545 1.755115 1.870463 2.056384 2.482437\n2 1.402577 2.516995 2.834609 1.863092 1.895504 2.307111\n3 2.306785 1.086934 1.663395 1.640607 2.098327 1.021668\n4 2.304635 1.754539 2.539501 1.841906 1.655369 1.674042\n5 1.904062 2.189214 2.646093 2.511605 2.371681 2.094404\n6 2.628779 1.257258 1.890032 2.057319 2.131018 1.740958\n7 1.903312 1.815740 2.140261 1.585239 1.493231 1.472626"
          },
          "metadata": {}
        }
      ],
      "execution_count": 1,
      "metadata": {
        "collapsed": true,
        "jupyter": {
          "source_hidden": false,
          "outputs_hidden": false
        },
        "nteract": {
          "transient": {
            "deleting": false
          }
        },
        "execution": {
          "iopub.status.busy": "2021-05-31T19:04:32.100Z",
          "iopub.execute_input": "2021-05-31T19:04:32.110Z",
          "iopub.status.idle": "2021-05-31T19:04:32.346Z",
          "shell.execute_reply": "2021-05-31T19:04:32.478Z"
        }
      }
    },
    {
      "cell_type": "markdown",
      "source": [
        "-  Code for creating small (n col < 5) dataset.\n",
        "Each column has its own mean and sd. \n",
        "In the example reported we have n = 3  (A, B, C)\n",
        "with n row = 50. means are 100,110,120 and sd 1,2,3\n"
      ],
      "metadata": {
        "nteract": {
          "transient": {
            "deleting": false
          }
        }
      }
    },
    {
      "cell_type": "code",
      "source": [
        "#+++++++°+++++++++°+++++++++°+++++++++°+++++++++°+++++++++°+++++++++°+++++++++°\n",
        "#  Ex 2 Another way for a simple dataset\n",
        "#+++++++°+++++++++°+++++++++°+++++++++°+++++++++°+++++++++°+++++++++°+++++++++°\n",
        "\n",
        "#in order to obtain ALWAYS same \"random\" results REMEMBER TO initialize the seed \n",
        "#set.seed(42) \n",
        "\n",
        "number_of_rows <- 5\n",
        "A <- rnorm( n=number_of_rows, mean=100, sd=1 ) \n",
        "B <- rnorm( n=number_of_rows, mean=110, sd=2 ) \n",
        "C <- rnorm( n=number_of_rows, mean=120, sd=2 ) \n",
        "\n",
        "dat=data.frame(A,B,C) \n",
        "\n",
        "dat\n",
        "\n"
      ],
      "outputs": [
        {
          "output_type": "display_data",
          "data": {
            "text/html": "<table>\n<caption>A data.frame: 5 × 3</caption>\n<thead>\n\t<tr><th scope=col>A</th><th scope=col>B</th><th scope=col>C</th></tr>\n\t<tr><th scope=col>&lt;dbl&gt;</th><th scope=col>&lt;dbl&gt;</th><th scope=col>&lt;dbl&gt;</th></tr>\n</thead>\n<tbody>\n\t<tr><td>100.80638</td><td>108.6651</td><td>119.7474</td></tr>\n\t<tr><td> 99.64688</td><td>112.5239</td><td>121.8453</td></tr>\n\t<tr><td>101.57203</td><td>109.7251</td><td>121.3858</td></tr>\n\t<tr><td>100.69102</td><td>107.9891</td><td>119.7400</td></tr>\n\t<tr><td> 99.62137</td><td>108.9515</td><td>118.5509</td></tr>\n</tbody>\n</table>\n",
            "text/markdown": "\nA data.frame: 5 × 3\n\n| A &lt;dbl&gt; | B &lt;dbl&gt; | C &lt;dbl&gt; |\n|---|---|---|\n| 100.80638 | 108.6651 | 119.7474 |\n|  99.64688 | 112.5239 | 121.8453 |\n| 101.57203 | 109.7251 | 121.3858 |\n| 100.69102 | 107.9891 | 119.7400 |\n|  99.62137 | 108.9515 | 118.5509 |\n\n",
            "text/latex": "A data.frame: 5 × 3\n\\begin{tabular}{lll}\n A & B & C\\\\\n <dbl> & <dbl> & <dbl>\\\\\n\\hline\n\t 100.80638 & 108.6651 & 119.7474\\\\\n\t  99.64688 & 112.5239 & 121.8453\\\\\n\t 101.57203 & 109.7251 & 121.3858\\\\\n\t 100.69102 & 107.9891 & 119.7400\\\\\n\t  99.62137 & 108.9515 & 118.5509\\\\\n\\end{tabular}\n",
            "text/plain": "  A         B        C       \n1 100.80638 108.6651 119.7474\n2  99.64688 112.5239 121.8453\n3 101.57203 109.7251 121.3858\n4 100.69102 107.9891 119.7400\n5  99.62137 108.9515 118.5509"
          },
          "metadata": {}
        }
      ],
      "execution_count": 2,
      "metadata": {
        "collapsed": true,
        "jupyter": {
          "source_hidden": false,
          "outputs_hidden": false
        },
        "nteract": {
          "transient": {
            "deleting": false
          }
        },
        "execution": {
          "iopub.status.busy": "2021-05-31T19:04:32.366Z",
          "iopub.execute_input": "2021-05-31T19:04:32.377Z",
          "shell.execute_reply": "2021-05-31T19:04:32.484Z",
          "iopub.status.idle": "2021-05-31T19:04:32.399Z"
        }
      }
    },
    {
      "cell_type": "markdown",
      "source": [
        "- same as the one above but more useful for dataset with i columns n col > 5"
      ],
      "metadata": {
        "nteract": {
          "transient": {
            "deleting": false
          }
        }
      }
    },
    {
      "cell_type": "code",
      "source": [
        "#+++++++°+++++++++°+++++++++°+++++++++°+++++++++°+++++++++°+++++++++°+++++++++°\n",
        "#  Ex 3 recipes for adding labels\n",
        "#+++++++°+++++++++°+++++++++°+++++++++°+++++++++°+++++++++°+++++++++°+++++++++°\n",
        "\n",
        "number_of_rows = 3\n",
        "means=c(100, 120, 130, 145)\n",
        "sds=c(10 ,20 ,40 ,10)\n",
        "\n",
        "dat <- lapply(\n",
        "       seq(1,length(means)) ,\n",
        "       function(x) rnorm(number_of_rows,m = means[x], sds[x])\n",
        "       )\n",
        "dat <- as.data.frame(do.call(cbind, dat))\n",
        " \n",
        "names_length = 3\n",
        "dictionary_size <- 10\n",
        "my_labels <- sort(\n",
        "            replicate(\n",
        "            length(means),\n",
        "            paste(sample(LETTERS[1:dictionary_size],\n",
        "            names_length,\n",
        "            replace = TRUE),\n",
        "            collapse=\"\")\n",
        "            )\n",
        "            )\n",
        "my_labels <- unlist(strsplit(my_labels,\" \"))  \n",
        "colnames(dat) <- my_labels\n",
        "\n",
        "dat"
      ],
      "outputs": [
        {
          "output_type": "display_data",
          "data": {
            "text/html": "<table>\n<caption>A data.frame: 3 × 4</caption>\n<thead>\n\t<tr><th scope=col>AII</th><th scope=col>CAE</th><th scope=col>HBE</th><th scope=col>IGG</th></tr>\n\t<tr><th scope=col>&lt;dbl&gt;</th><th scope=col>&lt;dbl&gt;</th><th scope=col>&lt;dbl&gt;</th><th scope=col>&lt;dbl&gt;</th></tr>\n</thead>\n<tbody>\n\t<tr><td>108.75016</td><td>131.5941</td><td> 37.42085</td><td>153.1532</td></tr>\n\t<tr><td> 91.07011</td><td>153.6062</td><td>149.42347</td><td>163.8499</td></tr>\n\t<tr><td>104.73926</td><td>145.7393</td><td>112.96202</td><td>144.1259</td></tr>\n</tbody>\n</table>\n",
            "text/markdown": "\nA data.frame: 3 × 4\n\n| AII &lt;dbl&gt; | CAE &lt;dbl&gt; | HBE &lt;dbl&gt; | IGG &lt;dbl&gt; |\n|---|---|---|---|\n| 108.75016 | 131.5941 |  37.42085 | 153.1532 |\n|  91.07011 | 153.6062 | 149.42347 | 163.8499 |\n| 104.73926 | 145.7393 | 112.96202 | 144.1259 |\n\n",
            "text/latex": "A data.frame: 3 × 4\n\\begin{tabular}{llll}\n AII & CAE & HBE & IGG\\\\\n <dbl> & <dbl> & <dbl> & <dbl>\\\\\n\\hline\n\t 108.75016 & 131.5941 &  37.42085 & 153.1532\\\\\n\t  91.07011 & 153.6062 & 149.42347 & 163.8499\\\\\n\t 104.73926 & 145.7393 & 112.96202 & 144.1259\\\\\n\\end{tabular}\n",
            "text/plain": "  AII       CAE      HBE       IGG     \n1 108.75016 131.5941  37.42085 153.1532\n2  91.07011 153.6062 149.42347 163.8499\n3 104.73926 145.7393 112.96202 144.1259"
          },
          "metadata": {}
        }
      ],
      "execution_count": 3,
      "metadata": {
        "collapsed": true,
        "jupyter": {
          "source_hidden": false,
          "outputs_hidden": false
        },
        "nteract": {
          "transient": {
            "deleting": false
          }
        },
        "execution": {
          "iopub.status.busy": "2021-05-31T19:04:32.410Z",
          "iopub.execute_input": "2021-05-31T19:04:32.417Z",
          "iopub.status.idle": "2021-05-31T19:04:32.435Z",
          "shell.execute_reply": "2021-05-31T19:04:32.488Z"
        }
      }
    },
    {
      "cell_type": "markdown",
      "source": [
        "- Same as above but shorter "
      ],
      "metadata": {
        "nteract": {
          "transient": {
            "deleting": false
          }
        }
      }
    },
    {
      "cell_type": "code",
      "source": [
        "\n",
        "#+++++++°+++++++++°+++++++++°+++++++++°+++++++++°+++++++++°+++++++++°+++++++++°\n",
        "#  Ex 4 a variation on recipe 2 \n",
        "#+++++++°+++++++++°+++++++++°+++++++++°+++++++++°+++++++++°+++++++++°+++++++++°\n",
        "\n",
        "# building a function for generating data with custom number of rows, means and sds\n",
        "\n",
        "simpleDataset <- function(number_of_rows,means,sds)\n",
        "{\n",
        "l <- length(means)\n",
        "res <- lapply(seq(1:l),function(x) \n",
        "\t   eval(\n",
        "\t   parse(text=paste(\"rnorm(\",number_of_rows,\",\",means[x],\",\",sds[x],\")\",sep=\"\")))\n",
        "\t   ) \n",
        "dat <- data.frame((sapply(res,c)))\n",
        "id <- rownames(dat)\n",
        "dat <-  cbind(id=id,dat)\n",
        "dt <- data.table(dat)\n",
        "return(dt)\n",
        "}\n",
        "\n",
        "\n",
        "dat1 <- simpleDataset(number_of_rows=30,\n",
        "\t\t\t\t\t  means=c(180,200,205),\n",
        "\t\t\t\t      sds=c(30,20,25))\n",
        "\t\t\t\t  \n",
        "dat2 <- simpleDataset(number_of_rows=30,\n",
        "\t\t\t\t\t  means=c(45,50,35),\n",
        "\t\t\t\t      sds=c(2,10,5))\n",
        "\t\t\t\t\t  \n",
        "dat <-  rbind(dat1,dat2)\n",
        "# rearranging table using melt from data.table \n",
        "dt.melt <- melt(dat, id.vars=\"id\")\n",
        "colnames(dt.melt) <- c(\"id\",\"category\",\"var1\")\n"
      ],
      "outputs": [
        {
          "output_type": "display_data",
          "data": {
            "text/html": "<table>\n<caption>A data.table: 6 × 3</caption>\n<thead>\n\t<tr><th scope=col>id</th><th scope=col>category</th><th scope=col>var1</th></tr>\n\t<tr><th scope=col>&lt;chr&gt;</th><th scope=col>&lt;fct&gt;</th><th scope=col>&lt;dbl&gt;</th></tr>\n</thead>\n<tbody>\n\t<tr><td>1</td><td>X1</td><td>88.28721</td></tr>\n\t<tr><td>2</td><td>X1</td><td>92.59345</td></tr>\n\t<tr><td>3</td><td>X1</td><td>89.94163</td></tr>\n\t<tr><td>4</td><td>X1</td><td>88.66391</td></tr>\n\t<tr><td>5</td><td>X1</td><td>89.01439</td></tr>\n\t<tr><td>6</td><td>X1</td><td>88.57556</td></tr>\n</tbody>\n</table>\n",
            "text/markdown": "\nA data.table: 6 × 3\n\n| id &lt;chr&gt; | category &lt;fct&gt; | var1 &lt;dbl&gt; |\n|---|---|---|\n| 1 | X1 | 88.28721 |\n| 2 | X1 | 92.59345 |\n| 3 | X1 | 89.94163 |\n| 4 | X1 | 88.66391 |\n| 5 | X1 | 89.01439 |\n| 6 | X1 | 88.57556 |\n\n",
            "text/latex": "A data.table: 6 × 3\n\\begin{tabular}{lll}\n id & category & var1\\\\\n <chr> & <fct> & <dbl>\\\\\n\\hline\n\t 1 & X1 & 88.28721\\\\\n\t 2 & X1 & 92.59345\\\\\n\t 3 & X1 & 89.94163\\\\\n\t 4 & X1 & 88.66391\\\\\n\t 5 & X1 & 89.01439\\\\\n\t 6 & X1 & 88.57556\\\\\n\\end{tabular}\n",
            "text/plain": "  id category var1    \n1 1  X1       88.28721\n2 2  X1       92.59345\n3 3  X1       89.94163\n4 4  X1       88.66391\n5 5  X1       89.01439\n6 6  X1       88.57556"
          },
          "metadata": {}
        }
      ],
      "execution_count": 1,
      "metadata": {
        "collapsed": true,
        "jupyter": {
          "source_hidden": false,
          "outputs_hidden": false
        },
        "nteract": {
          "transient": {
            "deleting": false
          }
        },
        "execution": {
          "iopub.status.busy": "2021-06-01T11:56:30.914Z",
          "iopub.execute_input": "2021-06-01T11:56:30.922Z",
          "iopub.status.idle": "2021-06-01T11:56:31.610Z",
          "shell.execute_reply": "2021-06-01T11:56:31.629Z"
        }
      }
    },
    {
      "cell_type": "markdown",
      "source": [
        "- to create sample names or labels (see https://stackoverflow.com/a/60789938/6483091)\n"
      ],
      "metadata": {
        "nteract": {
          "transient": {
            "deleting": false
          }
        }
      }
    },
    {
      "cell_type": "code",
      "source": [
        "\n",
        "#+++++++°+++++++++°+++++++++°+++++++++°+++++++++°+++++++++°+++++++++°+++++++++°\n",
        "#  More recipes for labelling\n",
        "#+++++++°+++++++++°+++++++++°+++++++++°+++++++++°+++++++++°+++++++++°+++++++++°\n",
        "\n",
        "#short names\n",
        "my_labels <- letters[1:5]\n",
        "my_labels\n",
        "# or <- \n",
        "my_labels <- LETTERS[1:5]\n",
        "my_labels\n",
        "# or arbitrary number of letters using roman letters as in the \n",
        "#function \n",
        "# letters() or LETTERS()\n",
        "\n",
        "dictionary_size <- 7\n",
        "label_length <- 5 \n",
        "n_replicates <- 3\n",
        "\n",
        "#random\n",
        "\n",
        "my_labels <- replicate(\n",
        "             n_replicates,\n",
        "             paste(sample(LETTERS[1:dictionary_size],\n",
        "             label_length,\n",
        "             replace = TRUE),\n",
        "             collapse=\"\")\n",
        "             )\n",
        "my_labels\n",
        "\n",
        "#sorted\n",
        "\n",
        "my_labels_sorted <- sort(replicate(\n",
        "                    n_replicates, \n",
        "                    paste\n",
        "                    (sample(LETTERS[1:dictionary_size],\n",
        "                     label_length,\n",
        "                     replace = TRUE),\n",
        "                     collapse=\"\")\n",
        "                    )\n",
        "                    )\n",
        "my_labels_sorted\n",
        "#if you want to mix letters and numbers\n",
        "\n",
        "alfanum_labels <- paste0(rep(LETTERS[1:dictionary_size],\n",
        "                             each = n_replicates),\n",
        "                             sep = \"-\",\n",
        "                             1:n_replicates)\n",
        "alfanum_labels"
      ],
      "outputs": [
        {
          "output_type": "display_data",
          "data": {
            "text/html": "<style>\n.list-inline {list-style: none; margin:0; padding: 0}\n.list-inline>li {display: inline-block}\n.list-inline>li:not(:last-child)::after {content: \"\\00b7\"; padding: 0 .5ex}\n</style>\n<ol class=list-inline><li>'a'</li><li>'b'</li><li>'c'</li><li>'d'</li><li>'e'</li></ol>\n",
            "text/markdown": "1. 'a'\n2. 'b'\n3. 'c'\n4. 'd'\n5. 'e'\n\n\n",
            "text/latex": "\\begin{enumerate*}\n\\item 'a'\n\\item 'b'\n\\item 'c'\n\\item 'd'\n\\item 'e'\n\\end{enumerate*}\n",
            "text/plain": "[1] \"a\" \"b\" \"c\" \"d\" \"e\""
          },
          "metadata": {}
        },
        {
          "output_type": "display_data",
          "data": {
            "text/html": "<style>\n.list-inline {list-style: none; margin:0; padding: 0}\n.list-inline>li {display: inline-block}\n.list-inline>li:not(:last-child)::after {content: \"\\00b7\"; padding: 0 .5ex}\n</style>\n<ol class=list-inline><li>'A'</li><li>'B'</li><li>'C'</li><li>'D'</li><li>'E'</li></ol>\n",
            "text/markdown": "1. 'A'\n2. 'B'\n3. 'C'\n4. 'D'\n5. 'E'\n\n\n",
            "text/latex": "\\begin{enumerate*}\n\\item 'A'\n\\item 'B'\n\\item 'C'\n\\item 'D'\n\\item 'E'\n\\end{enumerate*}\n",
            "text/plain": "[1] \"A\" \"B\" \"C\" \"D\" \"E\""
          },
          "metadata": {}
        },
        {
          "output_type": "display_data",
          "data": {
            "text/html": "<style>\n.list-inline {list-style: none; margin:0; padding: 0}\n.list-inline>li {display: inline-block}\n.list-inline>li:not(:last-child)::after {content: \"\\00b7\"; padding: 0 .5ex}\n</style>\n<ol class=list-inline><li>'ADEDF'</li><li>'FBEFE'</li><li>'EDDFA'</li></ol>\n",
            "text/markdown": "1. 'ADEDF'\n2. 'FBEFE'\n3. 'EDDFA'\n\n\n",
            "text/latex": "\\begin{enumerate*}\n\\item 'ADEDF'\n\\item 'FBEFE'\n\\item 'EDDFA'\n\\end{enumerate*}\n",
            "text/plain": "[1] \"ADEDF\" \"FBEFE\" \"EDDFA\""
          },
          "metadata": {}
        },
        {
          "output_type": "display_data",
          "data": {
            "text/html": "<style>\n.list-inline {list-style: none; margin:0; padding: 0}\n.list-inline>li {display: inline-block}\n.list-inline>li:not(:last-child)::after {content: \"\\00b7\"; padding: 0 .5ex}\n</style>\n<ol class=list-inline><li>'CGCDE'</li><li>'FDGBB'</li><li>'GCAGG'</li></ol>\n",
            "text/markdown": "1. 'CGCDE'\n2. 'FDGBB'\n3. 'GCAGG'\n\n\n",
            "text/latex": "\\begin{enumerate*}\n\\item 'CGCDE'\n\\item 'FDGBB'\n\\item 'GCAGG'\n\\end{enumerate*}\n",
            "text/plain": "[1] \"CGCDE\" \"FDGBB\" \"GCAGG\""
          },
          "metadata": {}
        },
        {
          "output_type": "display_data",
          "data": {
            "text/html": "<style>\n.list-inline {list-style: none; margin:0; padding: 0}\n.list-inline>li {display: inline-block}\n.list-inline>li:not(:last-child)::after {content: \"\\00b7\"; padding: 0 .5ex}\n</style>\n<ol class=list-inline><li>'A-1'</li><li>'A-2'</li><li>'A-3'</li><li>'B-1'</li><li>'B-2'</li><li>'B-3'</li><li>'C-1'</li><li>'C-2'</li><li>'C-3'</li><li>'D-1'</li><li>'D-2'</li><li>'D-3'</li><li>'E-1'</li><li>'E-2'</li><li>'E-3'</li><li>'F-1'</li><li>'F-2'</li><li>'F-3'</li><li>'G-1'</li><li>'G-2'</li><li>'G-3'</li></ol>\n",
            "text/markdown": "1. 'A-1'\n2. 'A-2'\n3. 'A-3'\n4. 'B-1'\n5. 'B-2'\n6. 'B-3'\n7. 'C-1'\n8. 'C-2'\n9. 'C-3'\n10. 'D-1'\n11. 'D-2'\n12. 'D-3'\n13. 'E-1'\n14. 'E-2'\n15. 'E-3'\n16. 'F-1'\n17. 'F-2'\n18. 'F-3'\n19. 'G-1'\n20. 'G-2'\n21. 'G-3'\n\n\n",
            "text/latex": "\\begin{enumerate*}\n\\item 'A-1'\n\\item 'A-2'\n\\item 'A-3'\n\\item 'B-1'\n\\item 'B-2'\n\\item 'B-3'\n\\item 'C-1'\n\\item 'C-2'\n\\item 'C-3'\n\\item 'D-1'\n\\item 'D-2'\n\\item 'D-3'\n\\item 'E-1'\n\\item 'E-2'\n\\item 'E-3'\n\\item 'F-1'\n\\item 'F-2'\n\\item 'F-3'\n\\item 'G-1'\n\\item 'G-2'\n\\item 'G-3'\n\\end{enumerate*}\n",
            "text/plain": " [1] \"A-1\" \"A-2\" \"A-3\" \"B-1\" \"B-2\" \"B-3\" \"C-1\" \"C-2\" \"C-3\" \"D-1\" \"D-2\" \"D-3\"\n[13] \"E-1\" \"E-2\" \"E-3\" \"F-1\" \"F-2\" \"F-3\" \"G-1\" \"G-2\" \"G-3\""
          },
          "metadata": {}
        }
      ],
      "execution_count": 3,
      "metadata": {
        "collapsed": true,
        "jupyter": {
          "source_hidden": false,
          "outputs_hidden": false
        },
        "nteract": {
          "transient": {
            "deleting": false
          }
        },
        "execution": {
          "iopub.status.busy": "2021-06-01T11:56:54.308Z",
          "iopub.execute_input": "2021-06-01T11:56:54.318Z",
          "iopub.status.idle": "2021-06-01T11:56:54.365Z",
          "shell.execute_reply": "2021-06-01T11:56:54.377Z"
        }
      }
    }
  ],
  "metadata": {
    "kernelspec": {
      "name": "ir",
      "language": "R",
      "display_name": "R"
    },
    "kernel_info": {
      "name": "ir"
    },
    "language_info": {
      "name": "R",
      "codemirror_mode": "r",
      "pygments_lexer": "r",
      "mimetype": "text/x-r-source",
      "file_extension": ".r",
      "version": "4.0.2"
    },
    "title": "VegaLite for R",
    "nteract": {
      "version": "0.28.0"
    }
  },
  "nbformat": 4,
  "nbformat_minor": 4
}