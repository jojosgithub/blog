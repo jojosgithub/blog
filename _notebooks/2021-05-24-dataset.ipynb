{
  "cells": [
    {
      "cell_type": "markdown",
      "source": [
        "# Simulated Dataset\n",
        "\n",
        "In this notebook you can find code snippets that I always reuse for simulating dataset\n",
        "\n",
        "- toc: true \n",
        "- badges: true\n",
        "- comments: false\n",
        "- categories: [r]\n"
      ],
      "metadata": {}
    },
    {
      "cell_type": "markdown",
      "source": [
        "*TOC*\r\n",
        "* writing a function for creating a dataset with a desired number of rows and cols given a mean and an sd (same for all cols)\r\n",
        "* writing a function for creating a small dataset (n col < 5) with a desired number of rows and cols given a mean and an sd (different for each cols)\r\n",
        "* writing a function for creating a dataset (n col > 5) with a desired number of rows and cols given a mean and an sd (different for each cols)\r\n",
        "* writing functions for creating automatic labels for ID and categories"
      ],
      "metadata": {
        "nteract": {
          "transient": {
            "deleting": false
          }
        }
      }
    },
    {
      "cell_type": "code",
      "source": [
        "\n",
        "#°+++++++++°+++++++++°+++++++++°+++++++++°+++++++++°+++++++++°+++++++++°\n",
        "#  loading required libraries for this notebook\n",
        "#+++++++°+++++++++°+++++++++°+++++++++°+++++++++°+++++++++°+++++++++°+++++++++°\n",
        "\n",
        "#loading libraries\n",
        "\n",
        "library(ggplot2)\n",
        "library(gridExtra)\n",
        "library(data.table)\n",
        "\n",
        "#+++++++°+++++++++°+++++++++°+++++++++°+++++++++°+++++++++°+++++++++°+++++++++°\n",
        "#  Example 1 a very simple test dataset\n",
        "#+++++++°+++++++++°+++++++++°+++++++++°+++++++++°+++++++++°+++++++++°+++++++++°\n",
        "# we are creating a dataframe from a matrix obtained replicating x \n",
        "# the desired number_of_cols a vector of length number_of_rows from \n",
        "# a normal distribution rnorm with a mean of my mean and standard deviation as sd\n",
        "\n",
        "number_of_rows <- 7\n",
        "number_of_cols <- 6\n",
        "my_mean <- 2\n",
        "my_sd <- 0.5\n",
        "\n",
        "newdat <-  as.data.frame( \n",
        "           replicate(\n",
        "           number_of_cols,\n",
        "           rnorm(n = number_of_rows, mean = my_mean, sd = my_sd ))\n",
        "           )\n",
        "\n",
        "\n",
        "\n",
        "#in order to print a fancy table\n",
        "newdat\n"
      ],
      "outputs": [
        {
          "output_type": "display_data",
          "data": {
            "text/html": "<table>\n<caption>A data.frame: 7 × 6</caption>\n<thead>\n\t<tr><th scope=col>V1</th><th scope=col>V2</th><th scope=col>V3</th><th scope=col>V4</th><th scope=col>V5</th><th scope=col>V6</th></tr>\n\t<tr><th scope=col>&lt;dbl&gt;</th><th scope=col>&lt;dbl&gt;</th><th scope=col>&lt;dbl&gt;</th><th scope=col>&lt;dbl&gt;</th><th scope=col>&lt;dbl&gt;</th><th scope=col>&lt;dbl&gt;</th></tr>\n</thead>\n<tbody>\n\t<tr><td>3.179453</td><td>1.367333</td><td>2.310614</td><td>1.894637</td><td>1.774971</td><td>2.381914</td></tr>\n\t<tr><td>1.030141</td><td>1.502799</td><td>2.205031</td><td>2.036801</td><td>2.419301</td><td>1.203293</td></tr>\n\t<tr><td>2.374548</td><td>1.195058</td><td>3.186200</td><td>1.465399</td><td>2.234618</td><td>1.988530</td></tr>\n\t<tr><td>3.059161</td><td>1.574156</td><td>1.524985</td><td>2.813610</td><td>2.610743</td><td>2.212044</td></tr>\n\t<tr><td>1.583258</td><td>2.177160</td><td>1.261412</td><td>1.966853</td><td>1.949342</td><td>1.250590</td></tr>\n\t<tr><td>2.124564</td><td>2.713874</td><td>2.709232</td><td>2.776729</td><td>1.871581</td><td>1.786535</td></tr>\n\t<tr><td>1.828765</td><td>2.327800</td><td>1.742169</td><td>1.812997</td><td>1.626216</td><td>1.063126</td></tr>\n</tbody>\n</table>\n",
            "text/markdown": "\nA data.frame: 7 × 6\n\n| V1 &lt;dbl&gt; | V2 &lt;dbl&gt; | V3 &lt;dbl&gt; | V4 &lt;dbl&gt; | V5 &lt;dbl&gt; | V6 &lt;dbl&gt; |\n|---|---|---|---|---|---|\n| 3.179453 | 1.367333 | 2.310614 | 1.894637 | 1.774971 | 2.381914 |\n| 1.030141 | 1.502799 | 2.205031 | 2.036801 | 2.419301 | 1.203293 |\n| 2.374548 | 1.195058 | 3.186200 | 1.465399 | 2.234618 | 1.988530 |\n| 3.059161 | 1.574156 | 1.524985 | 2.813610 | 2.610743 | 2.212044 |\n| 1.583258 | 2.177160 | 1.261412 | 1.966853 | 1.949342 | 1.250590 |\n| 2.124564 | 2.713874 | 2.709232 | 2.776729 | 1.871581 | 1.786535 |\n| 1.828765 | 2.327800 | 1.742169 | 1.812997 | 1.626216 | 1.063126 |\n\n",
            "text/latex": "A data.frame: 7 × 6\n\\begin{tabular}{llllll}\n V1 & V2 & V3 & V4 & V5 & V6\\\\\n <dbl> & <dbl> & <dbl> & <dbl> & <dbl> & <dbl>\\\\\n\\hline\n\t 3.179453 & 1.367333 & 2.310614 & 1.894637 & 1.774971 & 2.381914\\\\\n\t 1.030141 & 1.502799 & 2.205031 & 2.036801 & 2.419301 & 1.203293\\\\\n\t 2.374548 & 1.195058 & 3.186200 & 1.465399 & 2.234618 & 1.988530\\\\\n\t 3.059161 & 1.574156 & 1.524985 & 2.813610 & 2.610743 & 2.212044\\\\\n\t 1.583258 & 2.177160 & 1.261412 & 1.966853 & 1.949342 & 1.250590\\\\\n\t 2.124564 & 2.713874 & 2.709232 & 2.776729 & 1.871581 & 1.786535\\\\\n\t 1.828765 & 2.327800 & 1.742169 & 1.812997 & 1.626216 & 1.063126\\\\\n\\end{tabular}\n",
            "text/plain": "  V1       V2       V3       V4       V5       V6      \n1 3.179453 1.367333 2.310614 1.894637 1.774971 2.381914\n2 1.030141 1.502799 2.205031 2.036801 2.419301 1.203293\n3 2.374548 1.195058 3.186200 1.465399 2.234618 1.988530\n4 3.059161 1.574156 1.524985 2.813610 2.610743 2.212044\n5 1.583258 2.177160 1.261412 1.966853 1.949342 1.250590\n6 2.124564 2.713874 2.709232 2.776729 1.871581 1.786535\n7 1.828765 2.327800 1.742169 1.812997 1.626216 1.063126"
          },
          "metadata": {}
        }
      ],
      "execution_count": 1,
      "metadata": {
        "collapsed": true,
        "jupyter": {
          "source_hidden": false,
          "outputs_hidden": false
        },
        "nteract": {
          "transient": {
            "deleting": false
          }
        },
        "execution": {
          "iopub.status.busy": "2021-06-07T07:25:04.459Z",
          "iopub.execute_input": "2021-06-07T07:25:04.465Z",
          "iopub.status.idle": "2021-06-07T07:25:05.019Z",
          "shell.execute_reply": "2021-06-07T07:25:05.040Z"
        }
      }
    },
    {
      "cell_type": "markdown",
      "source": [
        "-  Code for creating small (n col < 5) dataset.\n",
        "Each column has its own mean and sd. \n",
        "In the example reported we have n = 3  (A, B, C)\n",
        "with n row = 50. means are 100,110,120 and sd 1,2,3\n"
      ],
      "metadata": {
        "nteract": {
          "transient": {
            "deleting": false
          }
        }
      }
    },
    {
      "cell_type": "code",
      "source": [
        "\n",
        "#+++++++°+++++++++°+++++++++°+++++++++°+++++++++°+++++++++°+++++++++°+++++++++°\n",
        "#  Ex 2 Another way for a simple dataset\n",
        "#+++++++°+++++++++°+++++++++°+++++++++°+++++++++°+++++++++°+++++++++°+++++++++°\n",
        "\n",
        "#in order to obtain ALWAYS same \"random\" results REMEMBER TO initialize the seed \n",
        "#set.seed(42) \n",
        "\n",
        "number_of_rows <- 5\n",
        "A <- rnorm( n=number_of_rows, mean=100, sd=1 ) \n",
        "B <- rnorm( n=number_of_rows, mean=110, sd=2 ) \n",
        "C <- rnorm( n=number_of_rows, mean=120, sd=2 ) \n",
        "\n",
        "dat=data.frame(A,B,C) \n",
        "\n",
        "dat\n",
        "\n"
      ],
      "outputs": [
        {
          "output_type": "display_data",
          "data": {
            "text/html": "<table>\n<caption>A data.frame: 5 × 3</caption>\n<thead>\n\t<tr><th scope=col>A</th><th scope=col>B</th><th scope=col>C</th></tr>\n\t<tr><th scope=col>&lt;dbl&gt;</th><th scope=col>&lt;dbl&gt;</th><th scope=col>&lt;dbl&gt;</th></tr>\n</thead>\n<tbody>\n\t<tr><td> 99.77124</td><td>111.6332</td><td>117.2913</td></tr>\n\t<tr><td> 98.76795</td><td>111.9685</td><td>118.6367</td></tr>\n\t<tr><td>101.41129</td><td>107.3180</td><td>118.2394</td></tr>\n\t<tr><td>100.97150</td><td>111.7011</td><td>119.4043</td></tr>\n\t<tr><td> 99.68483</td><td>109.9691</td><td>121.6785</td></tr>\n</tbody>\n</table>\n",
            "text/markdown": "\nA data.frame: 5 × 3\n\n| A &lt;dbl&gt; | B &lt;dbl&gt; | C &lt;dbl&gt; |\n|---|---|---|\n|  99.77124 | 111.6332 | 117.2913 |\n|  98.76795 | 111.9685 | 118.6367 |\n| 101.41129 | 107.3180 | 118.2394 |\n| 100.97150 | 111.7011 | 119.4043 |\n|  99.68483 | 109.9691 | 121.6785 |\n\n",
            "text/latex": "A data.frame: 5 × 3\n\\begin{tabular}{lll}\n A & B & C\\\\\n <dbl> & <dbl> & <dbl>\\\\\n\\hline\n\t  99.77124 & 111.6332 & 117.2913\\\\\n\t  98.76795 & 111.9685 & 118.6367\\\\\n\t 101.41129 & 107.3180 & 118.2394\\\\\n\t 100.97150 & 111.7011 & 119.4043\\\\\n\t  99.68483 & 109.9691 & 121.6785\\\\\n\\end{tabular}\n",
            "text/plain": "  A         B        C       \n1  99.77124 111.6332 117.2913\n2  98.76795 111.9685 118.6367\n3 101.41129 107.3180 118.2394\n4 100.97150 111.7011 119.4043\n5  99.68483 109.9691 121.6785"
          },
          "metadata": {}
        }
      ],
      "execution_count": 2,
      "metadata": {
        "collapsed": true,
        "jupyter": {
          "source_hidden": false,
          "outputs_hidden": false
        },
        "nteract": {
          "transient": {
            "deleting": false
          }
        },
        "execution": {
          "iopub.status.busy": "2021-06-07T07:25:05.027Z",
          "iopub.execute_input": "2021-06-07T07:25:05.049Z",
          "shell.execute_reply": "2021-06-07T07:25:05.117Z",
          "iopub.status.idle": "2021-06-07T07:25:05.089Z"
        }
      }
    },
    {
      "cell_type": "markdown",
      "source": [
        "- same as the one above but more useful for dataset with i columns n col > 5"
      ],
      "metadata": {
        "nteract": {
          "transient": {
            "deleting": false
          }
        }
      }
    },
    {
      "cell_type": "code",
      "source": [
        "\n",
        "#+++++++°+++++++++°+++++++++°+++++++++°+++++++++°+++++++++°+++++++++°+++++++++°\n",
        "#  Ex 3 recipes for adding labels\n",
        "#+++++++°+++++++++°+++++++++°+++++++++°+++++++++°+++++++++°+++++++++°+++++++++°\n",
        "\n",
        "number_of_rows = 3\n",
        "means=c(100, 120, 130, 145)\n",
        "sds=c(10 ,20 ,40 ,10)\n",
        "\n",
        "dat <- lapply(\n",
        "       seq(1,length(means)) ,\n",
        "       function(x) rnorm(number_of_rows,m = means[x], sds[x])\n",
        "       )\n",
        "dat <- as.data.frame(do.call(cbind, dat))\n",
        " \n",
        "names_length = 3\n",
        "dictionary_size <- 10\n",
        "my_labels <- sort(\n",
        "            replicate(\n",
        "            length(means),\n",
        "            paste(sample(LETTERS[1:dictionary_size],\n",
        "            names_length,\n",
        "            replace = TRUE),\n",
        "            collapse=\"\")\n",
        "            )\n",
        "            )\n",
        "my_labels <- unlist(strsplit(my_labels,\" \"))  \n",
        "colnames(dat) <- my_labels\n",
        "\n",
        "dat"
      ],
      "outputs": [
        {
          "output_type": "display_data",
          "data": {
            "text/html": "<table>\n<caption>A data.frame: 3 × 4</caption>\n<thead>\n\t<tr><th scope=col>AJE</th><th scope=col>DJI</th><th scope=col>EHI</th><th scope=col>HHI</th></tr>\n\t<tr><th scope=col>&lt;dbl&gt;</th><th scope=col>&lt;dbl&gt;</th><th scope=col>&lt;dbl&gt;</th><th scope=col>&lt;dbl&gt;</th></tr>\n</thead>\n<tbody>\n\t<tr><td>87.51604</td><td> 99.23154</td><td>129.71654</td><td>156.1370</td></tr>\n\t<tr><td>99.91220</td><td> 95.44262</td><td> 31.42456</td><td>138.0569</td></tr>\n\t<tr><td>84.50430</td><td>125.61206</td><td>173.80734</td><td>151.2865</td></tr>\n</tbody>\n</table>\n",
            "text/markdown": "\nA data.frame: 3 × 4\n\n| AJE &lt;dbl&gt; | DJI &lt;dbl&gt; | EHI &lt;dbl&gt; | HHI &lt;dbl&gt; |\n|---|---|---|---|\n| 87.51604 |  99.23154 | 129.71654 | 156.1370 |\n| 99.91220 |  95.44262 |  31.42456 | 138.0569 |\n| 84.50430 | 125.61206 | 173.80734 | 151.2865 |\n\n",
            "text/latex": "A data.frame: 3 × 4\n\\begin{tabular}{llll}\n AJE & DJI & EHI & HHI\\\\\n <dbl> & <dbl> & <dbl> & <dbl>\\\\\n\\hline\n\t 87.51604 &  99.23154 & 129.71654 & 156.1370\\\\\n\t 99.91220 &  95.44262 &  31.42456 & 138.0569\\\\\n\t 84.50430 & 125.61206 & 173.80734 & 151.2865\\\\\n\\end{tabular}\n",
            "text/plain": "  AJE      DJI       EHI       HHI     \n1 87.51604  99.23154 129.71654 156.1370\n2 99.91220  95.44262  31.42456 138.0569\n3 84.50430 125.61206 173.80734 151.2865"
          },
          "metadata": {}
        }
      ],
      "execution_count": 3,
      "metadata": {
        "collapsed": true,
        "jupyter": {
          "source_hidden": false,
          "outputs_hidden": false
        },
        "nteract": {
          "transient": {
            "deleting": false
          }
        },
        "execution": {
          "iopub.status.busy": "2021-06-07T07:25:05.096Z",
          "iopub.execute_input": "2021-06-07T07:25:05.100Z",
          "iopub.status.idle": "2021-06-07T07:25:05.140Z",
          "shell.execute_reply": "2021-06-07T07:25:05.170Z"
        }
      }
    },
    {
      "cell_type": "markdown",
      "source": [
        "- Same as above but shorter "
      ],
      "metadata": {
        "nteract": {
          "transient": {
            "deleting": false
          }
        }
      }
    },
    {
      "cell_type": "code",
      "source": [
        "\n",
        "#+++++++°+++++++++°+++++++++°+++++++++°+++++++++°+++++++++°+++++++++°+++++++++°\n",
        "#  Ex 4 a variation on recipe 2 \n",
        "#+++++++°+++++++++°+++++++++°+++++++++°+++++++++°+++++++++°+++++++++°+++++++++°\n",
        "\n",
        "# building a function for generating data with custom number of rows, means and sds\n",
        "\n",
        "simpleDataset <- function(number_of_rows,means,sds)\n",
        "{\n",
        "l <- length(means)\n",
        "res <- lapply(seq(1:l),function(x) \n",
        "\t   eval(\n",
        "\t   parse(text=paste(\"rnorm(\",number_of_rows,\",\",means[x],\",\",sds[x],\")\",sep=\"\")))\n",
        "\t   ) \n",
        "dat <- data.frame((sapply(res,c)))\n",
        "id <- rownames(dat)\n",
        "dat <-  cbind(id=id,dat)\n",
        "dt <- data.table(dat)\n",
        "return(dt)\n",
        "}\n",
        "\n",
        "\n",
        "dat1 <- simpleDataset(number_of_rows=30,\n",
        "\t\t\t\t\t  means=c(180,200,205),\n",
        "\t\t\t\t      sds=c(30,20,25))\n",
        "\t\t\t\t  \n",
        "dat2 <- simpleDataset(number_of_rows=30,\n",
        "\t\t\t\t\t  means=c(45,50,35),\n",
        "\t\t\t\t      sds=c(2,10,5))\n",
        "\t\t\t\t\t  \n",
        "dat <-  rbind(dat1,dat2)\n",
        "# rearranging table using melt from data.table \n",
        "dt.melt <- melt(dat, id.vars=\"id\")\n",
        "colnames(dt.melt) <- c(\"id\",\"category\",\"var1\")\n"
      ],
      "outputs": [],
      "execution_count": 4,
      "metadata": {
        "collapsed": true,
        "jupyter": {
          "source_hidden": false,
          "outputs_hidden": false
        },
        "nteract": {
          "transient": {
            "deleting": false
          }
        },
        "execution": {
          "iopub.status.busy": "2021-06-07T07:25:05.149Z",
          "iopub.execute_input": "2021-06-07T07:25:05.154Z",
          "iopub.status.idle": "2021-06-07T07:25:05.203Z",
          "shell.execute_reply": "2021-06-07T07:25:05.193Z"
        }
      }
    },
    {
      "cell_type": "markdown",
      "source": [
        "- to create sample names or labels (see https://stackoverflow.com/a/60789938/6483091)\n"
      ],
      "metadata": {
        "nteract": {
          "transient": {
            "deleting": false
          }
        }
      }
    },
    {
      "cell_type": "code",
      "source": [
        "\n",
        "#+++++++°+++++++++°+++++++++°+++++++++°+++++++++°+++++++++°+++++++++°+++++++++°\n",
        "#  More recipes for labelling\n",
        "#+++++++°+++++++++°+++++++++°+++++++++°+++++++++°+++++++++°+++++++++°+++++++++°\n",
        "\n",
        "#short names\n",
        "my_labels <- letters[1:5]\n",
        "my_labels\n",
        "# or <- \n",
        "my_labels <- LETTERS[1:5]\n",
        "my_labels\n",
        "# or arbitrary number of letters using roman letters as in the \n",
        "#function \n",
        "# letters() or LETTERS()\n",
        "\n",
        "dictionary_size <- 7\n",
        "label_length <- 5 \n",
        "n_replicates <- 3\n",
        "\n",
        "#random\n",
        "\n",
        "my_labels <- replicate(\n",
        "             n_replicates,\n",
        "             paste(sample(LETTERS[1:dictionary_size],\n",
        "             label_length,\n",
        "             replace = TRUE),\n",
        "             collapse=\"\")\n",
        "             )\n",
        "my_labels\n",
        "\n",
        "#sorted\n",
        "\n",
        "my_labels_sorted <- sort(replicate(\n",
        "                    n_replicates, \n",
        "                    paste\n",
        "                    (sample(LETTERS[1:dictionary_size],\n",
        "                     label_length,\n",
        "                     replace = TRUE),\n",
        "                     collapse=\"\")\n",
        "                    )\n",
        "                    )\n",
        "my_labels_sorted\n",
        "#if you want to mix letters and numbers\n",
        "\n",
        "alfanum_labels <- paste0(rep(LETTERS[1:dictionary_size],\n",
        "                             each = n_replicates),\n",
        "                             sep = \"-\",\n",
        "                             1:n_replicates)\n",
        "alfanum_labels"
      ],
      "outputs": [
        {
          "output_type": "display_data",
          "data": {
            "text/html": "<style>\n.list-inline {list-style: none; margin:0; padding: 0}\n.list-inline>li {display: inline-block}\n.list-inline>li:not(:last-child)::after {content: \"\\00b7\"; padding: 0 .5ex}\n</style>\n<ol class=list-inline><li>'a'</li><li>'b'</li><li>'c'</li><li>'d'</li><li>'e'</li></ol>\n",
            "text/markdown": "1. 'a'\n2. 'b'\n3. 'c'\n4. 'd'\n5. 'e'\n\n\n",
            "text/latex": "\\begin{enumerate*}\n\\item 'a'\n\\item 'b'\n\\item 'c'\n\\item 'd'\n\\item 'e'\n\\end{enumerate*}\n",
            "text/plain": "[1] \"a\" \"b\" \"c\" \"d\" \"e\""
          },
          "metadata": {}
        },
        {
          "output_type": "display_data",
          "data": {
            "text/html": "<style>\n.list-inline {list-style: none; margin:0; padding: 0}\n.list-inline>li {display: inline-block}\n.list-inline>li:not(:last-child)::after {content: \"\\00b7\"; padding: 0 .5ex}\n</style>\n<ol class=list-inline><li>'A'</li><li>'B'</li><li>'C'</li><li>'D'</li><li>'E'</li></ol>\n",
            "text/markdown": "1. 'A'\n2. 'B'\n3. 'C'\n4. 'D'\n5. 'E'\n\n\n",
            "text/latex": "\\begin{enumerate*}\n\\item 'A'\n\\item 'B'\n\\item 'C'\n\\item 'D'\n\\item 'E'\n\\end{enumerate*}\n",
            "text/plain": "[1] \"A\" \"B\" \"C\" \"D\" \"E\""
          },
          "metadata": {}
        },
        {
          "output_type": "display_data",
          "data": {
            "text/html": "<style>\n.list-inline {list-style: none; margin:0; padding: 0}\n.list-inline>li {display: inline-block}\n.list-inline>li:not(:last-child)::after {content: \"\\00b7\"; padding: 0 .5ex}\n</style>\n<ol class=list-inline><li>'BGGFC'</li><li>'GCCBC'</li><li>'BACDC'</li></ol>\n",
            "text/markdown": "1. 'BGGFC'\n2. 'GCCBC'\n3. 'BACDC'\n\n\n",
            "text/latex": "\\begin{enumerate*}\n\\item 'BGGFC'\n\\item 'GCCBC'\n\\item 'BACDC'\n\\end{enumerate*}\n",
            "text/plain": "[1] \"BGGFC\" \"GCCBC\" \"BACDC\""
          },
          "metadata": {}
        },
        {
          "output_type": "display_data",
          "data": {
            "text/html": "<style>\n.list-inline {list-style: none; margin:0; padding: 0}\n.list-inline>li {display: inline-block}\n.list-inline>li:not(:last-child)::after {content: \"\\00b7\"; padding: 0 .5ex}\n</style>\n<ol class=list-inline><li>'AFEGF'</li><li>'EBCCG'</li><li>'GEEGF'</li></ol>\n",
            "text/markdown": "1. 'AFEGF'\n2. 'EBCCG'\n3. 'GEEGF'\n\n\n",
            "text/latex": "\\begin{enumerate*}\n\\item 'AFEGF'\n\\item 'EBCCG'\n\\item 'GEEGF'\n\\end{enumerate*}\n",
            "text/plain": "[1] \"AFEGF\" \"EBCCG\" \"GEEGF\""
          },
          "metadata": {}
        },
        {
          "output_type": "display_data",
          "data": {
            "text/html": "<style>\n.list-inline {list-style: none; margin:0; padding: 0}\n.list-inline>li {display: inline-block}\n.list-inline>li:not(:last-child)::after {content: \"\\00b7\"; padding: 0 .5ex}\n</style>\n<ol class=list-inline><li>'A-1'</li><li>'A-2'</li><li>'A-3'</li><li>'B-1'</li><li>'B-2'</li><li>'B-3'</li><li>'C-1'</li><li>'C-2'</li><li>'C-3'</li><li>'D-1'</li><li>'D-2'</li><li>'D-3'</li><li>'E-1'</li><li>'E-2'</li><li>'E-3'</li><li>'F-1'</li><li>'F-2'</li><li>'F-3'</li><li>'G-1'</li><li>'G-2'</li><li>'G-3'</li></ol>\n",
            "text/markdown": "1. 'A-1'\n2. 'A-2'\n3. 'A-3'\n4. 'B-1'\n5. 'B-2'\n6. 'B-3'\n7. 'C-1'\n8. 'C-2'\n9. 'C-3'\n10. 'D-1'\n11. 'D-2'\n12. 'D-3'\n13. 'E-1'\n14. 'E-2'\n15. 'E-3'\n16. 'F-1'\n17. 'F-2'\n18. 'F-3'\n19. 'G-1'\n20. 'G-2'\n21. 'G-3'\n\n\n",
            "text/latex": "\\begin{enumerate*}\n\\item 'A-1'\n\\item 'A-2'\n\\item 'A-3'\n\\item 'B-1'\n\\item 'B-2'\n\\item 'B-3'\n\\item 'C-1'\n\\item 'C-2'\n\\item 'C-3'\n\\item 'D-1'\n\\item 'D-2'\n\\item 'D-3'\n\\item 'E-1'\n\\item 'E-2'\n\\item 'E-3'\n\\item 'F-1'\n\\item 'F-2'\n\\item 'F-3'\n\\item 'G-1'\n\\item 'G-2'\n\\item 'G-3'\n\\end{enumerate*}\n",
            "text/plain": " [1] \"A-1\" \"A-2\" \"A-3\" \"B-1\" \"B-2\" \"B-3\" \"C-1\" \"C-2\" \"C-3\" \"D-1\" \"D-2\" \"D-3\"\n[13] \"E-1\" \"E-2\" \"E-3\" \"F-1\" \"F-2\" \"F-3\" \"G-1\" \"G-2\" \"G-3\""
          },
          "metadata": {}
        }
      ],
      "execution_count": 5,
      "metadata": {
        "collapsed": true,
        "jupyter": {
          "source_hidden": false,
          "outputs_hidden": false
        },
        "nteract": {
          "transient": {
            "deleting": false
          }
        },
        "execution": {
          "iopub.status.busy": "2021-06-07T07:25:05.212Z",
          "iopub.execute_input": "2021-06-07T07:25:05.218Z",
          "iopub.status.idle": "2021-06-07T07:25:05.260Z",
          "shell.execute_reply": "2021-06-07T07:25:05.278Z"
        }
      }
    }
  ],
  "metadata": {
    "kernelspec": {
      "name": "ir",
      "language": "R",
      "display_name": "R"
    },
    "kernel_info": {
      "name": "ir"
    },
    "language_info": {
      "name": "R",
      "codemirror_mode": "r",
      "pygments_lexer": "r",
      "mimetype": "text/x-r-source",
      "file_extension": ".r",
      "version": "4.0.2"
    },
    "title": "VegaLite for R",
    "nteract": {
      "version": "0.28.0"
    }
  },
  "nbformat": 4,
  "nbformat_minor": 4
}