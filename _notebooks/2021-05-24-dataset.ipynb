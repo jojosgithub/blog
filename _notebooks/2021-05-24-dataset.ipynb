{
  "cells": [
    {
      "cell_type": "markdown",
      "source": [
        "# Simulated Dataset\n",
        "\n",
        "In this notebook you can find code snippets that I always reuse for simulating dataset\n",
        "\n",
        "- toc: true \n",
        "- badges: true\n",
        "- comments: false\n",
        "- categories: [r]\n"
      ],
      "metadata": {}
    },
    {
      "cell_type": "markdown",
      "source": [
        "- to create a data set with n colums with same mean and standard deviation "
      ],
      "metadata": {
        "nteract": {
          "transient": {
            "deleting": false
          }
        }
      }
    },
    {
      "cell_type": "code",
      "source": [
        "number_of_rows <- 7\n",
        "number_of_cols <- 6\n",
        "my_mean <- 2\n",
        "my_sd <- 0.5\n",
        "\n",
        "newdat <-  as.data.frame( \n",
        "           replicate(\n",
        "           number_of_cols,\n",
        "           rnorm(n = number_of_rows, mean = my_mean, sd = my_sd ))\n",
        "           )\n",
        "\n",
        "# we are creating a dataframe from a matrix obtained replicating x \n",
        "# the desired number_of_cols a vector of length number_of_rows from \n",
        "# a normal distribution rnorm with a mean of my mean and standard deviation as sd\n",
        "\n",
        "#in order to print a fancy table\n",
        "newdat\n"
      ],
      "outputs": [],
      "execution_count": null,
      "metadata": {
        "collapsed": true,
        "jupyter": {
          "source_hidden": false,
          "outputs_hidden": false
        },
        "nteract": {
          "transient": {
            "deleting": false
          }
        },
        "execution": {
          "iopub.status.busy": "2021-05-31T08:36:21.041Z",
          "iopub.execute_input": "2021-05-31T08:36:21.052Z",
          "iopub.status.idle": "2021-05-31T08:36:21.201Z",
          "shell.execute_reply": "2021-05-31T08:36:21.220Z"
        }
      }
    },
    {
      "cell_type": "markdown",
      "source": [
        "-  Code for creating small (n col < 5) dataset.\n",
        "Each column has its own mean and sd. \n",
        "In the example reported we have n = 3  (A, B, C)\n",
        "with n row = 50. means are 100,110,120 and sd 1,2,3\n"
      ],
      "metadata": {
        "nteract": {
          "transient": {
            "deleting": false
          }
        }
      }
    },
    {
      "cell_type": "code",
      "source": [
        "#in order to obtain ALWAYS same \"random\" results REMEMBER TO initialize the seed \n",
        "#set.seed(42) \n",
        "\n",
        "number_of_rows <- 5\n",
        "A <- rnorm( n=number_of_rows, mean=100, sd=1 ) \n",
        "B <- rnorm( n=number_of_rows, mean=110, sd=2 ) \n",
        "C <- rnorm( n=number_of_rows, mean=120, sd=2 ) \n",
        "\n",
        "dat=data.frame(A,B,C) \n",
        "\n",
        "dat\n",
        "\n"
      ],
      "outputs": [],
      "execution_count": null,
      "metadata": {
        "collapsed": true,
        "jupyter": {
          "source_hidden": false,
          "outputs_hidden": false
        },
        "nteract": {
          "transient": {
            "deleting": false
          }
        },
        "execution": {
          "iopub.status.busy": "2021-05-31T08:36:23.087Z",
          "iopub.execute_input": "2021-05-31T08:36:23.102Z",
          "shell.execute_reply": "2021-05-31T08:36:23.164Z",
          "iopub.status.idle": "2021-05-31T08:36:23.146Z"
        }
      }
    },
    {
      "cell_type": "markdown",
      "source": [
        "- same as the one above but more useful for dataset with i columns n col > 5"
      ],
      "metadata": {
        "nteract": {
          "transient": {
            "deleting": false
          }
        }
      }
    },
    {
      "cell_type": "code",
      "source": [
        "\n",
        "number_of_rows = 3\n",
        "means=c(100, 120, 130, 145)\n",
        "sds=c(10 ,20 ,40 ,10)\n",
        "\n",
        "dat <- lapply(\n",
        "       seq(1,length(means)) ,\n",
        "       function(x) rnorm(number_of_rows,m = means[x], sds[x])\n",
        "       )\n",
        "dat <- as.data.frame(do.call(cbind, dat))\n",
        " \n",
        "names_length = 3\n",
        "dictionary_size <- 10\n",
        "my_labels <- sort(\n",
        "            replicate(\n",
        "            length(means),\n",
        "            paste(sample(LETTERS[1:dictionary_size],\n",
        "            names_length,\n",
        "            replace = TRUE),\n",
        "            collapse=\"\")\n",
        "            )\n",
        "            )\n",
        "my_labels <- unlist(strsplit(my_labels,\" \"))  \n",
        "colnames(dat) <- my_labels\n",
        "\n",
        "dat"
      ],
      "outputs": [],
      "execution_count": null,
      "metadata": {
        "collapsed": true,
        "jupyter": {
          "source_hidden": false,
          "outputs_hidden": false
        },
        "nteract": {
          "transient": {
            "deleting": false
          }
        },
        "execution": {
          "iopub.status.busy": "2021-05-31T08:38:17.792Z",
          "iopub.execute_input": "2021-05-31T08:38:17.798Z",
          "iopub.status.idle": "2021-05-31T08:38:17.834Z",
          "shell.execute_reply": "2021-05-31T08:38:17.848Z"
        }
      }
    },
    {
      "cell_type": "markdown",
      "source": [
        "- Same as above but shorter "
      ],
      "metadata": {
        "nteract": {
          "transient": {
            "deleting": false
          }
        }
      }
    },
    {
      "cell_type": "code",
      "source": [
        "library(ggplot2)\n",
        "library(gridExtra)\n",
        "library(data.table)\n",
        "\n",
        "genDataset <- function(number_of_rows,means,sds)\n",
        "{\n",
        "l <- length(means)\n",
        "res <- lapply(seq(1:l),function(x) eval(parse(text=paste(\"rnorm(\",number_of_rows,\",\",means[x],\")\",sep=\"\")))) \n",
        "data.frame((sapply(res,c)))\n",
        "return(res)\n",
        "}\n",
        "\n",
        "dat <- genDataset(number_of_rows=100,means=c(90,100,105,92,91),sds=c(15,20,25,10,20))\n",
        "dat <- data.frame((sapply(dat,c)))\n",
        "id <- rownames(dat)\n",
        "dat <-  cbind(id=id,dat)\n",
        "dt <- data.table(dat)\n",
        "#we rearrange our table using melt\n",
        "dt.melt <- melt(dt)\n",
        "colnames(dt.melt) <- c(\"id\",\"category\",\"var1\")\n",
        "head(dt.melt)"
      ],
      "outputs": [
        {
          "output_type": "stream",
          "name": "stderr",
          "text": [
            "Warning message in melt.data.table(dt):\n",
            "\"id.vars and measure.vars are internally guessed when both are 'NULL'. All non-numeric/integer/logical type columns are considered id.vars, which in this case are columns [id, ...]. Consider providing at least one of 'id' or 'measure' vars in future.\"\n"
          ]
        },
        {
          "output_type": "display_data",
          "data": {
            "text/html": "<table>\n<caption>A data.table: 6 × 3</caption>\n<thead>\n\t<tr><th scope=col>id</th><th scope=col>category</th><th scope=col>var1</th></tr>\n\t<tr><th scope=col>&lt;chr&gt;</th><th scope=col>&lt;fct&gt;</th><th scope=col>&lt;dbl&gt;</th></tr>\n</thead>\n<tbody>\n\t<tr><td>1</td><td>X1</td><td>90.22442</td></tr>\n\t<tr><td>2</td><td>X1</td><td>89.36183</td></tr>\n\t<tr><td>3</td><td>X1</td><td>90.98922</td></tr>\n\t<tr><td>4</td><td>X1</td><td>91.96043</td></tr>\n\t<tr><td>5</td><td>X1</td><td>89.36387</td></tr>\n\t<tr><td>6</td><td>X1</td><td>91.52534</td></tr>\n</tbody>\n</table>\n",
            "text/markdown": "\nA data.table: 6 × 3\n\n| id &lt;chr&gt; | category &lt;fct&gt; | var1 &lt;dbl&gt; |\n|---|---|---|\n| 1 | X1 | 90.22442 |\n| 2 | X1 | 89.36183 |\n| 3 | X1 | 90.98922 |\n| 4 | X1 | 91.96043 |\n| 5 | X1 | 89.36387 |\n| 6 | X1 | 91.52534 |\n\n",
            "text/latex": "A data.table: 6 × 3\n\\begin{tabular}{lll}\n id & category & var1\\\\\n <chr> & <fct> & <dbl>\\\\\n\\hline\n\t 1 & X1 & 90.22442\\\\\n\t 2 & X1 & 89.36183\\\\\n\t 3 & X1 & 90.98922\\\\\n\t 4 & X1 & 91.96043\\\\\n\t 5 & X1 & 89.36387\\\\\n\t 6 & X1 & 91.52534\\\\\n\\end{tabular}\n",
            "text/plain": "  id category var1    \n1 1  X1       90.22442\n2 2  X1       89.36183\n3 3  X1       90.98922\n4 4  X1       91.96043\n5 5  X1       89.36387\n6 6  X1       91.52534"
          },
          "metadata": {}
        }
      ],
      "execution_count": 11,
      "metadata": {
        "collapsed": true,
        "jupyter": {
          "source_hidden": false,
          "outputs_hidden": false
        },
        "nteract": {
          "transient": {
            "deleting": false
          }
        },
        "execution": {
          "iopub.status.busy": "2021-05-31T08:44:58.036Z",
          "iopub.execute_input": "2021-05-31T08:44:58.042Z",
          "iopub.status.idle": "2021-05-31T08:44:58.065Z",
          "shell.execute_reply": "2021-05-31T08:44:58.078Z"
        }
      }
    },
    {
      "cell_type": "markdown",
      "source": [
        "- to create sample names or labels (see https://stackoverflow.com/a/60789938/6483091)\n"
      ],
      "metadata": {
        "nteract": {
          "transient": {
            "deleting": false
          }
        }
      }
    },
    {
      "cell_type": "code",
      "source": [
        "#short names\n",
        "my_labels <- letters[1:5]\n",
        "my_labels\n",
        "# or <- \n",
        "my_labels <- LETTERS[1:5]\n",
        "my_labels\n",
        "# or arbitrary number of letters using roman letters as in the \n",
        "#function \n",
        "# letters() or LETTERS()\n",
        "\n",
        "dictionary_size <- 7\n",
        "label_length <- 5 \n",
        "n_replicates <- 3\n",
        "\n",
        "#random\n",
        "\n",
        "my_labels <- replicate(\n",
        "             n_replicates,\n",
        "             paste(sample(LETTERS[1:dictionary_size],\n",
        "             label_length,\n",
        "             replace = TRUE),\n",
        "             collapse=\"\")\n",
        "             )\n",
        "my_labels\n",
        "\n",
        "#sorted\n",
        "\n",
        "my_labels_sorted <- sort(replicate(\n",
        "                    n_replicates, \n",
        "                    paste(sample(LETTERS[1:dictionary_size], label_length, replace = TRUE), collapse=\"\")\n",
        "                    )\n",
        "                    )\n",
        "my_labels_sorted\n",
        "#if you want to mix letters and numbers\n",
        "\n",
        "alfanum_labels <- paste0(rep(LETTERS[1:dictionary_size], each = n_replicates), sep = \"-\", 1:n_replicates)\n",
        "alfanum_labels"
      ],
      "outputs": [],
      "execution_count": null,
      "metadata": {
        "collapsed": true,
        "jupyter": {
          "source_hidden": false,
          "outputs_hidden": false
        },
        "nteract": {
          "transient": {
            "deleting": false
          }
        },
        "execution": {
          "iopub.status.busy": "2021-05-31T08:36:32.751Z",
          "iopub.execute_input": "2021-05-31T08:36:32.761Z",
          "iopub.status.idle": "2021-05-31T08:36:32.822Z",
          "shell.execute_reply": "2021-05-31T08:36:32.835Z"
        }
      }
    }
  ],
  "metadata": {
    "kernelspec": {
      "name": "ir",
      "language": "R",
      "display_name": "R"
    },
    "kernel_info": {
      "name": "ir"
    },
    "language_info": {
      "name": "R",
      "codemirror_mode": "r",
      "pygments_lexer": "r",
      "mimetype": "text/x-r-source",
      "file_extension": ".r",
      "version": "4.0.2"
    },
    "title": "VegaLite for R",
    "nteract": {
      "version": "0.28.0"
    }
  },
  "nbformat": 4,
  "nbformat_minor": 4
}