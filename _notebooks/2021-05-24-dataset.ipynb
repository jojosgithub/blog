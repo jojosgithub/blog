{
  "cells": [
    {
      "cell_type": "markdown",
      "source": [
        "# Simulated Dataset\n",
        "\n",
        "In this notebook you can find code snippets that I always reuse for simulating dataset\n",
        "\n",
        "- toc: true \n",
        "- badges: true\n",
        "- comments: false\n",
        "- categories: [r]\n"
      ],
      "metadata": {}
    },
    {
      "cell_type": "markdown",
      "source": [
        "- to create a data set with n colums with same mean and standard deviation "
      ],
      "metadata": {
        "nteract": {
          "transient": {
            "deleting": false
          }
        }
      }
    },
    {
      "cell_type": "code",
      "source": [
        "number_of_rows <- 7\n",
        "number_of_cols <- 6\n",
        "my_mean <- 2\n",
        "my_sd <- 0.5\n",
        "\n",
        "newdat <-  as.data.frame( \n",
        "           replicate(\n",
        "           number_of_cols,\n",
        "           rnorm(n = number_of_rows, mean = my_mean, sd = my_sd ))\n",
        "           )\n",
        "\n",
        "# we are creating a dataframe from a matrix obtained replicating x \n",
        "# the desired number_of_cols a vector of length number_of_rows from \n",
        "# a normal distribution rnorm with a mean of my mean and standard deviation as sd\n",
        "\n",
        "head(newdat)"
      ],
      "outputs": [
        {
          "output_type": "display_data",
          "data": {
            "text/html": "<table>\n<caption>A data.frame: 6 × 6</caption>\n<thead>\n\t<tr><th></th><th scope=col>V1</th><th scope=col>V2</th><th scope=col>V3</th><th scope=col>V4</th><th scope=col>V5</th><th scope=col>V6</th></tr>\n\t<tr><th></th><th scope=col>&lt;dbl&gt;</th><th scope=col>&lt;dbl&gt;</th><th scope=col>&lt;dbl&gt;</th><th scope=col>&lt;dbl&gt;</th><th scope=col>&lt;dbl&gt;</th><th scope=col>&lt;dbl&gt;</th></tr>\n</thead>\n<tbody>\n\t<tr><th scope=row>1</th><td>1.690504</td><td>1.273989</td><td>0.9410319</td><td>2.278660</td><td>1.762100</td><td>1.724929</td></tr>\n\t<tr><th scope=row>2</th><td>1.907054</td><td>1.506012</td><td>1.1887123</td><td>1.593398</td><td>1.678743</td><td>1.860177</td></tr>\n\t<tr><th scope=row>3</th><td>2.395591</td><td>1.533450</td><td>1.4812527</td><td>1.124384</td><td>2.354872</td><td>1.758949</td></tr>\n\t<tr><th scope=row>4</th><td>2.039787</td><td>1.504051</td><td>2.6524783</td><td>1.633000</td><td>2.619130</td><td>3.038763</td></tr>\n\t<tr><th scope=row>5</th><td>1.198748</td><td>2.543346</td><td>1.5713827</td><td>2.543388</td><td>1.015890</td><td>1.729694</td></tr>\n\t<tr><th scope=row>6</th><td>2.020301</td><td>2.224998</td><td>2.5064183</td><td>1.761407</td><td>2.225457</td><td>1.444580</td></tr>\n</tbody>\n</table>\n",
            "text/markdown": "\nA data.frame: 6 × 6\n\n| <!--/--> | V1 &lt;dbl&gt; | V2 &lt;dbl&gt; | V3 &lt;dbl&gt; | V4 &lt;dbl&gt; | V5 &lt;dbl&gt; | V6 &lt;dbl&gt; |\n|---|---|---|---|---|---|---|\n| 1 | 1.690504 | 1.273989 | 0.9410319 | 2.278660 | 1.762100 | 1.724929 |\n| 2 | 1.907054 | 1.506012 | 1.1887123 | 1.593398 | 1.678743 | 1.860177 |\n| 3 | 2.395591 | 1.533450 | 1.4812527 | 1.124384 | 2.354872 | 1.758949 |\n| 4 | 2.039787 | 1.504051 | 2.6524783 | 1.633000 | 2.619130 | 3.038763 |\n| 5 | 1.198748 | 2.543346 | 1.5713827 | 2.543388 | 1.015890 | 1.729694 |\n| 6 | 2.020301 | 2.224998 | 2.5064183 | 1.761407 | 2.225457 | 1.444580 |\n\n",
            "text/latex": "A data.frame: 6 × 6\n\\begin{tabular}{r|llllll}\n  & V1 & V2 & V3 & V4 & V5 & V6\\\\\n  & <dbl> & <dbl> & <dbl> & <dbl> & <dbl> & <dbl>\\\\\n\\hline\n\t1 & 1.690504 & 1.273989 & 0.9410319 & 2.278660 & 1.762100 & 1.724929\\\\\n\t2 & 1.907054 & 1.506012 & 1.1887123 & 1.593398 & 1.678743 & 1.860177\\\\\n\t3 & 2.395591 & 1.533450 & 1.4812527 & 1.124384 & 2.354872 & 1.758949\\\\\n\t4 & 2.039787 & 1.504051 & 2.6524783 & 1.633000 & 2.619130 & 3.038763\\\\\n\t5 & 1.198748 & 2.543346 & 1.5713827 & 2.543388 & 1.015890 & 1.729694\\\\\n\t6 & 2.020301 & 2.224998 & 2.5064183 & 1.761407 & 2.225457 & 1.444580\\\\\n\\end{tabular}\n",
            "text/plain": "  V1       V2       V3        V4       V5       V6      \n1 1.690504 1.273989 0.9410319 2.278660 1.762100 1.724929\n2 1.907054 1.506012 1.1887123 1.593398 1.678743 1.860177\n3 2.395591 1.533450 1.4812527 1.124384 2.354872 1.758949\n4 2.039787 1.504051 2.6524783 1.633000 2.619130 3.038763\n5 1.198748 2.543346 1.5713827 2.543388 1.015890 1.729694\n6 2.020301 2.224998 2.5064183 1.761407 2.225457 1.444580"
          },
          "metadata": {}
        }
      ],
      "execution_count": 9,
      "metadata": {
        "collapsed": true,
        "jupyter": {
          "source_hidden": false,
          "outputs_hidden": false
        },
        "nteract": {
          "transient": {
            "deleting": false
          }
        },
        "execution": {
          "iopub.status.busy": "2021-05-25T12:43:14.786Z",
          "iopub.execute_input": "2021-05-25T12:43:14.790Z",
          "iopub.status.idle": "2021-05-25T12:43:14.810Z",
          "shell.execute_reply": "2021-05-25T12:43:14.822Z"
        }
      }
    },
    {
      "cell_type": "markdown",
      "source": [
        "-  Code for creating small (n col < 5) dataset.\n",
        "Each column has its own mean and sd. \n",
        "In the example reported we have n = 3  (A, B, C)\n",
        "with n row = 50. means are 100,110,120 and sd 1,2,3\n"
      ],
      "metadata": {
        "nteract": {
          "transient": {
            "deleting": false
          }
        }
      }
    },
    {
      "cell_type": "code",
      "source": [
        "#in order to obtain ALWAYS same \"random\" results REMEMBER TO initialize the seed \n",
        "#set.seed(42) \n",
        "\n",
        "number_of_rows <- 5\n",
        "A <- rnorm( n=number_of_rows, mean=100, sd=1 ) \n",
        "B <- rnorm( n=number_of_rows, mean=110, sd=2 ) \n",
        "C <- rnorm( n=number_of_rows, mean=120, sd=2 ) \n",
        "\n",
        "dat=data.frame(A,B,C) \n",
        "\n",
        "dat\n",
        "\n"
      ],
      "outputs": [
        {
          "output_type": "display_data",
          "data": {
            "text/html": "<table>\n<caption>A data.frame: 5 × 3</caption>\n<thead>\n\t<tr><th scope=col>A</th><th scope=col>B</th><th scope=col>C</th></tr>\n\t<tr><th scope=col>&lt;dbl&gt;</th><th scope=col>&lt;dbl&gt;</th><th scope=col>&lt;dbl&gt;</th></tr>\n</thead>\n<tbody>\n\t<tr><td>101.1820</td><td>113.2777</td><td>117.8636</td></tr>\n\t<tr><td>100.2234</td><td>104.6185</td><td>119.9460</td></tr>\n\t<tr><td>101.1258</td><td>108.7751</td><td>118.9331</td></tr>\n\t<tr><td>101.2472</td><td>107.7836</td><td>120.4090</td></tr>\n\t<tr><td>101.8446</td><td>110.0996</td><td>121.0424</td></tr>\n</tbody>\n</table>\n",
            "text/markdown": "\nA data.frame: 5 × 3\n\n| A &lt;dbl&gt; | B &lt;dbl&gt; | C &lt;dbl&gt; |\n|---|---|---|\n| 101.1820 | 113.2777 | 117.8636 |\n| 100.2234 | 104.6185 | 119.9460 |\n| 101.1258 | 108.7751 | 118.9331 |\n| 101.2472 | 107.7836 | 120.4090 |\n| 101.8446 | 110.0996 | 121.0424 |\n\n",
            "text/latex": "A data.frame: 5 × 3\n\\begin{tabular}{lll}\n A & B & C\\\\\n <dbl> & <dbl> & <dbl>\\\\\n\\hline\n\t 101.1820 & 113.2777 & 117.8636\\\\\n\t 100.2234 & 104.6185 & 119.9460\\\\\n\t 101.1258 & 108.7751 & 118.9331\\\\\n\t 101.2472 & 107.7836 & 120.4090\\\\\n\t 101.8446 & 110.0996 & 121.0424\\\\\n\\end{tabular}\n",
            "text/plain": "  A        B        C       \n1 101.1820 113.2777 117.8636\n2 100.2234 104.6185 119.9460\n3 101.1258 108.7751 118.9331\n4 101.2472 107.7836 120.4090\n5 101.8446 110.0996 121.0424"
          },
          "metadata": {}
        }
      ],
      "execution_count": 8,
      "metadata": {
        "collapsed": true,
        "jupyter": {
          "source_hidden": false,
          "outputs_hidden": false
        },
        "nteract": {
          "transient": {
            "deleting": false
          }
        },
        "execution": {
          "iopub.status.busy": "2021-05-25T12:43:11.847Z",
          "iopub.execute_input": "2021-05-25T12:43:11.854Z",
          "shell.execute_reply": "2021-05-25T12:43:11.883Z",
          "iopub.status.idle": "2021-05-25T12:43:11.871Z"
        }
      }
    },
    {
      "cell_type": "markdown",
      "source": [
        "- same as the one above but more useful for dataset with i columns n col > 5"
      ],
      "metadata": {
        "nteract": {
          "transient": {
            "deleting": false
          }
        }
      }
    },
    {
      "cell_type": "code",
      "source": [
        "\n",
        "number_of_rows = 3\n",
        "means=c(100, 120, 130, 145)\n",
        "sds=c(10 ,20 ,40 ,10)\n",
        "\n",
        "dat <- lapply(\n",
        "       seq(1,length(means)) ,\n",
        "       function(x) rnorm(number_of_rows,m = means[x], sds[x])\n",
        "       )\n",
        "dat <- as.data.frame(do.call(cbind, dat))\n",
        " \n",
        "names_length = 3\n",
        "dictionary_size <- 10\n",
        "my_labels <- sort(\n",
        "            replicate(\n",
        "            length(means),\n",
        "            paste(sample(LETTERS[1:dictionary_size],\n",
        "            names_length,\n",
        "            replace = TRUE),\n",
        "            collapse=\"\")\n",
        "            )\n",
        "            )\n",
        "my_labels <- unlist(strsplit(my_labels,\" \"))  \n",
        "colnames(dat) <- my_labels\n",
        "\n",
        "dat"
      ],
      "outputs": [
        {
          "output_type": "display_data",
          "data": {
            "text/html": "<table>\n<caption>A data.frame: 3 × 4</caption>\n<thead>\n\t<tr><th scope=col>BCI</th><th scope=col>GBE</th><th scope=col>GFJ</th><th scope=col>JEE</th></tr>\n\t<tr><th scope=col>&lt;dbl&gt;</th><th scope=col>&lt;dbl&gt;</th><th scope=col>&lt;dbl&gt;</th><th scope=col>&lt;dbl&gt;</th></tr>\n</thead>\n<tbody>\n\t<tr><td> 82.74740</td><td>135.08212</td><td>145.0604</td><td>140.5885</td></tr>\n\t<tr><td>104.39390</td><td>110.53025</td><td>123.9206</td><td>136.0575</td></tr>\n\t<tr><td> 94.05001</td><td> 87.58391</td><td>103.4776</td><td>150.7749</td></tr>\n</tbody>\n</table>\n",
            "text/markdown": "\nA data.frame: 3 × 4\n\n| BCI &lt;dbl&gt; | GBE &lt;dbl&gt; | GFJ &lt;dbl&gt; | JEE &lt;dbl&gt; |\n|---|---|---|---|\n|  82.74740 | 135.08212 | 145.0604 | 140.5885 |\n| 104.39390 | 110.53025 | 123.9206 | 136.0575 |\n|  94.05001 |  87.58391 | 103.4776 | 150.7749 |\n\n",
            "text/latex": "A data.frame: 3 × 4\n\\begin{tabular}{llll}\n BCI & GBE & GFJ & JEE\\\\\n <dbl> & <dbl> & <dbl> & <dbl>\\\\\n\\hline\n\t  82.74740 & 135.08212 & 145.0604 & 140.5885\\\\\n\t 104.39390 & 110.53025 & 123.9206 & 136.0575\\\\\n\t  94.05001 &  87.58391 & 103.4776 & 150.7749\\\\\n\\end{tabular}\n",
            "text/plain": "  BCI       GBE       GFJ      JEE     \n1  82.74740 135.08212 145.0604 140.5885\n2 104.39390 110.53025 123.9206 136.0575\n3  94.05001  87.58391 103.4776 150.7749"
          },
          "metadata": {}
        }
      ],
      "execution_count": 11,
      "metadata": {
        "collapsed": true,
        "jupyter": {
          "source_hidden": false,
          "outputs_hidden": false
        },
        "nteract": {
          "transient": {
            "deleting": false
          }
        },
        "execution": {
          "iopub.status.busy": "2021-05-25T12:43:51.558Z",
          "iopub.execute_input": "2021-05-25T12:43:51.563Z",
          "iopub.status.idle": "2021-05-25T12:43:51.597Z",
          "shell.execute_reply": "2021-05-25T12:43:51.610Z"
        }
      }
    },
    {
      "cell_type": "markdown",
      "source": [
        "- to create sample names or labels (see https://stackoverflow.com/a/60789938/6483091)\n"
      ],
      "metadata": {
        "nteract": {
          "transient": {
            "deleting": false
          }
        }
      }
    },
    {
      "cell_type": "code",
      "source": [
        "#short names\n",
        "my_labels <- letters[1:5]\n",
        "my_labels\n",
        "# or <- \n",
        "my_labels <- LETTERS[1:5]\n",
        "my_labels\n",
        "# or arbitrary number of letters using roman letters as in the \n",
        "#function \n",
        "# letters() or LETTERS()\n",
        "\n",
        "dictionary_size <- 7\n",
        "label_length <- 5 \n",
        "n_replicates <- 3\n",
        "\n",
        "#random\n",
        "\n",
        "my_labels <- replicate(\n",
        "             n_replicates,\n",
        "             paste(sample(LETTERS[1:dictionary_size],\n",
        "             label_length,\n",
        "             replace = TRUE),\n",
        "             collapse=\"\")\n",
        "             )\n",
        "my_labels\n",
        "\n",
        "#sorted\n",
        "\n",
        "my_labels_sorted <- sort(replicate(\n",
        "                    n_replicates, \n",
        "                    paste(sample(LETTERS[1:dictionary_size], label_length, replace = TRUE), collapse=\"\")\n",
        "                    )\n",
        "                    )\n",
        "my_labels_sorted\n",
        "#if you want to mix letters and numbers\n",
        "\n",
        "alfanum_labels <- paste0(rep(LETTERS[1:dictionary_size], each = n_replicates), sep = \"-\", 1:n_replicates)\n",
        "alfanum_labels"
      ],
      "outputs": [
        {
          "output_type": "display_data",
          "data": {
            "text/html": "<style>\n.list-inline {list-style: none; margin:0; padding: 0}\n.list-inline>li {display: inline-block}\n.list-inline>li:not(:last-child)::after {content: \"\\00b7\"; padding: 0 .5ex}\n</style>\n<ol class=list-inline><li>'a'</li><li>'b'</li><li>'c'</li><li>'d'</li><li>'e'</li></ol>\n",
            "text/markdown": "1. 'a'\n2. 'b'\n3. 'c'\n4. 'd'\n5. 'e'\n\n\n",
            "text/latex": "\\begin{enumerate*}\n\\item 'a'\n\\item 'b'\n\\item 'c'\n\\item 'd'\n\\item 'e'\n\\end{enumerate*}\n",
            "text/plain": "[1] \"a\" \"b\" \"c\" \"d\" \"e\""
          },
          "metadata": {}
        },
        {
          "output_type": "display_data",
          "data": {
            "text/html": "<style>\n.list-inline {list-style: none; margin:0; padding: 0}\n.list-inline>li {display: inline-block}\n.list-inline>li:not(:last-child)::after {content: \"\\00b7\"; padding: 0 .5ex}\n</style>\n<ol class=list-inline><li>'A'</li><li>'B'</li><li>'C'</li><li>'D'</li><li>'E'</li></ol>\n",
            "text/markdown": "1. 'A'\n2. 'B'\n3. 'C'\n4. 'D'\n5. 'E'\n\n\n",
            "text/latex": "\\begin{enumerate*}\n\\item 'A'\n\\item 'B'\n\\item 'C'\n\\item 'D'\n\\item 'E'\n\\end{enumerate*}\n",
            "text/plain": "[1] \"A\" \"B\" \"C\" \"D\" \"E\""
          },
          "metadata": {}
        },
        {
          "output_type": "display_data",
          "data": {
            "text/html": "<style>\n.list-inline {list-style: none; margin:0; padding: 0}\n.list-inline>li {display: inline-block}\n.list-inline>li:not(:last-child)::after {content: \"\\00b7\"; padding: 0 .5ex}\n</style>\n<ol class=list-inline><li>'GBCDF'</li><li>'AGEBC'</li><li>'FBCDF'</li></ol>\n",
            "text/markdown": "1. 'GBCDF'\n2. 'AGEBC'\n3. 'FBCDF'\n\n\n",
            "text/latex": "\\begin{enumerate*}\n\\item 'GBCDF'\n\\item 'AGEBC'\n\\item 'FBCDF'\n\\end{enumerate*}\n",
            "text/plain": "[1] \"GBCDF\" \"AGEBC\" \"FBCDF\""
          },
          "metadata": {}
        },
        {
          "output_type": "display_data",
          "data": {
            "text/html": "<style>\n.list-inline {list-style: none; margin:0; padding: 0}\n.list-inline>li {display: inline-block}\n.list-inline>li:not(:last-child)::after {content: \"\\00b7\"; padding: 0 .5ex}\n</style>\n<ol class=list-inline><li>'DDCFA'</li><li>'FCEGE'</li><li>'GFECF'</li></ol>\n",
            "text/markdown": "1. 'DDCFA'\n2. 'FCEGE'\n3. 'GFECF'\n\n\n",
            "text/latex": "\\begin{enumerate*}\n\\item 'DDCFA'\n\\item 'FCEGE'\n\\item 'GFECF'\n\\end{enumerate*}\n",
            "text/plain": "[1] \"DDCFA\" \"FCEGE\" \"GFECF\""
          },
          "metadata": {}
        },
        {
          "output_type": "display_data",
          "data": {
            "text/html": "<style>\n.list-inline {list-style: none; margin:0; padding: 0}\n.list-inline>li {display: inline-block}\n.list-inline>li:not(:last-child)::after {content: \"\\00b7\"; padding: 0 .5ex}\n</style>\n<ol class=list-inline><li>'A-1'</li><li>'A-2'</li><li>'A-3'</li><li>'B-1'</li><li>'B-2'</li><li>'B-3'</li><li>'C-1'</li><li>'C-2'</li><li>'C-3'</li><li>'D-1'</li><li>'D-2'</li><li>'D-3'</li><li>'E-1'</li><li>'E-2'</li><li>'E-3'</li><li>'F-1'</li><li>'F-2'</li><li>'F-3'</li><li>'G-1'</li><li>'G-2'</li><li>'G-3'</li></ol>\n",
            "text/markdown": "1. 'A-1'\n2. 'A-2'\n3. 'A-3'\n4. 'B-1'\n5. 'B-2'\n6. 'B-3'\n7. 'C-1'\n8. 'C-2'\n9. 'C-3'\n10. 'D-1'\n11. 'D-2'\n12. 'D-3'\n13. 'E-1'\n14. 'E-2'\n15. 'E-3'\n16. 'F-1'\n17. 'F-2'\n18. 'F-3'\n19. 'G-1'\n20. 'G-2'\n21. 'G-3'\n\n\n",
            "text/latex": "\\begin{enumerate*}\n\\item 'A-1'\n\\item 'A-2'\n\\item 'A-3'\n\\item 'B-1'\n\\item 'B-2'\n\\item 'B-3'\n\\item 'C-1'\n\\item 'C-2'\n\\item 'C-3'\n\\item 'D-1'\n\\item 'D-2'\n\\item 'D-3'\n\\item 'E-1'\n\\item 'E-2'\n\\item 'E-3'\n\\item 'F-1'\n\\item 'F-2'\n\\item 'F-3'\n\\item 'G-1'\n\\item 'G-2'\n\\item 'G-3'\n\\end{enumerate*}\n",
            "text/plain": " [1] \"A-1\" \"A-2\" \"A-3\" \"B-1\" \"B-2\" \"B-3\" \"C-1\" \"C-2\" \"C-3\" \"D-1\" \"D-2\" \"D-3\"\n[13] \"E-1\" \"E-2\" \"E-3\" \"F-1\" \"F-2\" \"F-3\" \"G-1\" \"G-2\" \"G-3\""
          },
          "metadata": {}
        }
      ],
      "execution_count": 14,
      "metadata": {
        "collapsed": true,
        "jupyter": {
          "source_hidden": false,
          "outputs_hidden": false
        },
        "nteract": {
          "transient": {
            "deleting": false
          }
        },
        "execution": {
          "iopub.status.busy": "2021-05-25T12:45:56.717Z",
          "iopub.execute_input": "2021-05-25T12:45:56.723Z",
          "iopub.status.idle": "2021-05-25T12:45:56.767Z",
          "shell.execute_reply": "2021-05-25T12:45:56.778Z"
        }
      }
    },
    {
      "cell_type": "code",
      "source": [],
      "outputs": [],
      "execution_count": null,
      "metadata": {
        "collapsed": true,
        "jupyter": {
          "source_hidden": false,
          "outputs_hidden": false
        },
        "nteract": {
          "transient": {
            "deleting": false
          }
        }
      }
    }
  ],
  "metadata": {
    "kernelspec": {
      "name": "ir",
      "language": "R",
      "display_name": "R"
    },
    "kernel_info": {
      "name": "ir"
    },
    "language_info": {
      "name": "R",
      "codemirror_mode": "r",
      "pygments_lexer": "r",
      "mimetype": "text/x-r-source",
      "file_extension": ".r",
      "version": "4.0.2"
    },
    "title": "VegaLite for R",
    "nteract": {
      "version": "0.28.0"
    }
  },
  "nbformat": 4,
  "nbformat_minor": 4
}