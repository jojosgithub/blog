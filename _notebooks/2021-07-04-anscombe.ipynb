{
 "cells": [
  {
   "cell_type": "markdown",
   "metadata": {},
   "source": [
    "# Anscombe's  quartet\n",
    "\n",
    "- toc: true \n",
    "- badges: true\n",
    "- comments: false\n",
    "- categories: [r,ggplot,recipes,simpson]\n"
   ]
  },
  {
   "cell_type": "markdown",
   "metadata": {
    "nteract": {
     "transient": {
      "deleting": false
     }
    }
   },
   "source": [
    "*TOC*\n",
    "* can we create a function to recreate infinite Anscombe's quartet even with more points?\n"
   ]
  },
  {
   "cell_type": "markdown",
   "metadata": {},
   "source": [
    "update: for now I've just created the 1,3 and 4 quartet. The second one should be not too difficult too to add. As you can see not all statistics are the same but the mean is. Still to tweak a bit but a good starting point.\n",
    "For a detailed description of Anscombe quartet see, F. J. \"Graphs in Statistical Analysis.\" The American Statistician 27, no. 1 (1973): 17-21. Accessed July 4, 2021. doi:10.2307/2682899. Let's start importing the data and plot them also we will add the regression labs\n",
    "\n"
   ]
  },
  {
   "cell_type": "code",
   "execution_count": 27,
   "metadata": {
    "execution": {
     "iopub.execute_input": "2021-06-19T18:06:53.366Z",
     "iopub.status.busy": "2021-06-19T18:06:53.361Z",
     "iopub.status.idle": "2021-06-19T18:06:53.403Z",
     "shell.execute_reply": "2021-06-19T18:06:53.394Z"
    }
   },
   "outputs": [
    {
     "data": {
      "text/plain": [
       "       x1             x2             x3             x4           y1        \n",
       " Min.   : 4.0   Min.   : 4.0   Min.   : 4.0   Min.   : 8   Min.   : 4.260  \n",
       " 1st Qu.: 6.5   1st Qu.: 6.5   1st Qu.: 6.5   1st Qu.: 8   1st Qu.: 6.315  \n",
       " Median : 9.0   Median : 9.0   Median : 9.0   Median : 8   Median : 7.580  \n",
       " Mean   : 9.0   Mean   : 9.0   Mean   : 9.0   Mean   : 9   Mean   : 7.501  \n",
       " 3rd Qu.:11.5   3rd Qu.:11.5   3rd Qu.:11.5   3rd Qu.: 8   3rd Qu.: 8.570  \n",
       " Max.   :14.0   Max.   :14.0   Max.   :14.0   Max.   :19   Max.   :10.840  \n",
       "       y2              y3              y4        \n",
       " Min.   :3.100   Min.   : 5.39   Min.   : 5.250  \n",
       " 1st Qu.:6.695   1st Qu.: 6.25   1st Qu.: 6.170  \n",
       " Median :8.140   Median : 7.11   Median : 7.040  \n",
       " Mean   :7.501   Mean   : 7.50   Mean   : 7.501  \n",
       " 3rd Qu.:8.950   3rd Qu.: 7.98   3rd Qu.: 8.190  \n",
       " Max.   :9.260   Max.   :12.74   Max.   :12.500  "
      ]
     },
     "metadata": {},
     "output_type": "display_data"
    }
   ],
   "source": [
    "\n",
    "library(ggpmisc)\n",
    "library(data.table)\n",
    "library(ggplot2)\n",
    "library(datasauRus)\n",
    "library(patchwork)\n",
    "options(repr.plot.width=8.9, repr.plot.height=4.5,units=\"cm\")\n",
    "\n",
    "summary(anscombe)\n",
    "\n",
    "# xi <- (x*cos(pi*theta[i])-y*sin(pi*theta[i]))\n",
    "# yi <- (x*sin(pi*theta[i])-y*cos(pi*theta[i]))\n",
    " \n",
    "\n",
    "npoints= 11\n",
    "youtlier \t= 20\n",
    "xoutlier \t= 10\n",
    "xmin\t  \t= 1\t\n",
    "xmax     \t= 10\n",
    "ymin\t\t= -5\n",
    "ymax\t\t= 5\n",
    "\n",
    "\n",
    "plotreg <- function(df){\n",
    "  formula <- y ~ x\n",
    "  ggplot(df, aes(x = x, y = y)) +\n",
    "  geom_point(aes(size = 5),alpha = 0.3) +\n",
    "  geom_smooth(method = \"lm\", formula = formula, se = T) +\n",
    "  #stat_poly_eq(aes(label = paste(..eq.label.., ..rr.label.., sep = \"~~~\")), \n",
    "  #             label.x.npc = \"right\", label.y.npc = 0.15,\n",
    "  #             formula = formula, parse = TRUE, size = 8)+\t\t\n",
    "  theme_light(base_size=14)+theme(legend.position = \"none\") }\n",
    "\n",
    "multians <- function (npoints= 11,\n",
    "youtlier \t= 20,\n",
    "xoutlier \t= 10,\n",
    "xmin\t  \t= 1\t,\n",
    "xmax     \t= 10,\n",
    "ymin\t\t= -5,\n",
    "ymax\t\t= 5){\n",
    "\n",
    "#plot4\n",
    "x <- c(rep(xmin,(npoints-1)),xoutlier)\n",
    "y <- c(seq(ymin, ymax, length.out = (npoints-1)),youtlier)\n",
    "df <- data.frame(x,y)\n",
    "colnames(df) <- c(\"x\",\"y\")\n",
    "\n",
    "#plot1 #3 outlier\n",
    "myint <- (xmin-xmax)/2\n",
    "xnew <- seq(mean(x)-myint,mean(x)+myint,length.out=npoints)\n",
    "new <- data.frame(x=xnew)\n",
    "y1mod <- predict(lm(y ~ x), data.frame(x=xnew), se.fit = TRUE)\n",
    "y1 <- y1mod$fit\n",
    "s <- sample(npoints,3)\n",
    "noise <- rnorm(s,0,(ymax-ymin)/7)\n",
    "y1[s] <- y1[s]+noise\n",
    "df1 <- data.frame(xnew,y1)\n",
    "colnames(df1) <- c(\"x\",\"y\")\n",
    "\n",
    "#plot3\n",
    "#Set3 #1 outlier\n",
    "s <- (2)\n",
    "noise <- rnorm(1,0,(ymax-ymin))\n",
    "y3 <- y1\n",
    "y3[s] <- sum(y1)-sum(y3[-s])\n",
    "y3[s] <- y3[s]+noise\n",
    "df3 <- data.frame(xnew,y3)\n",
    "colnames(df3) <- c(\"x\",\"y\")\n",
    "#\n",
    "    \n",
    "mylist=list(\"df4\"=df,\"df1\"=df1,\"df3\"=df3)\n",
    "return(mylist)\n",
    "}\n",
    "\n",
    "t1 <- multians()\n",
    "t2 <- multians()\n",
    "t3 <- multians(npoints= 21)"
   ]
  },
  {
   "cell_type": "code",
   "execution_count": 24,
   "metadata": {},
   "outputs": [
    {
     "data": {
      "image/png": "[encoded data removed]",
      "text/plain": [
       "plot without title"
      ]
     },
     "metadata": {
      "image/png": {
       "height": 270,
       "width": 534
      },
      "text/plain": {
       "height": 270,
       "width": 534
      }
     },
     "output_type": "display_data"
    },
    {
     "data": {
      "image/png": "[encoded data removed]",
      "text/plain": [
       "plot without title"
      ]
     },
     "metadata": {
      "image/png": {
       "height": 270,
       "width": 534
      },
      "text/plain": {
       "height": 270,
       "width": 534
      }
     },
     "output_type": "display_data"
    }
   ],
   "source": [
    "\n",
    " \n",
    "plotreg(t1$df4)+plotreg(t1$df1)\n",
    "plotreg(t1$df3)+plotreg(t2$df3)\n"
   ]
  },
  {
   "cell_type": "code",
   "execution_count": 25,
   "metadata": {},
   "outputs": [
    {
     "data": {
      "text/plain": [
       "       x                y          \n",
       " Min.   : 1.000   Min.   :-5.0000  \n",
       " 1st Qu.: 1.000   1st Qu.:-2.2222  \n",
       " Median : 1.000   Median : 0.5556  \n",
       " Mean   : 1.818   Mean   : 1.8182  \n",
       " 3rd Qu.: 1.000   3rd Qu.: 3.3333  \n",
       " Max.   :10.000   Max.   :20.0000  "
      ]
     },
     "metadata": {},
     "output_type": "display_data"
    },
    {
     "data": {
      "text/plain": [
       "       x                 y          \n",
       " Min.   :-2.6818   Min.   :-10.278  \n",
       " 1st Qu.:-0.4318   1st Qu.: -3.182  \n",
       " Median : 1.8182   Median :  1.818  \n",
       " Mean   : 1.8182   Mean   :  1.757  \n",
       " 3rd Qu.: 4.0682   3rd Qu.:  6.613  \n",
       " Max.   : 6.3182   Max.   : 13.655  "
      ]
     },
     "metadata": {},
     "output_type": "display_data"
    },
    {
     "data": {
      "text/plain": [
       "       x                 y          \n",
       " Min.   :-2.6818   Min.   :-10.278  \n",
       " 1st Qu.:-0.4318   1st Qu.: -3.182  \n",
       " Median : 1.8182   Median :  1.818  \n",
       " Mean   : 1.8182   Mean   :  2.687  \n",
       " 3rd Qu.: 4.0682   3rd Qu.:  6.613  \n",
       " Max.   : 6.3182   Max.   : 20.049  "
      ]
     },
     "metadata": {},
     "output_type": "display_data"
    },
    {
     "data": {
      "text/plain": [
       "       x                y          \n",
       " Min.   : 1.000   Min.   :-5.0000  \n",
       " 1st Qu.: 1.000   1st Qu.:-2.2222  \n",
       " Median : 1.000   Median : 0.5556  \n",
       " Mean   : 1.818   Mean   : 1.8182  \n",
       " 3rd Qu.: 1.000   3rd Qu.: 3.3333  \n",
       " Max.   :10.000   Max.   :20.0000  "
      ]
     },
     "metadata": {},
     "output_type": "display_data"
    },
    {
     "data": {
      "text/plain": [
       "       x                 y         \n",
       " Min.   :-2.6818   Min.   :-6.293  \n",
       " 1st Qu.:-0.4318   1st Qu.:-3.182  \n",
       " Median : 1.8182   Median : 2.062  \n",
       " Mean   : 1.8182   Mean   : 1.927  \n",
       " 3rd Qu.: 4.0682   3rd Qu.: 6.818  \n",
       " Max.   : 6.3182   Max.   :10.879  "
      ]
     },
     "metadata": {},
     "output_type": "display_data"
    },
    {
     "data": {
      "text/plain": [
       "       x                 y         \n",
       " Min.   :-2.6818   Min.   :-6.293  \n",
       " 1st Qu.:-0.4318   1st Qu.:-3.182  \n",
       " Median : 1.8182   Median : 2.062  \n",
       " Mean   : 1.8182   Mean   : 1.710  \n",
       " 3rd Qu.: 4.0682   3rd Qu.: 6.625  \n",
       " Max.   : 6.3182   Max.   :10.879  "
      ]
     },
     "metadata": {},
     "output_type": "display_data"
    }
   ],
   "source": [
    "\n",
    "summary(t1$df4)\n",
    "summary(t1$df1)\n",
    "summary(t1$df3)\n",
    "\n",
    "summary(t2$df4)\n",
    "summary(t2$df1)\n",
    "summary(t2$df3)"
   ]
  },
  {
   "cell_type": "code",
   "execution_count": 28,
   "metadata": {},
   "outputs": [
    {
     "data": {
      "text/plain": [
       "       x                 y          \n",
       " Min.   :-3.0714   Min.   :-9.0476  \n",
       " 1st Qu.:-0.8214   1st Qu.:-4.0476  \n",
       " Median : 1.4286   Median : 1.9524  \n",
       " Mean   : 1.4286   Mean   : 0.8461  \n",
       " 3rd Qu.: 3.6786   3rd Qu.: 5.1670  \n",
       " Max.   : 5.9286   Max.   :10.9524  "
      ]
     },
     "metadata": {},
     "output_type": "display_data"
    },
    {
     "data": {
      "text/plain": [
       "       x                 y          \n",
       " Min.   :-3.0714   Min.   :-9.0476  \n",
       " 1st Qu.:-0.8214   1st Qu.:-4.0476  \n",
       " Median : 1.4286   Median : 1.9524  \n",
       " Mean   : 1.4286   Mean   : 0.6014  \n",
       " 3rd Qu.: 3.6786   3rd Qu.: 4.9524  \n",
       " Max.   : 5.9286   Max.   :10.9524  "
      ]
     },
     "metadata": {},
     "output_type": "display_data"
    },
    {
     "data": {
      "image/png": "[encoded data removed]",
      "text/plain": [
       "plot without title"
      ]
     },
     "metadata": {
      "image/png": {
       "height": 270,
       "width": 534
      },
      "text/plain": {
       "height": 270,
       "width": 534
      }
     },
     "output_type": "display_data"
    }
   ],
   "source": [
    "plotreg(t3$df1)+plotreg(t3$df3)\n",
    "summary(t3$df1)\n",
    "summary(t3$df3)\n"
   ]
  },
  {
   "cell_type": "code",
   "execution_count": null,
   "metadata": {},
   "outputs": [],
   "source": []
  }
 ],
 "metadata": {
  "kernel_info": {
   "name": "ir"
  },
  "kernelspec": {
   "display_name": "R",
   "language": "R",
   "name": "ir"
  },
  "language_info": {
   "codemirror_mode": "r",
   "file_extension": ".r",
   "mimetype": "text/x-r-source",
   "name": "R",
   "pygments_lexer": "r",
   "version": "4.0.2"
  },
  "nteract": {
   "version": "0.28.0"
  },
  "title": "VegaLite for R"
 },
 "nbformat": 4,
 "nbformat_minor": 4
}
