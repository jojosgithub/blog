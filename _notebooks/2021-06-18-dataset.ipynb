{
 "cells": [
  {
   "cell_type": "markdown",
   "metadata": {},
   "source": [
    "# Simulated Dataset\n",
    "\n",
    "In this notebook you can find code snippets that I always reuse for simulating dataset\n",
    "\n",
    "- toc: true \n",
    "- badges: true\n",
    "- comments: false\n",
    "- categories: [r]\n"
   ]
  },
  {
   "cell_type": "markdown",
   "metadata": {
    "nteract": {
     "transient": {
      "deleting": false
     }
    }
   },
   "source": [
    "*TOC*\n",
    "* writing a function for creating a dataset with a desired number of rows and cols given a mean and an sd (same for all cols)\n",
    "* writing a function for creating a small dataset (n col < 5) with a desired number of rows and cols given a mean and an sd (different for each cols)\n",
    "* writing a function for creating a dataset (n col > 5) with a desired number of rows and cols given a mean and an sd (different for each cols)\n",
    "* writing functions for creating automatic labels for ID and categories"
   ]
  },
  {
   "cell_type": "code",
   "execution_count": 1,
   "metadata": {
    "execution": {
     "iopub.execute_input": "2021-06-07T07:25:04.465Z",
     "iopub.status.busy": "2021-06-07T07:25:04.459Z",
     "iopub.status.idle": "2021-06-07T07:25:05.019Z",
     "shell.execute_reply": "2021-06-07T07:25:05.040Z"
    },
    "jupyter": {
     "outputs_hidden": false,
     "source_hidden": false
    },
    "nteract": {
     "transient": {
      "deleting": false
     }
    }
   },
   "outputs": [
    {
     "data": {
      "text/html": [
       "<table>\n",
       "<caption>A data.frame: 7 × 6</caption>\n",
       "<thead>\n",
       "\t<tr><th scope=col>V1</th><th scope=col>V2</th><th scope=col>V3</th><th scope=col>V4</th><th scope=col>V5</th><th scope=col>V6</th></tr>\n",
       "\t<tr><th scope=col>&lt;dbl&gt;</th><th scope=col>&lt;dbl&gt;</th><th scope=col>&lt;dbl&gt;</th><th scope=col>&lt;dbl&gt;</th><th scope=col>&lt;dbl&gt;</th><th scope=col>&lt;dbl&gt;</th></tr>\n",
       "</thead>\n",
       "<tbody>\n",
       "\t<tr><td>1.8166731</td><td>1.591285</td><td>2.791132</td><td>1.870521</td><td>1.152394</td><td>2.171957</td></tr>\n",
       "\t<tr><td>1.7893052</td><td>2.520669</td><td>2.660691</td><td>3.267868</td><td>1.748584</td><td>1.680790</td></tr>\n",
       "\t<tr><td>1.7679939</td><td>2.567371</td><td>1.817092</td><td>1.692758</td><td>2.386137</td><td>1.225817</td></tr>\n",
       "\t<tr><td>0.7540983</td><td>1.721482</td><td>1.663453</td><td>1.836473</td><td>1.472142</td><td>1.833182</td></tr>\n",
       "\t<tr><td>2.5337442</td><td>1.016417</td><td>2.629636</td><td>1.321766</td><td>2.336993</td><td>1.544400</td></tr>\n",
       "\t<tr><td>1.9064151</td><td>1.989799</td><td>2.237042</td><td>1.594813</td><td>2.561147</td><td>2.068847</td></tr>\n",
       "\t<tr><td>1.9511049</td><td>1.784966</td><td>1.744620</td><td>1.929755</td><td>2.055294</td><td>1.780852</td></tr>\n",
       "</tbody>\n",
       "</table>\n"
      ],
      "text/latex": [
       "A data.frame: 7 × 6\n",
       "\\begin{tabular}{llllll}\n",
       " V1 & V2 & V3 & V4 & V5 & V6\\\\\n",
       " <dbl> & <dbl> & <dbl> & <dbl> & <dbl> & <dbl>\\\\\n",
       "\\hline\n",
       "\t 1.8166731 & 1.591285 & 2.791132 & 1.870521 & 1.152394 & 2.171957\\\\\n",
       "\t 1.7893052 & 2.520669 & 2.660691 & 3.267868 & 1.748584 & 1.680790\\\\\n",
       "\t 1.7679939 & 2.567371 & 1.817092 & 1.692758 & 2.386137 & 1.225817\\\\\n",
       "\t 0.7540983 & 1.721482 & 1.663453 & 1.836473 & 1.472142 & 1.833182\\\\\n",
       "\t 2.5337442 & 1.016417 & 2.629636 & 1.321766 & 2.336993 & 1.544400\\\\\n",
       "\t 1.9064151 & 1.989799 & 2.237042 & 1.594813 & 2.561147 & 2.068847\\\\\n",
       "\t 1.9511049 & 1.784966 & 1.744620 & 1.929755 & 2.055294 & 1.780852\\\\\n",
       "\\end{tabular}\n"
      ],
      "text/markdown": [
       "\n",
       "A data.frame: 7 × 6\n",
       "\n",
       "| V1 &lt;dbl&gt; | V2 &lt;dbl&gt; | V3 &lt;dbl&gt; | V4 &lt;dbl&gt; | V5 &lt;dbl&gt; | V6 &lt;dbl&gt; |\n",
       "|---|---|---|---|---|---|\n",
       "| 1.8166731 | 1.591285 | 2.791132 | 1.870521 | 1.152394 | 2.171957 |\n",
       "| 1.7893052 | 2.520669 | 2.660691 | 3.267868 | 1.748584 | 1.680790 |\n",
       "| 1.7679939 | 2.567371 | 1.817092 | 1.692758 | 2.386137 | 1.225817 |\n",
       "| 0.7540983 | 1.721482 | 1.663453 | 1.836473 | 1.472142 | 1.833182 |\n",
       "| 2.5337442 | 1.016417 | 2.629636 | 1.321766 | 2.336993 | 1.544400 |\n",
       "| 1.9064151 | 1.989799 | 2.237042 | 1.594813 | 2.561147 | 2.068847 |\n",
       "| 1.9511049 | 1.784966 | 1.744620 | 1.929755 | 2.055294 | 1.780852 |\n",
       "\n"
      ],
      "text/plain": [
       "  V1        V2       V3       V4       V5       V6      \n",
       "1 1.8166731 1.591285 2.791132 1.870521 1.152394 2.171957\n",
       "2 1.7893052 2.520669 2.660691 3.267868 1.748584 1.680790\n",
       "3 1.7679939 2.567371 1.817092 1.692758 2.386137 1.225817\n",
       "4 0.7540983 1.721482 1.663453 1.836473 1.472142 1.833182\n",
       "5 2.5337442 1.016417 2.629636 1.321766 2.336993 1.544400\n",
       "6 1.9064151 1.989799 2.237042 1.594813 2.561147 2.068847\n",
       "7 1.9511049 1.784966 1.744620 1.929755 2.055294 1.780852"
      ]
     },
     "metadata": {},
     "output_type": "display_data"
    }
   ],
   "source": [
    "\n",
    "#°+++++++++°+++++++++°+++++++++°+++++++++°+++++++++°+++++++++°+++++++++°\n",
    "#  loading required libraries for this notebook\n",
    "#+++++++°+++++++++°+++++++++°+++++++++°+++++++++°+++++++++°+++++++++°+++++++++°\n",
    "\n",
    "#loading libraries\n",
    "\n",
    "library(ggplot2)\n",
    "library(gridExtra)\n",
    "library(data.table)\n",
    "\n",
    "#+++++++°+++++++++°+++++++++°+++++++++°+++++++++°+++++++++°+++++++++°+++++++++°\n",
    "#  Example 1 a very simple test dataset\n",
    "#+++++++°+++++++++°+++++++++°+++++++++°+++++++++°+++++++++°+++++++++°+++++++++°\n",
    "# we are creating a dataframe from a matrix obtained replicating x \n",
    "# the desired number_of_cols a vector of length number_of_rows from \n",
    "# a normal distribution rnorm with a mean of my mean and standard deviation as sd\n",
    "\n",
    "number_of_rows <- 7\n",
    "number_of_cols <- 6\n",
    "my_mean <- 2\n",
    "my_sd <- 0.5\n",
    "\n",
    "newdat <-  as.data.frame( \n",
    "           replicate(\n",
    "           number_of_cols,\n",
    "           rnorm(n = number_of_rows, mean = my_mean, sd = my_sd ))\n",
    "           )\n",
    "\n",
    "\n",
    "\n",
    "#in order to print a fancy table\n",
    "newdat\n"
   ]
  },
  {
   "cell_type": "markdown",
   "metadata": {},
   "source": [
    "*note about code:* we create a `data.frame` using `replicate` to  replicate a serie of vectors with normal distributions generated with `rnorm`"
   ]
  },
  {
   "cell_type": "markdown",
   "metadata": {
    "nteract": {
     "transient": {
      "deleting": false
     }
    }
   },
   "source": [
    "-  Code for creating small (n col < 5) dataset.\n",
    "Each column has its own mean and sd. \n",
    "In the example reported we have n = 3  (A, B, C)\n",
    "with n row = 50. means are 100,110,120 and sd 1,2,3\n"
   ]
  },
  {
   "cell_type": "code",
   "execution_count": 2,
   "metadata": {
    "execution": {
     "iopub.execute_input": "2021-06-07T07:25:05.049Z",
     "iopub.status.busy": "2021-06-07T07:25:05.027Z",
     "iopub.status.idle": "2021-06-07T07:25:05.089Z",
     "shell.execute_reply": "2021-06-07T07:25:05.117Z"
    },
    "jupyter": {
     "outputs_hidden": false,
     "source_hidden": false
    },
    "nteract": {
     "transient": {
      "deleting": false
     }
    }
   },
   "outputs": [
    {
     "data": {
      "text/html": [
       "<table>\n",
       "<caption>A data.frame: 5 × 3</caption>\n",
       "<thead>\n",
       "\t<tr><th scope=col>A</th><th scope=col>B</th><th scope=col>C</th></tr>\n",
       "\t<tr><th scope=col>&lt;dbl&gt;</th><th scope=col>&lt;dbl&gt;</th><th scope=col>&lt;dbl&gt;</th></tr>\n",
       "</thead>\n",
       "<tbody>\n",
       "\t<tr><td> 99.37304</td><td>114.1706</td><td>121.2134</td></tr>\n",
       "\t<tr><td>100.82189</td><td>106.1683</td><td>120.7714</td></tr>\n",
       "\t<tr><td> 98.49317</td><td>108.5022</td><td>119.1260</td></tr>\n",
       "\t<tr><td>101.78762</td><td>110.6774</td><td>115.1857</td></tr>\n",
       "\t<tr><td>101.42265</td><td>103.3642</td><td>117.4354</td></tr>\n",
       "</tbody>\n",
       "</table>\n"
      ],
      "text/latex": [
       "A data.frame: 5 × 3\n",
       "\\begin{tabular}{lll}\n",
       " A & B & C\\\\\n",
       " <dbl> & <dbl> & <dbl>\\\\\n",
       "\\hline\n",
       "\t  99.37304 & 114.1706 & 121.2134\\\\\n",
       "\t 100.82189 & 106.1683 & 120.7714\\\\\n",
       "\t  98.49317 & 108.5022 & 119.1260\\\\\n",
       "\t 101.78762 & 110.6774 & 115.1857\\\\\n",
       "\t 101.42265 & 103.3642 & 117.4354\\\\\n",
       "\\end{tabular}\n"
      ],
      "text/markdown": [
       "\n",
       "A data.frame: 5 × 3\n",
       "\n",
       "| A &lt;dbl&gt; | B &lt;dbl&gt; | C &lt;dbl&gt; |\n",
       "|---|---|---|\n",
       "|  99.37304 | 114.1706 | 121.2134 |\n",
       "| 100.82189 | 106.1683 | 120.7714 |\n",
       "|  98.49317 | 108.5022 | 119.1260 |\n",
       "| 101.78762 | 110.6774 | 115.1857 |\n",
       "| 101.42265 | 103.3642 | 117.4354 |\n",
       "\n"
      ],
      "text/plain": [
       "  A         B        C       \n",
       "1  99.37304 114.1706 121.2134\n",
       "2 100.82189 106.1683 120.7714\n",
       "3  98.49317 108.5022 119.1260\n",
       "4 101.78762 110.6774 115.1857\n",
       "5 101.42265 103.3642 117.4354"
      ]
     },
     "metadata": {},
     "output_type": "display_data"
    }
   ],
   "source": [
    "\n",
    "#+++++++°+++++++++°+++++++++°+++++++++°+++++++++°+++++++++°+++++++++°+++++++++°\n",
    "#  Ex 2 Another way for a simple dataset\n",
    "#+++++++°+++++++++°+++++++++°+++++++++°+++++++++°+++++++++°+++++++++°+++++++++°\n",
    "\n",
    "#in order to obtain ALWAYS same \"random\" results REMEMBER TO initialize the seed \n",
    "#set.seed(42) \n",
    "\n",
    "number_of_rows <- 5\n",
    "A <- rnorm( n=number_of_rows, mean=100, sd=1 ) \n",
    "B <- rnorm( n=number_of_rows, mean=110, sd=2 ) \n",
    "C <- rnorm( n=number_of_rows, mean=120, sd=2 ) \n",
    "\n",
    "dat=data.frame(A,B,C) \n",
    "\n",
    "dat\n",
    "\n"
   ]
  },
  {
   "cell_type": "markdown",
   "metadata": {
    "nteract": {
     "transient": {
      "deleting": false
     }
    }
   },
   "source": [
    "- same as the one above but more useful for dataset with i columns n col > 5"
   ]
  },
  {
   "cell_type": "code",
   "execution_count": 3,
   "metadata": {
    "execution": {
     "iopub.execute_input": "2021-06-07T07:25:05.100Z",
     "iopub.status.busy": "2021-06-07T07:25:05.096Z",
     "iopub.status.idle": "2021-06-07T07:25:05.140Z",
     "shell.execute_reply": "2021-06-07T07:25:05.170Z"
    },
    "jupyter": {
     "outputs_hidden": false,
     "source_hidden": false
    },
    "nteract": {
     "transient": {
      "deleting": false
     }
    }
   },
   "outputs": [
    {
     "data": {
      "text/html": [
       "<table>\n",
       "<caption>A data.frame: 3 × 4</caption>\n",
       "<thead>\n",
       "\t<tr><th scope=col>CCD</th><th scope=col>DJH</th><th scope=col>HHH</th><th scope=col>JFD</th></tr>\n",
       "\t<tr><th scope=col>&lt;dbl&gt;</th><th scope=col>&lt;dbl&gt;</th><th scope=col>&lt;dbl&gt;</th><th scope=col>&lt;dbl&gt;</th></tr>\n",
       "</thead>\n",
       "<tbody>\n",
       "\t<tr><td> 97.88498</td><td>119.5026</td><td> 45.92577</td><td>142.0278</td></tr>\n",
       "\t<tr><td>110.03806</td><td>157.6695</td><td>176.53169</td><td>140.7523</td></tr>\n",
       "\t<tr><td>103.59204</td><td>114.9973</td><td>121.65529</td><td>149.3127</td></tr>\n",
       "</tbody>\n",
       "</table>\n"
      ],
      "text/latex": [
       "A data.frame: 3 × 4\n",
       "\\begin{tabular}{llll}\n",
       " CCD & DJH & HHH & JFD\\\\\n",
       " <dbl> & <dbl> & <dbl> & <dbl>\\\\\n",
       "\\hline\n",
       "\t  97.88498 & 119.5026 &  45.92577 & 142.0278\\\\\n",
       "\t 110.03806 & 157.6695 & 176.53169 & 140.7523\\\\\n",
       "\t 103.59204 & 114.9973 & 121.65529 & 149.3127\\\\\n",
       "\\end{tabular}\n"
      ],
      "text/markdown": [
       "\n",
       "A data.frame: 3 × 4\n",
       "\n",
       "| CCD &lt;dbl&gt; | DJH &lt;dbl&gt; | HHH &lt;dbl&gt; | JFD &lt;dbl&gt; |\n",
       "|---|---|---|---|\n",
       "|  97.88498 | 119.5026 |  45.92577 | 142.0278 |\n",
       "| 110.03806 | 157.6695 | 176.53169 | 140.7523 |\n",
       "| 103.59204 | 114.9973 | 121.65529 | 149.3127 |\n",
       "\n"
      ],
      "text/plain": [
       "  CCD       DJH      HHH       JFD     \n",
       "1  97.88498 119.5026  45.92577 142.0278\n",
       "2 110.03806 157.6695 176.53169 140.7523\n",
       "3 103.59204 114.9973 121.65529 149.3127"
      ]
     },
     "metadata": {},
     "output_type": "display_data"
    }
   ],
   "source": [
    "\n",
    "#+++++++°+++++++++°+++++++++°+++++++++°+++++++++°+++++++++°+++++++++°+++++++++°\n",
    "#  Ex 3 recipes for adding labels\n",
    "#+++++++°+++++++++°+++++++++°+++++++++°+++++++++°+++++++++°+++++++++°+++++++++°\n",
    "\n",
    "number_of_rows = 3\n",
    "means=c(100, 120, 130, 145)\n",
    "sds=c(10 ,20 ,40 ,10)\n",
    "\n",
    "dat <- lapply(\n",
    "       seq(1,length(means)) ,\n",
    "       function(x) rnorm(number_of_rows,m = means[x], sds[x])\n",
    "       )\n",
    "dat <- as.data.frame(do.call(cbind, dat))\n",
    " \n",
    "names_length = 3\n",
    "dictionary_size <- 10\n",
    "my_labels <- sort(\n",
    "            replicate(\n",
    "            length(means),\n",
    "            paste(sample(LETTERS[1:dictionary_size],\n",
    "            names_length,\n",
    "            replace = TRUE),\n",
    "            collapse=\"\")\n",
    "            )\n",
    "            )\n",
    "my_labels <- unlist(strsplit(my_labels,\" \"))  \n",
    "colnames(dat) <- my_labels\n",
    "\n",
    "dat"
   ]
  },
  {
   "cell_type": "markdown",
   "metadata": {
    "nteract": {
     "transient": {
      "deleting": false
     }
    }
   },
   "source": [
    "- Same as above but shorter "
   ]
  },
  {
   "cell_type": "code",
   "execution_count": 4,
   "metadata": {
    "execution": {
     "iopub.execute_input": "2021-06-07T07:25:05.154Z",
     "iopub.status.busy": "2021-06-07T07:25:05.149Z",
     "iopub.status.idle": "2021-06-07T07:25:05.203Z",
     "shell.execute_reply": "2021-06-07T07:25:05.193Z"
    },
    "jupyter": {
     "outputs_hidden": false,
     "source_hidden": false
    },
    "nteract": {
     "transient": {
      "deleting": false
     }
    }
   },
   "outputs": [],
   "source": [
    "\n",
    "#+++++++°+++++++++°+++++++++°+++++++++°+++++++++°+++++++++°+++++++++°+++++++++°\n",
    "#  Ex 4 a variation on recipe 2 \n",
    "#+++++++°+++++++++°+++++++++°+++++++++°+++++++++°+++++++++°+++++++++°+++++++++°\n",
    "\n",
    "# building a function for generating data with custom number of rows, means and sds\n",
    "\n",
    "simpleDataset <- function(number_of_rows,means,sds)\n",
    "{\n",
    "l <- length(means)\n",
    "res <- lapply(seq(1:l),function(x) \n",
    "\t   eval(\n",
    "\t   parse(text=paste(\"rnorm(\",number_of_rows,\",\",means[x],\",\",sds[x],\")\",sep=\"\")))\n",
    "\t   ) \n",
    "dat <- data.frame((sapply(res,c)))\n",
    "id <- rownames(dat)\n",
    "dat <-  cbind(id=id,dat)\n",
    "dt <- data.table(dat)\n",
    "return(dt)\n",
    "}\n",
    "\n",
    "\n",
    "dat1 <- simpleDataset(number_of_rows=30,\n",
    "\t\t\t\t\t  means=c(180,200,205),\n",
    "\t\t\t\t      sds=c(30,20,25))\n",
    "\t\t\t\t  \n",
    "dat2 <- simpleDataset(number_of_rows=30,\n",
    "\t\t\t\t\t  means=c(45,50,35),\n",
    "\t\t\t\t      sds=c(2,10,5))\n",
    "\t\t\t\t\t  \n",
    "dat <-  rbind(dat1,dat2)\n",
    "# rearranging table using melt from data.table \n",
    "dt.melt <- melt(dat, id.vars=\"id\")\n",
    "colnames(dt.melt) <- c(\"id\",\"category\",\"var1\")\n"
   ]
  },
  {
   "cell_type": "markdown",
   "metadata": {
    "nteract": {
     "transient": {
      "deleting": false
     }
    }
   },
   "source": [
    "- to create sample names or labels (see https://stackoverflow.com/a/60789938/6483091)\n"
   ]
  },
  {
   "cell_type": "markdown",
   "metadata": {},
   "source": [
    "*note on the code*: the core line is `parse(text=paste(\"rnorm(\",number_of_rows,\",\",means[x],\",\",sds[x],\")\",sep=\"\")))` where we use `parse` inside the `lapply`"
   ]
  },
  {
   "cell_type": "code",
   "execution_count": 5,
   "metadata": {
    "execution": {
     "iopub.execute_input": "2021-06-07T07:25:05.218Z",
     "iopub.status.busy": "2021-06-07T07:25:05.212Z",
     "iopub.status.idle": "2021-06-07T07:25:05.260Z",
     "shell.execute_reply": "2021-06-07T07:25:05.278Z"
    },
    "jupyter": {
     "outputs_hidden": false,
     "source_hidden": false
    },
    "nteract": {
     "transient": {
      "deleting": false
     }
    }
   },
   "outputs": [
    {
     "data": {
      "text/html": [
       "<style>\n",
       ".list-inline {list-style: none; margin:0; padding: 0}\n",
       ".list-inline>li {display: inline-block}\n",
       ".list-inline>li:not(:last-child)::after {content: \"\\00b7\"; padding: 0 .5ex}\n",
       "</style>\n",
       "<ol class=list-inline><li>'a'</li><li>'b'</li><li>'c'</li><li>'d'</li><li>'e'</li></ol>\n"
      ],
      "text/latex": [
       "\\begin{enumerate*}\n",
       "\\item 'a'\n",
       "\\item 'b'\n",
       "\\item 'c'\n",
       "\\item 'd'\n",
       "\\item 'e'\n",
       "\\end{enumerate*}\n"
      ],
      "text/markdown": [
       "1. 'a'\n",
       "2. 'b'\n",
       "3. 'c'\n",
       "4. 'd'\n",
       "5. 'e'\n",
       "\n",
       "\n"
      ],
      "text/plain": [
       "[1] \"a\" \"b\" \"c\" \"d\" \"e\""
      ]
     },
     "metadata": {},
     "output_type": "display_data"
    },
    {
     "data": {
      "text/html": [
       "<style>\n",
       ".list-inline {list-style: none; margin:0; padding: 0}\n",
       ".list-inline>li {display: inline-block}\n",
       ".list-inline>li:not(:last-child)::after {content: \"\\00b7\"; padding: 0 .5ex}\n",
       "</style>\n",
       "<ol class=list-inline><li>'A'</li><li>'B'</li><li>'C'</li><li>'D'</li><li>'E'</li></ol>\n"
      ],
      "text/latex": [
       "\\begin{enumerate*}\n",
       "\\item 'A'\n",
       "\\item 'B'\n",
       "\\item 'C'\n",
       "\\item 'D'\n",
       "\\item 'E'\n",
       "\\end{enumerate*}\n"
      ],
      "text/markdown": [
       "1. 'A'\n",
       "2. 'B'\n",
       "3. 'C'\n",
       "4. 'D'\n",
       "5. 'E'\n",
       "\n",
       "\n"
      ],
      "text/plain": [
       "[1] \"A\" \"B\" \"C\" \"D\" \"E\""
      ]
     },
     "metadata": {},
     "output_type": "display_data"
    },
    {
     "data": {
      "text/html": [
       "<style>\n",
       ".list-inline {list-style: none; margin:0; padding: 0}\n",
       ".list-inline>li {display: inline-block}\n",
       ".list-inline>li:not(:last-child)::after {content: \"\\00b7\"; padding: 0 .5ex}\n",
       "</style>\n",
       "<ol class=list-inline><li>'FFGEA'</li><li>'EABBB'</li><li>'GFFBG'</li></ol>\n"
      ],
      "text/latex": [
       "\\begin{enumerate*}\n",
       "\\item 'FFGEA'\n",
       "\\item 'EABBB'\n",
       "\\item 'GFFBG'\n",
       "\\end{enumerate*}\n"
      ],
      "text/markdown": [
       "1. 'FFGEA'\n",
       "2. 'EABBB'\n",
       "3. 'GFFBG'\n",
       "\n",
       "\n"
      ],
      "text/plain": [
       "[1] \"FFGEA\" \"EABBB\" \"GFFBG\""
      ]
     },
     "metadata": {},
     "output_type": "display_data"
    },
    {
     "data": {
      "text/html": [
       "<style>\n",
       ".list-inline {list-style: none; margin:0; padding: 0}\n",
       ".list-inline>li {display: inline-block}\n",
       ".list-inline>li:not(:last-child)::after {content: \"\\00b7\"; padding: 0 .5ex}\n",
       "</style>\n",
       "<ol class=list-inline><li>'CEDCA'</li><li>'EEADD'</li><li>'FBCDA'</li></ol>\n"
      ],
      "text/latex": [
       "\\begin{enumerate*}\n",
       "\\item 'CEDCA'\n",
       "\\item 'EEADD'\n",
       "\\item 'FBCDA'\n",
       "\\end{enumerate*}\n"
      ],
      "text/markdown": [
       "1. 'CEDCA'\n",
       "2. 'EEADD'\n",
       "3. 'FBCDA'\n",
       "\n",
       "\n"
      ],
      "text/plain": [
       "[1] \"CEDCA\" \"EEADD\" \"FBCDA\""
      ]
     },
     "metadata": {},
     "output_type": "display_data"
    },
    {
     "data": {
      "text/html": [
       "<style>\n",
       ".list-inline {list-style: none; margin:0; padding: 0}\n",
       ".list-inline>li {display: inline-block}\n",
       ".list-inline>li:not(:last-child)::after {content: \"\\00b7\"; padding: 0 .5ex}\n",
       "</style>\n",
       "<ol class=list-inline><li>'A-1'</li><li>'A-2'</li><li>'A-3'</li><li>'B-1'</li><li>'B-2'</li><li>'B-3'</li><li>'C-1'</li><li>'C-2'</li><li>'C-3'</li><li>'D-1'</li><li>'D-2'</li><li>'D-3'</li><li>'E-1'</li><li>'E-2'</li><li>'E-3'</li><li>'F-1'</li><li>'F-2'</li><li>'F-3'</li><li>'G-1'</li><li>'G-2'</li><li>'G-3'</li></ol>\n"
      ],
      "text/latex": [
       "\\begin{enumerate*}\n",
       "\\item 'A-1'\n",
       "\\item 'A-2'\n",
       "\\item 'A-3'\n",
       "\\item 'B-1'\n",
       "\\item 'B-2'\n",
       "\\item 'B-3'\n",
       "\\item 'C-1'\n",
       "\\item 'C-2'\n",
       "\\item 'C-3'\n",
       "\\item 'D-1'\n",
       "\\item 'D-2'\n",
       "\\item 'D-3'\n",
       "\\item 'E-1'\n",
       "\\item 'E-2'\n",
       "\\item 'E-3'\n",
       "\\item 'F-1'\n",
       "\\item 'F-2'\n",
       "\\item 'F-3'\n",
       "\\item 'G-1'\n",
       "\\item 'G-2'\n",
       "\\item 'G-3'\n",
       "\\end{enumerate*}\n"
      ],
      "text/markdown": [
       "1. 'A-1'\n",
       "2. 'A-2'\n",
       "3. 'A-3'\n",
       "4. 'B-1'\n",
       "5. 'B-2'\n",
       "6. 'B-3'\n",
       "7. 'C-1'\n",
       "8. 'C-2'\n",
       "9. 'C-3'\n",
       "10. 'D-1'\n",
       "11. 'D-2'\n",
       "12. 'D-3'\n",
       "13. 'E-1'\n",
       "14. 'E-2'\n",
       "15. 'E-3'\n",
       "16. 'F-1'\n",
       "17. 'F-2'\n",
       "18. 'F-3'\n",
       "19. 'G-1'\n",
       "20. 'G-2'\n",
       "21. 'G-3'\n",
       "\n",
       "\n"
      ],
      "text/plain": [
       " [1] \"A-1\" \"A-2\" \"A-3\" \"B-1\" \"B-2\" \"B-3\" \"C-1\" \"C-2\" \"C-3\" \"D-1\" \"D-2\" \"D-3\"\n",
       "[13] \"E-1\" \"E-2\" \"E-3\" \"F-1\" \"F-2\" \"F-3\" \"G-1\" \"G-2\" \"G-3\""
      ]
     },
     "metadata": {},
     "output_type": "display_data"
    }
   ],
   "source": [
    "\n",
    "#+++++++°+++++++++°+++++++++°+++++++++°+++++++++°+++++++++°+++++++++°+++++++++°\n",
    "#  More recipes for labelling\n",
    "#+++++++°+++++++++°+++++++++°+++++++++°+++++++++°+++++++++°+++++++++°+++++++++°\n",
    "\n",
    "#short names\n",
    "my_labels <- letters[1:5]\n",
    "my_labels\n",
    "# or <- \n",
    "my_labels <- LETTERS[1:5]\n",
    "my_labels\n",
    "# or arbitrary number of letters using roman letters as in the \n",
    "#function \n",
    "# letters() or LETTERS()\n",
    "\n",
    "dictionary_size <- 7\n",
    "label_length <- 5 \n",
    "n_replicates <- 3\n",
    "\n",
    "#random\n",
    "\n",
    "my_labels <- replicate(\n",
    "             n_replicates,\n",
    "             paste(sample(LETTERS[1:dictionary_size],\n",
    "             label_length,\n",
    "             replace = TRUE),\n",
    "             collapse=\"\")\n",
    "             )\n",
    "my_labels\n",
    "\n",
    "#sorted\n",
    "\n",
    "my_labels_sorted <- sort(replicate(\n",
    "                    n_replicates, \n",
    "                    paste\n",
    "                    (sample(LETTERS[1:dictionary_size],\n",
    "                     label_length,\n",
    "                     replace = TRUE),\n",
    "                     collapse=\"\")\n",
    "                    )\n",
    "                    )\n",
    "my_labels_sorted\n",
    "#if you want to mix letters and numbers\n",
    "\n",
    "alfanum_labels <- paste0(rep(LETTERS[1:dictionary_size],\n",
    "                             each = n_replicates),\n",
    "                             sep = \"-\",\n",
    "                             1:n_replicates)\n",
    "alfanum_labels"
   ]
  }
 ],
 "metadata": {
  "kernel_info": {
   "name": "ir"
  },
  "kernelspec": {
   "display_name": "R",
   "language": "R",
   "name": "ir"
  },
  "language_info": {
   "codemirror_mode": "r",
   "file_extension": ".r",
   "mimetype": "text/x-r-source",
   "name": "R",
   "pygments_lexer": "r",
   "version": "4.0.2"
  },
  "nteract": {
   "version": "0.28.0"
  },
  "title": "VegaLite for R"
 },
 "nbformat": 4,
 "nbformat_minor": 4
}
