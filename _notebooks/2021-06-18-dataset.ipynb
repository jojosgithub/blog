{
  "cells": [
    {
      "cell_type": "markdown",
      "source": [
        "# Simulated Dataset\n",
        "\n",
        "In this notebook you can find code snippets that I always reuse for simulating dataset\n",
        "\n",
        "- toc: true \n",
        "- badges: true\n",
        "- comments: false\n",
        "- categories: [r]\n"
      ],
      "metadata": {}
    },
    {
      "cell_type": "markdown",
      "source": [
        "*TOC*\n",
        "* writing a function for creating a dataset with a desired number of rows and cols given a mean and an sd (same for all cols)\n",
        "* writing a function for creating a small dataset (n col < 5) with a desired number of rows and cols given a mean and an sd (different for each cols)\n",
        "* writing a function for creating a dataset (n col > 5) with a desired number of rows and cols given a mean and an sd (different for each cols)\n",
        "* writing functions for creating automatic labels for ID and categories"
      ],
      "metadata": {
        "nteract": {
          "transient": {
            "deleting": false
          }
        }
      }
    },
    {
      "cell_type": "code",
      "source": [
        "\n",
        "#°+++++++++°+++++++++°+++++++++°+++++++++°+++++++++°+++++++++°+++++++++°\n",
        "#  loading required libraries for this notebook\n",
        "#+++++++°+++++++++°+++++++++°+++++++++°+++++++++°+++++++++°+++++++++°+++++++++°\n",
        "\n",
        "#loading libraries\n",
        "\n",
        "library(ggplot2)\n",
        "library(gridExtra)\n",
        "library(data.table)\n",
        "\n",
        "#+++++++°+++++++++°+++++++++°+++++++++°+++++++++°+++++++++°+++++++++°+++++++++°\n",
        "#  Example 1 a very simple test dataset\n",
        "#+++++++°+++++++++°+++++++++°+++++++++°+++++++++°+++++++++°+++++++++°+++++++++°\n",
        "# we are creating a dataframe from a matrix obtained replicating x \n",
        "# the desired number_of_cols a vector of length number_of_rows from \n",
        "# a normal distribution rnorm with a mean of my mean and standard deviation as sd\n",
        "\n",
        "number_of_rows <- 7\n",
        "number_of_cols <- 6\n",
        "my_mean <- 2\n",
        "my_sd <- 0.5\n",
        "\n",
        "newdat <-  as.data.frame( \n",
        "           replicate(\n",
        "           number_of_cols,\n",
        "           rnorm(n = number_of_rows, mean = my_mean, sd = my_sd ))\n",
        "           )\n",
        "\n",
        "\n",
        "\n",
        "#in order to print a fancy table\n",
        "newdat\n"
      ],
      "outputs": [
        {
          "output_type": "display_data",
          "data": {
            "text/html": "<table>\n<caption>A data.frame: 7 × 6</caption>\n<thead>\n\t<tr><th scope=col>V1</th><th scope=col>V2</th><th scope=col>V3</th><th scope=col>V4</th><th scope=col>V5</th><th scope=col>V6</th></tr>\n\t<tr><th scope=col>&lt;dbl&gt;</th><th scope=col>&lt;dbl&gt;</th><th scope=col>&lt;dbl&gt;</th><th scope=col>&lt;dbl&gt;</th><th scope=col>&lt;dbl&gt;</th><th scope=col>&lt;dbl&gt;</th></tr>\n</thead>\n<tbody>\n\t<tr><td>2.166144</td><td>2.234508</td><td>1.626651</td><td>1.628226</td><td>1.8127086</td><td>1.527190</td></tr>\n\t<tr><td>1.775968</td><td>2.038753</td><td>1.992165</td><td>2.595088</td><td>1.2067000</td><td>2.231039</td></tr>\n\t<tr><td>3.054668</td><td>2.092037</td><td>2.260662</td><td>1.963266</td><td>1.8069252</td><td>1.650384</td></tr>\n\t<tr><td>1.590842</td><td>1.575725</td><td>2.410852</td><td>1.303806</td><td>0.9177386</td><td>2.084656</td></tr>\n\t<tr><td>1.796939</td><td>1.845413</td><td>1.838408</td><td>1.938406</td><td>2.1200911</td><td>2.051055</td></tr>\n\t<tr><td>2.151737</td><td>2.221940</td><td>2.099623</td><td>1.985790</td><td>1.7742916</td><td>2.657077</td></tr>\n\t<tr><td>1.896525</td><td>1.808077</td><td>1.279979</td><td>2.216669</td><td>1.7692324</td><td>2.933211</td></tr>\n</tbody>\n</table>\n",
            "text/markdown": "\nA data.frame: 7 × 6\n\n| V1 &lt;dbl&gt; | V2 &lt;dbl&gt; | V3 &lt;dbl&gt; | V4 &lt;dbl&gt; | V5 &lt;dbl&gt; | V6 &lt;dbl&gt; |\n|---|---|---|---|---|---|\n| 2.166144 | 2.234508 | 1.626651 | 1.628226 | 1.8127086 | 1.527190 |\n| 1.775968 | 2.038753 | 1.992165 | 2.595088 | 1.2067000 | 2.231039 |\n| 3.054668 | 2.092037 | 2.260662 | 1.963266 | 1.8069252 | 1.650384 |\n| 1.590842 | 1.575725 | 2.410852 | 1.303806 | 0.9177386 | 2.084656 |\n| 1.796939 | 1.845413 | 1.838408 | 1.938406 | 2.1200911 | 2.051055 |\n| 2.151737 | 2.221940 | 2.099623 | 1.985790 | 1.7742916 | 2.657077 |\n| 1.896525 | 1.808077 | 1.279979 | 2.216669 | 1.7692324 | 2.933211 |\n\n",
            "text/latex": "A data.frame: 7 × 6\n\\begin{tabular}{llllll}\n V1 & V2 & V3 & V4 & V5 & V6\\\\\n <dbl> & <dbl> & <dbl> & <dbl> & <dbl> & <dbl>\\\\\n\\hline\n\t 2.166144 & 2.234508 & 1.626651 & 1.628226 & 1.8127086 & 1.527190\\\\\n\t 1.775968 & 2.038753 & 1.992165 & 2.595088 & 1.2067000 & 2.231039\\\\\n\t 3.054668 & 2.092037 & 2.260662 & 1.963266 & 1.8069252 & 1.650384\\\\\n\t 1.590842 & 1.575725 & 2.410852 & 1.303806 & 0.9177386 & 2.084656\\\\\n\t 1.796939 & 1.845413 & 1.838408 & 1.938406 & 2.1200911 & 2.051055\\\\\n\t 2.151737 & 2.221940 & 2.099623 & 1.985790 & 1.7742916 & 2.657077\\\\\n\t 1.896525 & 1.808077 & 1.279979 & 2.216669 & 1.7692324 & 2.933211\\\\\n\\end{tabular}\n",
            "text/plain": "  V1       V2       V3       V4       V5        V6      \n1 2.166144 2.234508 1.626651 1.628226 1.8127086 1.527190\n2 1.775968 2.038753 1.992165 2.595088 1.2067000 2.231039\n3 3.054668 2.092037 2.260662 1.963266 1.8069252 1.650384\n4 1.590842 1.575725 2.410852 1.303806 0.9177386 2.084656\n5 1.796939 1.845413 1.838408 1.938406 2.1200911 2.051055\n6 2.151737 2.221940 2.099623 1.985790 1.7742916 2.657077\n7 1.896525 1.808077 1.279979 2.216669 1.7692324 2.933211"
          },
          "metadata": {}
        }
      ],
      "execution_count": 1,
      "metadata": {
        "execution": {
          "iopub.execute_input": "2021-06-19T15:02:57.515Z",
          "iopub.status.busy": "2021-06-19T15:02:57.508Z",
          "iopub.status.idle": "2021-06-19T15:02:58.041Z",
          "shell.execute_reply": "2021-06-19T15:02:58.071Z"
        },
        "jupyter": {
          "outputs_hidden": false,
          "source_hidden": false
        },
        "nteract": {
          "transient": {
            "deleting": false
          }
        }
      }
    },
    {
      "cell_type": "markdown",
      "source": [
        "*note about code:* we create a `data.frame` using `replicate` to  replicate a serie of vectors with normal distributions generated with `rnorm`"
      ],
      "metadata": {}
    },
    {
      "cell_type": "markdown",
      "source": [
        "-  Code for creating small (n col < 5) dataset.\n",
        "Each column has its own mean and sd. \n",
        "In the example reported we have n = 3  (A, B, C)\n",
        "with n row = 50. means are 100,110,120 and sd 1,2,3\n"
      ],
      "metadata": {
        "nteract": {
          "transient": {
            "deleting": false
          }
        }
      }
    },
    {
      "cell_type": "code",
      "source": [
        "\n",
        "#+++++++°+++++++++°+++++++++°+++++++++°+++++++++°+++++++++°+++++++++°+++++++++°\n",
        "#  Ex 2 Another way for a simple dataset\n",
        "#+++++++°+++++++++°+++++++++°+++++++++°+++++++++°+++++++++°+++++++++°+++++++++°\n",
        "\n",
        "#in order to obtain ALWAYS same \"random\" results REMEMBER TO initialize the seed \n",
        "#set.seed(42) \n",
        "\n",
        "number_of_rows <- 5\n",
        "A <- rnorm( n=number_of_rows, mean=100, sd=1 ) \n",
        "B <- rnorm( n=number_of_rows, mean=110, sd=2 ) \n",
        "C <- rnorm( n=number_of_rows, mean=120, sd=2 ) \n",
        "\n",
        "dat=data.frame(A,B,C) \n",
        "\n",
        "dat\n",
        "\n"
      ],
      "outputs": [
        {
          "output_type": "display_data",
          "data": {
            "text/html": "<table>\n<caption>A data.frame: 5 × 3</caption>\n<thead>\n\t<tr><th scope=col>A</th><th scope=col>B</th><th scope=col>C</th></tr>\n\t<tr><th scope=col>&lt;dbl&gt;</th><th scope=col>&lt;dbl&gt;</th><th scope=col>&lt;dbl&gt;</th></tr>\n</thead>\n<tbody>\n\t<tr><td> 99.46789</td><td>105.4446</td><td>120.8604</td></tr>\n\t<tr><td> 99.59229</td><td>109.9107</td><td>120.2226</td></tr>\n\t<tr><td> 98.89571</td><td>113.7015</td><td>121.1714</td></tr>\n\t<tr><td> 99.85707</td><td>108.1090</td><td>117.6852</td></tr>\n\t<tr><td>101.72180</td><td>107.9054</td><td>115.4649</td></tr>\n</tbody>\n</table>\n",
            "text/markdown": "\nA data.frame: 5 × 3\n\n| A &lt;dbl&gt; | B &lt;dbl&gt; | C &lt;dbl&gt; |\n|---|---|---|\n|  99.46789 | 105.4446 | 120.8604 |\n|  99.59229 | 109.9107 | 120.2226 |\n|  98.89571 | 113.7015 | 121.1714 |\n|  99.85707 | 108.1090 | 117.6852 |\n| 101.72180 | 107.9054 | 115.4649 |\n\n",
            "text/latex": "A data.frame: 5 × 3\n\\begin{tabular}{lll}\n A & B & C\\\\\n <dbl> & <dbl> & <dbl>\\\\\n\\hline\n\t  99.46789 & 105.4446 & 120.8604\\\\\n\t  99.59229 & 109.9107 & 120.2226\\\\\n\t  98.89571 & 113.7015 & 121.1714\\\\\n\t  99.85707 & 108.1090 & 117.6852\\\\\n\t 101.72180 & 107.9054 & 115.4649\\\\\n\\end{tabular}\n",
            "text/plain": "  A         B        C       \n1  99.46789 105.4446 120.8604\n2  99.59229 109.9107 120.2226\n3  98.89571 113.7015 121.1714\n4  99.85707 108.1090 117.6852\n5 101.72180 107.9054 115.4649"
          },
          "metadata": {}
        }
      ],
      "execution_count": 2,
      "metadata": {
        "execution": {
          "iopub.execute_input": "2021-06-19T15:02:58.056Z",
          "iopub.status.busy": "2021-06-19T15:02:58.051Z",
          "iopub.status.idle": "2021-06-19T15:02:58.098Z",
          "shell.execute_reply": "2021-06-19T15:02:58.132Z"
        },
        "jupyter": {
          "outputs_hidden": false,
          "source_hidden": false
        },
        "nteract": {
          "transient": {
            "deleting": false
          }
        }
      }
    },
    {
      "cell_type": "markdown",
      "source": [
        "- same as the one above but more useful for dataset with i columns n col > 5"
      ],
      "metadata": {
        "nteract": {
          "transient": {
            "deleting": false
          }
        }
      }
    },
    {
      "cell_type": "code",
      "source": [
        "\n",
        "#+++++++°+++++++++°+++++++++°+++++++++°+++++++++°+++++++++°+++++++++°+++++++++°\n",
        "#  Ex 3 recipes for adding labels\n",
        "#+++++++°+++++++++°+++++++++°+++++++++°+++++++++°+++++++++°+++++++++°+++++++++°\n",
        "\n",
        "number_of_rows = 3\n",
        "means=c(100, 120, 130, 145)\n",
        "sds=c(10 ,20 ,40 ,10)\n",
        "\n",
        "dat <- lapply(\n",
        "       seq(1,length(means)) ,\n",
        "       function(x) rnorm(number_of_rows,m = means[x], sds[x])\n",
        "       )\n",
        "dat <- as.data.frame(do.call(cbind, dat))\n",
        " \n",
        "names_length = 3\n",
        "dictionary_size <- 10\n",
        "my_labels <- sort(\n",
        "            replicate(\n",
        "            length(means),\n",
        "            paste(sample(LETTERS[1:dictionary_size],\n",
        "            names_length,\n",
        "            replace = TRUE),\n",
        "            collapse=\"\")\n",
        "            )\n",
        "            )\n",
        "my_labels <- unlist(strsplit(my_labels,\" \"))  \n",
        "colnames(dat) <- my_labels\n",
        "\n",
        "dat"
      ],
      "outputs": [
        {
          "output_type": "display_data",
          "data": {
            "text/html": "<table>\n<caption>A data.frame: 3 × 4</caption>\n<thead>\n\t<tr><th scope=col>AEE</th><th scope=col>EJG</th><th scope=col>GCB</th><th scope=col>HJB</th></tr>\n\t<tr><th scope=col>&lt;dbl&gt;</th><th scope=col>&lt;dbl&gt;</th><th scope=col>&lt;dbl&gt;</th><th scope=col>&lt;dbl&gt;</th></tr>\n</thead>\n<tbody>\n\t<tr><td>112.84129</td><td>134.70014</td><td> 85.59177</td><td>152.8205</td></tr>\n\t<tr><td> 90.87335</td><td>112.58295</td><td>120.14683</td><td>163.0333</td></tr>\n\t<tr><td>110.84161</td><td> 96.70662</td><td>108.93522</td><td>145.0431</td></tr>\n</tbody>\n</table>\n",
            "text/markdown": "\nA data.frame: 3 × 4\n\n| AEE &lt;dbl&gt; | EJG &lt;dbl&gt; | GCB &lt;dbl&gt; | HJB &lt;dbl&gt; |\n|---|---|---|---|\n| 112.84129 | 134.70014 |  85.59177 | 152.8205 |\n|  90.87335 | 112.58295 | 120.14683 | 163.0333 |\n| 110.84161 |  96.70662 | 108.93522 | 145.0431 |\n\n",
            "text/latex": "A data.frame: 3 × 4\n\\begin{tabular}{llll}\n AEE & EJG & GCB & HJB\\\\\n <dbl> & <dbl> & <dbl> & <dbl>\\\\\n\\hline\n\t 112.84129 & 134.70014 &  85.59177 & 152.8205\\\\\n\t  90.87335 & 112.58295 & 120.14683 & 163.0333\\\\\n\t 110.84161 &  96.70662 & 108.93522 & 145.0431\\\\\n\\end{tabular}\n",
            "text/plain": "  AEE       EJG       GCB       HJB     \n1 112.84129 134.70014  85.59177 152.8205\n2  90.87335 112.58295 120.14683 163.0333\n3 110.84161  96.70662 108.93522 145.0431"
          },
          "metadata": {}
        }
      ],
      "execution_count": 3,
      "metadata": {
        "execution": {
          "iopub.execute_input": "2021-06-19T15:02:58.116Z",
          "iopub.status.busy": "2021-06-19T15:02:58.109Z",
          "iopub.status.idle": "2021-06-19T15:02:58.152Z",
          "shell.execute_reply": "2021-06-19T15:02:58.180Z"
        },
        "jupyter": {
          "outputs_hidden": false,
          "source_hidden": false
        },
        "nteract": {
          "transient": {
            "deleting": false
          }
        }
      }
    },
    {
      "cell_type": "markdown",
      "source": [
        "- Same as above but shorter "
      ],
      "metadata": {
        "nteract": {
          "transient": {
            "deleting": false
          }
        }
      }
    },
    {
      "cell_type": "code",
      "source": [
        "\n",
        "#+++++++°+++++++++°+++++++++°+++++++++°+++++++++°+++++++++°+++++++++°+++++++++°\n",
        "#  Ex 4 a variation on recipe 2 \n",
        "#+++++++°+++++++++°+++++++++°+++++++++°+++++++++°+++++++++°+++++++++°+++++++++°\n",
        "\n",
        "# building a function for generating data with custom number of rows, means and sds\n",
        "\n",
        "simpleDataset <- function(number_of_rows,means,sds)\n",
        "{\n",
        "l <- length(means)\n",
        "res <- lapply(seq(1:l),function(x) \n",
        "\t   eval(\n",
        "\t   parse(text=paste(\"rnorm(\",number_of_rows,\",\",means[x],\",\",sds[x],\")\",sep=\"\")))\n",
        "\t   ) \n",
        "dat <- data.frame((sapply(res,c)))\n",
        "id <- rownames(dat)\n",
        "dat <-  cbind(id=id,dat)\n",
        "dt <- data.table(dat)\n",
        "return(dt)\n",
        "}\n",
        "\n",
        "\n",
        "dat1 <- simpleDataset(number_of_rows=30,\n",
        "\t\t\t\t\t  means=c(180,200,205),\n",
        "\t\t\t\t      sds=c(30,20,25))\n",
        "\t\t\t\t  \n",
        "dat2 <- simpleDataset(number_of_rows=30,\n",
        "\t\t\t\t\t  means=c(45,50,35),\n",
        "\t\t\t\t      sds=c(2,10,5))\n",
        "\t\t\t\t\t  \n",
        "dat <-  rbind(dat1,dat2)\n",
        "# rearranging table using melt from data.table \n",
        "dt.melt <- melt(dat, id.vars=\"id\")\n",
        "colnames(dt.melt) <- c(\"id\",\"category\",\"var1\")\n"
      ],
      "outputs": [],
      "execution_count": 4,
      "metadata": {
        "execution": {
          "iopub.execute_input": "2021-06-19T15:02:58.166Z",
          "iopub.status.busy": "2021-06-19T15:02:58.160Z",
          "iopub.status.idle": "2021-06-19T15:02:58.208Z",
          "shell.execute_reply": "2021-06-19T15:02:58.198Z"
        },
        "jupyter": {
          "outputs_hidden": false,
          "source_hidden": false
        },
        "nteract": {
          "transient": {
            "deleting": false
          }
        }
      }
    },
    {
      "cell_type": "markdown",
      "source": [
        "- to create sample names or labels (see https://stackoverflow.com/a/60789938/6483091)\n"
      ],
      "metadata": {
        "nteract": {
          "transient": {
            "deleting": false
          }
        }
      }
    },
    {
      "cell_type": "markdown",
      "source": [
        "*note on the code*: the core line is `parse(text=paste(\"rnorm(\",number_of_rows,\",\",means[x],\",\",sds[x],\")\",sep=\"\")))` where we use `parse` inside the `lapply`"
      ],
      "metadata": {}
    },
    {
      "cell_type": "code",
      "source": [
        "\n",
        "#+++++++°+++++++++°+++++++++°+++++++++°+++++++++°+++++++++°+++++++++°+++++++++°\n",
        "#  More recipes for labelling\n",
        "#+++++++°+++++++++°+++++++++°+++++++++°+++++++++°+++++++++°+++++++++°+++++++++°\n",
        "\n",
        "#short names\n",
        "my_labels <- letters[1:5]\n",
        "my_labels\n",
        "# or <- \n",
        "my_labels <- LETTERS[1:5]\n",
        "my_labels\n",
        "# or arbitrary number of letters using roman letters as in the \n",
        "#function \n",
        "# letters() or LETTERS()\n",
        "\n",
        "dictionary_size <- 7\n",
        "label_length <- 5 \n",
        "n_replicates <- 3\n",
        "\n",
        "#random\n",
        "\n",
        "my_labels <- replicate(\n",
        "             n_replicates,\n",
        "             paste(sample(LETTERS[1:dictionary_size],\n",
        "             label_length,\n",
        "             replace = TRUE),\n",
        "             collapse=\"\")\n",
        "             )\n",
        "my_labels\n",
        "\n",
        "#sorted\n",
        "\n",
        "my_labels_sorted <- sort(replicate(\n",
        "                    n_replicates, \n",
        "                    paste\n",
        "                    (sample(LETTERS[1:dictionary_size],\n",
        "                     label_length,\n",
        "                     replace = TRUE),\n",
        "                     collapse=\"\")\n",
        "                    )\n",
        "                    )\n",
        "my_labels_sorted\n",
        "#if you want to mix letters and numbers\n",
        "\n",
        "alfanum_labels <- paste0(rep(LETTERS[1:dictionary_size],\n",
        "                             each = n_replicates),\n",
        "                             sep = \"-\",\n",
        "                             1:n_replicates)\n",
        "alfanum_labels"
      ],
      "outputs": [
        {
          "output_type": "display_data",
          "data": {
            "text/html": "<style>\n.list-inline {list-style: none; margin:0; padding: 0}\n.list-inline>li {display: inline-block}\n.list-inline>li:not(:last-child)::after {content: \"\\00b7\"; padding: 0 .5ex}\n</style>\n<ol class=list-inline><li>'a'</li><li>'b'</li><li>'c'</li><li>'d'</li><li>'e'</li></ol>\n",
            "text/markdown": "1. 'a'\n2. 'b'\n3. 'c'\n4. 'd'\n5. 'e'\n\n\n",
            "text/latex": "\\begin{enumerate*}\n\\item 'a'\n\\item 'b'\n\\item 'c'\n\\item 'd'\n\\item 'e'\n\\end{enumerate*}\n",
            "text/plain": "[1] \"a\" \"b\" \"c\" \"d\" \"e\""
          },
          "metadata": {}
        },
        {
          "output_type": "display_data",
          "data": {
            "text/html": "<style>\n.list-inline {list-style: none; margin:0; padding: 0}\n.list-inline>li {display: inline-block}\n.list-inline>li:not(:last-child)::after {content: \"\\00b7\"; padding: 0 .5ex}\n</style>\n<ol class=list-inline><li>'A'</li><li>'B'</li><li>'C'</li><li>'D'</li><li>'E'</li></ol>\n",
            "text/markdown": "1. 'A'\n2. 'B'\n3. 'C'\n4. 'D'\n5. 'E'\n\n\n",
            "text/latex": "\\begin{enumerate*}\n\\item 'A'\n\\item 'B'\n\\item 'C'\n\\item 'D'\n\\item 'E'\n\\end{enumerate*}\n",
            "text/plain": "[1] \"A\" \"B\" \"C\" \"D\" \"E\""
          },
          "metadata": {}
        },
        {
          "output_type": "display_data",
          "data": {
            "text/html": "<style>\n.list-inline {list-style: none; margin:0; padding: 0}\n.list-inline>li {display: inline-block}\n.list-inline>li:not(:last-child)::after {content: \"\\00b7\"; padding: 0 .5ex}\n</style>\n<ol class=list-inline><li>'GBEAF'</li><li>'DCEAC'</li><li>'FBGDG'</li></ol>\n",
            "text/markdown": "1. 'GBEAF'\n2. 'DCEAC'\n3. 'FBGDG'\n\n\n",
            "text/latex": "\\begin{enumerate*}\n\\item 'GBEAF'\n\\item 'DCEAC'\n\\item 'FBGDG'\n\\end{enumerate*}\n",
            "text/plain": "[1] \"GBEAF\" \"DCEAC\" \"FBGDG\""
          },
          "metadata": {}
        },
        {
          "output_type": "display_data",
          "data": {
            "text/html": "<style>\n.list-inline {list-style: none; margin:0; padding: 0}\n.list-inline>li {display: inline-block}\n.list-inline>li:not(:last-child)::after {content: \"\\00b7\"; padding: 0 .5ex}\n</style>\n<ol class=list-inline><li>'BGGEB'</li><li>'EDBBE'</li><li>'GGEBF'</li></ol>\n",
            "text/markdown": "1. 'BGGEB'\n2. 'EDBBE'\n3. 'GGEBF'\n\n\n",
            "text/latex": "\\begin{enumerate*}\n\\item 'BGGEB'\n\\item 'EDBBE'\n\\item 'GGEBF'\n\\end{enumerate*}\n",
            "text/plain": "[1] \"BGGEB\" \"EDBBE\" \"GGEBF\""
          },
          "metadata": {}
        },
        {
          "output_type": "display_data",
          "data": {
            "text/html": "<style>\n.list-inline {list-style: none; margin:0; padding: 0}\n.list-inline>li {display: inline-block}\n.list-inline>li:not(:last-child)::after {content: \"\\00b7\"; padding: 0 .5ex}\n</style>\n<ol class=list-inline><li>'A-1'</li><li>'A-2'</li><li>'A-3'</li><li>'B-1'</li><li>'B-2'</li><li>'B-3'</li><li>'C-1'</li><li>'C-2'</li><li>'C-3'</li><li>'D-1'</li><li>'D-2'</li><li>'D-3'</li><li>'E-1'</li><li>'E-2'</li><li>'E-3'</li><li>'F-1'</li><li>'F-2'</li><li>'F-3'</li><li>'G-1'</li><li>'G-2'</li><li>'G-3'</li></ol>\n",
            "text/markdown": "1. 'A-1'\n2. 'A-2'\n3. 'A-3'\n4. 'B-1'\n5. 'B-2'\n6. 'B-3'\n7. 'C-1'\n8. 'C-2'\n9. 'C-3'\n10. 'D-1'\n11. 'D-2'\n12. 'D-3'\n13. 'E-1'\n14. 'E-2'\n15. 'E-3'\n16. 'F-1'\n17. 'F-2'\n18. 'F-3'\n19. 'G-1'\n20. 'G-2'\n21. 'G-3'\n\n\n",
            "text/latex": "\\begin{enumerate*}\n\\item 'A-1'\n\\item 'A-2'\n\\item 'A-3'\n\\item 'B-1'\n\\item 'B-2'\n\\item 'B-3'\n\\item 'C-1'\n\\item 'C-2'\n\\item 'C-3'\n\\item 'D-1'\n\\item 'D-2'\n\\item 'D-3'\n\\item 'E-1'\n\\item 'E-2'\n\\item 'E-3'\n\\item 'F-1'\n\\item 'F-2'\n\\item 'F-3'\n\\item 'G-1'\n\\item 'G-2'\n\\item 'G-3'\n\\end{enumerate*}\n",
            "text/plain": " [1] \"A-1\" \"A-2\" \"A-3\" \"B-1\" \"B-2\" \"B-3\" \"C-1\" \"C-2\" \"C-3\" \"D-1\" \"D-2\" \"D-3\"\n[13] \"E-1\" \"E-2\" \"E-3\" \"F-1\" \"F-2\" \"F-3\" \"G-1\" \"G-2\" \"G-3\""
          },
          "metadata": {}
        }
      ],
      "execution_count": 5,
      "metadata": {
        "execution": {
          "iopub.execute_input": "2021-06-19T15:02:58.220Z",
          "iopub.status.busy": "2021-06-19T15:02:58.215Z",
          "iopub.status.idle": "2021-06-19T15:02:58.267Z",
          "shell.execute_reply": "2021-06-19T15:02:58.288Z"
        },
        "jupyter": {
          "outputs_hidden": false,
          "source_hidden": false
        },
        "nteract": {
          "transient": {
            "deleting": false
          }
        }
      }
    }
  ],
  "metadata": {
    "kernel_info": {
      "name": "ir"
    },
    "kernelspec": {
      "display_name": "R",
      "language": "R",
      "name": "ir"
    },
    "language_info": {
      "name": "R",
      "codemirror_mode": "r",
      "pygments_lexer": "r",
      "mimetype": "text/x-r-source",
      "file_extension": ".r",
      "version": "4.0.2"
    },
    "nteract": {
      "version": "0.28.0"
    },
    "title": "VegaLite for R"
  },
  "nbformat": 4,
  "nbformat_minor": 4
}