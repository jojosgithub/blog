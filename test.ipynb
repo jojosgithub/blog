{
  "cells": [
    {
      "cell_type": "code",
      "source": [
        "library(IRdisplay)\n",
        "\n",
        "\n",
        "display_html(\n",
        "'<script>  \n",
        "code_show=true; \n",
        "function code_toggle() {\n",
        "  if (code_show){\n",
        "    $(\\'div.input\\').hide();\n",
        "  } else {\n",
        "    $(\\'div.input\\').show();\n",
        "  }\n",
        "  code_show = !code_show\n",
        "}  \n",
        "$( document ).ready(code_toggle);\n",
        "</script>\n",
        "  <form action=\"javascript:code_toggle()\">\n",
        "    <input type=\"submit\" value=\"Click here to toggle on/off the raw code.\">\n",
        " </form>'\n",
        ")\n",
        "\n",
        "data <- list(list(x=c(1999, 2000, 2001, 2002), y=c(10, 15, 13, 17), type='scatter'))\n",
        "figure <- list(data=data)\n",
        "\n",
        "mimebundle <- list('application/vnd.plotly.v1+json'=figure)\n",
        "#mimebundle[[]] <- figure\n",
        "IRdisplay::publish_mimebundle(mimebundle)"
      ],
      "outputs": [
        {
          "output_type": "display_data",
          "data": {
            "application/vnd.plotly.v1+json": {
              "data": [
                {
                  "x": [
                    1999,
                    2000,
                    2001,
                    2002
                  ],
                  "y": [
                    10,
                    15,
                    13,
                    17
                  ],
                  "type": "scatter"
                }
              ]
            }
          },
          "metadata": {}
        }
      ],
      "execution_count": 1,
      "metadata": {
        "collapsed": false
      }
    },
    {
      "cell_type": "code",
      "source": [],
      "outputs": [],
      "execution_count": null,
      "metadata": {
        "collapsed": false,
        "outputHidden": false,
        "inputHidden": false
      }
    }
  ],
  "metadata": {
    "kernel_info": {
      "name": "ir"
    },
    "kernelspec": {
      "name": "ir",
      "language": "R",
      "display_name": "R"
    },
    "language_info": {
      "name": "R",
      "codemirror_mode": "r",
      "pygments_lexer": "r",
      "mimetype": "text/x-r-source",
      "file_extension": ".r",
      "version": "3.4.1"
    },
    "title": "Raw Plotly",
    "nteract": {
      "version": "0.28.0"
    }
  },
  "nbformat": 4,
  "nbformat_minor": 0
}